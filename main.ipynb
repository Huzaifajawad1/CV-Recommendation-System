{
 "cells": [
  {
   "attachments": {},
   "cell_type": "markdown",
   "metadata": {
    "id": "LhOslm_cswec"
   },
   "source": [
    "# Dataset\n",
    "\n",
    "Dataset : https://www.kaggle.com/snehaanbhawal/resume-dataset"
   ]
  },
  {
   "cell_type": "markdown",
   "metadata": {
    "id": "rX7aN7T2tXSI"
   },
   "source": [
    "## Import"
   ]
  },
  {
   "cell_type": "code",
   "execution_count": 4,
   "metadata": {
    "colab": {
     "base_uri": "https://localhost:8080/"
    },
    "id": "a2DFo5vagMO4",
    "outputId": "0dc81236-df8e-406b-fb24-c65ab155d7e0"
   },
   "outputs": [
    {
     "name": "stdout",
     "output_type": "stream",
     "text": [
      "Requirement already satisfied: spacy in c:\\users\\lenovo\\appdata\\local\\programs\\python\\python311\\lib\\site-packages (3.5.3)\n",
      "Requirement already satisfied: gensim in c:\\users\\lenovo\\appdata\\local\\programs\\python\\python311\\lib\\site-packages (4.3.1)\n",
      "Collecting pyLDAvis\n",
      "  Using cached pyLDAvis-3.4.1-py3-none-any.whl (2.6 MB)\n",
      "Collecting wordcloud\n",
      "  Using cached wordcloud-1.9.1.1.tar.gz (222 kB)\n",
      "  Preparing metadata (setup.py): started\n",
      "  Preparing metadata (setup.py): finished with status 'done'\n",
      "Collecting plotly\n",
      "  Using cached plotly-5.14.1-py2.py3-none-any.whl (15.3 MB)\n",
      "Requirement already satisfied: nltk in c:\\users\\lenovo\\appdata\\local\\programs\\python\\python311\\lib\\site-packages (3.8.1)\n",
      "Requirement already satisfied: spacy-legacy<3.1.0,>=3.0.11 in c:\\users\\lenovo\\appdata\\local\\programs\\python\\python311\\lib\\site-packages (from spacy) (3.0.12)\n",
      "Requirement already satisfied: spacy-loggers<2.0.0,>=1.0.0 in c:\\users\\lenovo\\appdata\\local\\programs\\python\\python311\\lib\\site-packages (from spacy) (1.0.4)\n",
      "Requirement already satisfied: murmurhash<1.1.0,>=0.28.0 in c:\\users\\lenovo\\appdata\\local\\programs\\python\\python311\\lib\\site-packages (from spacy) (1.0.9)\n",
      "Requirement already satisfied: cymem<2.1.0,>=2.0.2 in c:\\users\\lenovo\\appdata\\local\\programs\\python\\python311\\lib\\site-packages (from spacy) (2.0.7)\n",
      "Requirement already satisfied: preshed<3.1.0,>=3.0.2 in c:\\users\\lenovo\\appdata\\local\\programs\\python\\python311\\lib\\site-packages (from spacy) (3.0.8)\n",
      "Requirement already satisfied: thinc<8.2.0,>=8.1.8 in c:\\users\\lenovo\\appdata\\local\\programs\\python\\python311\\lib\\site-packages (from spacy) (8.1.10)\n",
      "Requirement already satisfied: wasabi<1.2.0,>=0.9.1 in c:\\users\\lenovo\\appdata\\local\\programs\\python\\python311\\lib\\site-packages (from spacy) (1.1.1)\n",
      "Requirement already satisfied: srsly<3.0.0,>=2.4.3 in c:\\users\\lenovo\\appdata\\local\\programs\\python\\python311\\lib\\site-packages (from spacy) (2.4.6)\n",
      "Requirement already satisfied: catalogue<2.1.0,>=2.0.6 in c:\\users\\lenovo\\appdata\\local\\programs\\python\\python311\\lib\\site-packages (from spacy) (2.0.8)\n",
      "Requirement already satisfied: typer<0.8.0,>=0.3.0 in c:\\users\\lenovo\\appdata\\local\\programs\\python\\python311\\lib\\site-packages (from spacy) (0.7.0)\n",
      "Requirement already satisfied: pathy>=0.10.0 in c:\\users\\lenovo\\appdata\\local\\programs\\python\\python311\\lib\\site-packages (from spacy) (0.10.1)\n",
      "Requirement already satisfied: smart-open<7.0.0,>=5.2.1 in c:\\users\\lenovo\\appdata\\local\\programs\\python\\python311\\lib\\site-packages (from spacy) (6.3.0)\n",
      "Requirement already satisfied: tqdm<5.0.0,>=4.38.0 in c:\\users\\lenovo\\appdata\\local\\programs\\python\\python311\\lib\\site-packages (from spacy) (4.65.0)\n",
      "Requirement already satisfied: numpy>=1.15.0 in c:\\users\\lenovo\\appdata\\local\\programs\\python\\python311\\lib\\site-packages (from spacy) (1.24.3)\n",
      "Requirement already satisfied: requests<3.0.0,>=2.13.0 in c:\\users\\lenovo\\appdata\\local\\programs\\python\\python311\\lib\\site-packages (from spacy) (2.28.2)\n",
      "Requirement already satisfied: pydantic!=1.8,!=1.8.1,<1.11.0,>=1.7.4 in c:\\users\\lenovo\\appdata\\local\\programs\\python\\python311\\lib\\site-packages (from spacy) (1.10.7)\n",
      "Requirement already satisfied: jinja2 in c:\\users\\lenovo\\appdata\\local\\programs\\python\\python311\\lib\\site-packages (from spacy) (3.1.2)\n",
      "Requirement already satisfied: setuptools in c:\\users\\lenovo\\appdata\\local\\programs\\python\\python311\\lib\\site-packages (from spacy) (65.5.0)\n",
      "Requirement already satisfied: packaging>=20.0 in c:\\users\\lenovo\\appdata\\roaming\\python\\python311\\site-packages (from spacy) (23.0)\n",
      "Requirement already satisfied: langcodes<4.0.0,>=3.2.0 in c:\\users\\lenovo\\appdata\\local\\programs\\python\\python311\\lib\\site-packages (from spacy) (3.3.0)\n",
      "Requirement already satisfied: scipy>=1.7.0 in c:\\users\\lenovo\\appdata\\local\\programs\\python\\python311\\lib\\site-packages (from gensim) (1.10.0)\n",
      "Collecting pandas>=2.0.0\n",
      "  Using cached pandas-2.0.1-cp311-cp311-win_amd64.whl (10.6 MB)\n",
      "Requirement already satisfied: joblib>=1.2.0 in c:\\users\\lenovo\\appdata\\local\\programs\\python\\python311\\lib\\site-packages (from pyLDAvis) (1.2.0)\n",
      "Collecting numexpr\n",
      "  Using cached numexpr-2.8.4-cp311-cp311-win_amd64.whl (92 kB)\n",
      "Requirement already satisfied: funcy in c:\\users\\lenovo\\appdata\\local\\programs\\python\\python311\\lib\\site-packages (from pyLDAvis) (2.0)\n",
      "Requirement already satisfied: scikit-learn>=1.0.0 in c:\\users\\lenovo\\appdata\\local\\programs\\python\\python311\\lib\\site-packages (from pyLDAvis) (1.2.1)\n",
      "Requirement already satisfied: pillow in c:\\users\\lenovo\\appdata\\roaming\\python\\python311\\site-packages (from wordcloud) (9.4.0)\n",
      "Requirement already satisfied: matplotlib in c:\\users\\lenovo\\appdata\\roaming\\python\\python311\\site-packages (from wordcloud) (3.6.3)\n",
      "Requirement already satisfied: tenacity>=6.2.0 in c:\\users\\lenovo\\appdata\\local\\programs\\python\\python311\\lib\\site-packages (from plotly) (8.2.2)\n",
      "Requirement already satisfied: click in c:\\users\\lenovo\\appdata\\local\\programs\\python\\python311\\lib\\site-packages (from nltk) (8.1.3)\n",
      "Requirement already satisfied: regex>=2021.8.3 in c:\\users\\lenovo\\appdata\\local\\programs\\python\\python311\\lib\\site-packages (from nltk) (2022.10.31)\n",
      "Requirement already satisfied: python-dateutil>=2.8.2 in c:\\users\\lenovo\\appdata\\roaming\\python\\python311\\site-packages (from pandas>=2.0.0->pyLDAvis) (2.8.2)\n",
      "Requirement already satisfied: pytz>=2020.1 in c:\\users\\lenovo\\appdata\\local\\programs\\python\\python311\\lib\\site-packages (from pandas>=2.0.0->pyLDAvis) (2022.7.1)\n",
      "Requirement already satisfied: tzdata>=2022.1 in c:\\users\\lenovo\\appdata\\local\\programs\\python\\python311\\lib\\site-packages (from pandas>=2.0.0->pyLDAvis) (2023.3)\n",
      "Requirement already satisfied: typing-extensions>=4.2.0 in c:\\users\\lenovo\\appdata\\local\\programs\\python\\python311\\lib\\site-packages (from pydantic!=1.8,!=1.8.1,<1.11.0,>=1.7.4->spacy) (4.5.0)\n",
      "Requirement already satisfied: charset-normalizer<4,>=2 in c:\\users\\lenovo\\appdata\\local\\programs\\python\\python311\\lib\\site-packages (from requests<3.0.0,>=2.13.0->spacy) (3.1.0)\n",
      "Requirement already satisfied: idna<4,>=2.5 in c:\\users\\lenovo\\appdata\\local\\programs\\python\\python311\\lib\\site-packages (from requests<3.0.0,>=2.13.0->spacy) (3.4)\n",
      "Requirement already satisfied: urllib3<1.27,>=1.21.1 in c:\\users\\lenovo\\appdata\\local\\programs\\python\\python311\\lib\\site-packages (from requests<3.0.0,>=2.13.0->spacy) (1.26.15)\n",
      "Requirement already satisfied: certifi>=2017.4.17 in c:\\users\\lenovo\\appdata\\local\\programs\\python\\python311\\lib\\site-packages (from requests<3.0.0,>=2.13.0->spacy) (2022.12.7)\n",
      "Requirement already satisfied: threadpoolctl>=2.0.0 in c:\\users\\lenovo\\appdata\\local\\programs\\python\\python311\\lib\\site-packages (from scikit-learn>=1.0.0->pyLDAvis) (3.1.0)\n",
      "Requirement already satisfied: blis<0.8.0,>=0.7.8 in c:\\users\\lenovo\\appdata\\local\\programs\\python\\python311\\lib\\site-packages (from thinc<8.2.0,>=8.1.8->spacy) (0.7.9)\n",
      "Requirement already satisfied: confection<1.0.0,>=0.0.1 in c:\\users\\lenovo\\appdata\\local\\programs\\python\\python311\\lib\\site-packages (from thinc<8.2.0,>=8.1.8->spacy) (0.0.4)\n",
      "Requirement already satisfied: colorama in c:\\users\\lenovo\\appdata\\local\\programs\\python\\python311\\lib\\site-packages (from tqdm<5.0.0,>=4.38.0->spacy) (0.4.6)\n",
      "Requirement already satisfied: MarkupSafe>=2.0 in c:\\users\\lenovo\\appdata\\local\\programs\\python\\python311\\lib\\site-packages (from jinja2->spacy) (2.1.2)\n",
      "Requirement already satisfied: contourpy>=1.0.1 in c:\\users\\lenovo\\appdata\\roaming\\python\\python311\\site-packages (from matplotlib->wordcloud) (1.0.7)\n",
      "Requirement already satisfied: cycler>=0.10 in c:\\users\\lenovo\\appdata\\roaming\\python\\python311\\site-packages (from matplotlib->wordcloud) (0.11.0)\n",
      "Requirement already satisfied: fonttools>=4.22.0 in c:\\users\\lenovo\\appdata\\roaming\\python\\python311\\site-packages (from matplotlib->wordcloud) (4.38.0)\n",
      "Requirement already satisfied: kiwisolver>=1.0.1 in c:\\users\\lenovo\\appdata\\roaming\\python\\python311\\site-packages (from matplotlib->wordcloud) (1.4.4)\n",
      "Requirement already satisfied: pyparsing>=2.2.1 in c:\\users\\lenovo\\appdata\\roaming\\python\\python311\\site-packages (from matplotlib->wordcloud) (3.0.9)\n",
      "Requirement already satisfied: six>=1.5 in c:\\users\\lenovo\\appdata\\roaming\\python\\python311\\site-packages (from python-dateutil>=2.8.2->pandas>=2.0.0->pyLDAvis) (1.16.0)\n",
      "Building wheels for collected packages: wordcloud\n",
      "  Building wheel for wordcloud (setup.py): started\n",
      "  Building wheel for wordcloud (setup.py): finished with status 'error'\n",
      "  Running setup.py clean for wordcloud\n",
      "Failed to build wordcloud\n",
      "Installing collected packages: plotly, numexpr, pandas, wordcloud, pyLDAvis\n",
      "  Attempting uninstall: pandas\n",
      "    Found existing installation: pandas 1.5.3\n",
      "    Uninstalling pandas-1.5.3:\n",
      "      Successfully uninstalled pandas-1.5.3\n",
      "  Running setup.py install for wordcloud: started\n",
      "  Running setup.py install for wordcloud: finished with status 'error'\n"
     ]
    },
    {
     "name": "stderr",
     "output_type": "stream",
     "text": [
      "  error: subprocess-exited-with-error\n",
      "  \n",
      "  × python setup.py bdist_wheel did not run successfully.\n",
      "  │ exit code: 1\n",
      "  ╰─> [20 lines of output]\n",
      "      running bdist_wheel\n",
      "      running build\n",
      "      running build_py\n",
      "      creating build\n",
      "      creating build\\lib.win-amd64-cpython-311\n",
      "      creating build\\lib.win-amd64-cpython-311\\wordcloud\n",
      "      copying wordcloud\\color_from_image.py -> build\\lib.win-amd64-cpython-311\\wordcloud\n",
      "      copying wordcloud\\tokenization.py -> build\\lib.win-amd64-cpython-311\\wordcloud\n",
      "      copying wordcloud\\wordcloud.py -> build\\lib.win-amd64-cpython-311\\wordcloud\n",
      "      copying wordcloud\\wordcloud_cli.py -> build\\lib.win-amd64-cpython-311\\wordcloud\n",
      "      copying wordcloud\\_version.py -> build\\lib.win-amd64-cpython-311\\wordcloud\n",
      "      copying wordcloud\\__init__.py -> build\\lib.win-amd64-cpython-311\\wordcloud\n",
      "      copying wordcloud\\__main__.py -> build\\lib.win-amd64-cpython-311\\wordcloud\n",
      "      copying wordcloud\\stopwords -> build\\lib.win-amd64-cpython-311\\wordcloud\n",
      "      copying wordcloud\\DroidSansMono.ttf -> build\\lib.win-amd64-cpython-311\\wordcloud\n",
      "      UPDATING build\\lib.win-amd64-cpython-311\\wordcloud/_version.py\n",
      "      set build\\lib.win-amd64-cpython-311\\wordcloud/_version.py to '1.9.1.1'\n",
      "      running build_ext\n",
      "      building 'wordcloud.query_integral_image' extension\n",
      "      error: Microsoft Visual C++ 14.0 or greater is required. Get it with \"Microsoft C++ Build Tools\": https://visualstudio.microsoft.com/visual-cpp-build-tools/\n",
      "      [end of output]\n",
      "  \n",
      "  note: This error originates from a subprocess, and is likely not a problem with pip.\n",
      "  ERROR: Failed building wheel for wordcloud\n",
      "  error: subprocess-exited-with-error\n",
      "  \n",
      "  × Running setup.py install for wordcloud did not run successfully.\n",
      "  │ exit code: 1\n",
      "  ╰─> [22 lines of output]\n",
      "      running install\n",
      "      C:\\Users\\LENOVO\\AppData\\Local\\Programs\\Python\\Python311\\Lib\\site-packages\\setuptools\\command\\install.py:34: SetuptoolsDeprecationWarning: setup.py install is deprecated. Use build and pip and other standards-based tools.\n",
      "        warnings.warn(\n",
      "      running build\n",
      "      running build_py\n",
      "      creating build\n",
      "      creating build\\lib.win-amd64-cpython-311\n",
      "      creating build\\lib.win-amd64-cpython-311\\wordcloud\n",
      "      copying wordcloud\\color_from_image.py -> build\\lib.win-amd64-cpython-311\\wordcloud\n",
      "      copying wordcloud\\tokenization.py -> build\\lib.win-amd64-cpython-311\\wordcloud\n",
      "      copying wordcloud\\wordcloud.py -> build\\lib.win-amd64-cpython-311\\wordcloud\n",
      "      copying wordcloud\\wordcloud_cli.py -> build\\lib.win-amd64-cpython-311\\wordcloud\n",
      "      copying wordcloud\\_version.py -> build\\lib.win-amd64-cpython-311\\wordcloud\n",
      "      copying wordcloud\\__init__.py -> build\\lib.win-amd64-cpython-311\\wordcloud\n",
      "      copying wordcloud\\__main__.py -> build\\lib.win-amd64-cpython-311\\wordcloud\n",
      "      copying wordcloud\\stopwords -> build\\lib.win-amd64-cpython-311\\wordcloud\n",
      "      copying wordcloud\\DroidSansMono.ttf -> build\\lib.win-amd64-cpython-311\\wordcloud\n",
      "      UPDATING build\\lib.win-amd64-cpython-311\\wordcloud/_version.py\n",
      "      set build\\lib.win-amd64-cpython-311\\wordcloud/_version.py to '1.9.1.1'\n",
      "      running build_ext\n",
      "      building 'wordcloud.query_integral_image' extension\n",
      "      error: Microsoft Visual C++ 14.0 or greater is required. Get it with \"Microsoft C++ Build Tools\": https://visualstudio.microsoft.com/visual-cpp-build-tools/\n",
      "      [end of output]\n",
      "  \n",
      "  note: This error originates from a subprocess, and is likely not a problem with pip.\n",
      "error: legacy-install-failure\n",
      "\n",
      "× Encountered error while trying to install package.\n",
      "╰─> wordcloud\n",
      "\n",
      "note: This is an issue with the package mentioned above, not pip.\n",
      "hint: See above for output from the failure.\n",
      "\n",
      "[notice] A new release of pip is available: 23.0.1 -> 23.1.2\n",
      "[notice] To update, run: python.exe -m pip install --upgrade pip\n",
      "[nltk_data] Downloading package stopwords to\n",
      "[nltk_data]     C:\\Users\\LENOVO\\AppData\\Roaming\\nltk_data...\n",
      "[nltk_data]   Package stopwords is already up-to-date!\n",
      "[nltk_data] Downloading package wordnet to\n",
      "[nltk_data]     C:\\Users\\LENOVO\\AppData\\Roaming\\nltk_data...\n",
      "[nltk_data]   Package wordnet is already up-to-date!\n"
     ]
    },
    {
     "name": "stdout",
     "output_type": "stream",
     "text": [
      "Requirement already satisfied: spacy in c:\\users\\lenovo\\appdata\\local\\programs\\python\\python311\\lib\\site-packages (3.5.3)\n",
      "Requirement already satisfied: spacy-legacy<3.1.0,>=3.0.11 in c:\\users\\lenovo\\appdata\\local\\programs\\python\\python311\\lib\\site-packages (from spacy) (3.0.12)\n",
      "Requirement already satisfied: spacy-loggers<2.0.0,>=1.0.0 in c:\\users\\lenovo\\appdata\\local\\programs\\python\\python311\\lib\\site-packages (from spacy) (1.0.4)\n",
      "Requirement already satisfied: murmurhash<1.1.0,>=0.28.0 in c:\\users\\lenovo\\appdata\\local\\programs\\python\\python311\\lib\\site-packages (from spacy) (1.0.9)\n",
      "Requirement already satisfied: cymem<2.1.0,>=2.0.2 in c:\\users\\lenovo\\appdata\\local\\programs\\python\\python311\\lib\\site-packages (from spacy) (2.0.7)\n",
      "Requirement already satisfied: preshed<3.1.0,>=3.0.2 in c:\\users\\lenovo\\appdata\\local\\programs\\python\\python311\\lib\\site-packages (from spacy) (3.0.8)\n",
      "Requirement already satisfied: thinc<8.2.0,>=8.1.8 in c:\\users\\lenovo\\appdata\\local\\programs\\python\\python311\\lib\\site-packages (from spacy) (8.1.10)\n",
      "Requirement already satisfied: wasabi<1.2.0,>=0.9.1 in c:\\users\\lenovo\\appdata\\local\\programs\\python\\python311\\lib\\site-packages (from spacy) (1.1.1)\n",
      "Requirement already satisfied: srsly<3.0.0,>=2.4.3 in c:\\users\\lenovo\\appdata\\local\\programs\\python\\python311\\lib\\site-packages (from spacy) (2.4.6)\n",
      "Requirement already satisfied: catalogue<2.1.0,>=2.0.6 in c:\\users\\lenovo\\appdata\\local\\programs\\python\\python311\\lib\\site-packages (from spacy) (2.0.8)\n",
      "Requirement already satisfied: typer<0.8.0,>=0.3.0 in c:\\users\\lenovo\\appdata\\local\\programs\\python\\python311\\lib\\site-packages (from spacy) (0.7.0)\n",
      "Requirement already satisfied: pathy>=0.10.0 in c:\\users\\lenovo\\appdata\\local\\programs\\python\\python311\\lib\\site-packages (from spacy) (0.10.1)\n",
      "Requirement already satisfied: smart-open<7.0.0,>=5.2.1 in c:\\users\\lenovo\\appdata\\local\\programs\\python\\python311\\lib\\site-packages (from spacy) (6.3.0)\n",
      "Requirement already satisfied: tqdm<5.0.0,>=4.38.0 in c:\\users\\lenovo\\appdata\\local\\programs\\python\\python311\\lib\\site-packages (from spacy) (4.65.0)\n",
      "Requirement already satisfied: numpy>=1.15.0 in c:\\users\\lenovo\\appdata\\local\\programs\\python\\python311\\lib\\site-packages (from spacy) (1.24.3)\n",
      "Requirement already satisfied: requests<3.0.0,>=2.13.0 in c:\\users\\lenovo\\appdata\\local\\programs\\python\\python311\\lib\\site-packages (from spacy) (2.28.2)\n",
      "Requirement already satisfied: pydantic!=1.8,!=1.8.1,<1.11.0,>=1.7.4 in c:\\users\\lenovo\\appdata\\local\\programs\\python\\python311\\lib\\site-packages (from spacy) (1.10.7)\n",
      "Requirement already satisfied: jinja2 in c:\\users\\lenovo\\appdata\\local\\programs\\python\\python311\\lib\\site-packages (from spacy) (3.1.2)\n",
      "Requirement already satisfied: setuptools in c:\\users\\lenovo\\appdata\\local\\programs\\python\\python311\\lib\\site-packages (from spacy) (65.5.0)\n",
      "Requirement already satisfied: packaging>=20.0 in c:\\users\\lenovo\\appdata\\roaming\\python\\python311\\site-packages (from spacy) (23.0)\n",
      "Requirement already satisfied: langcodes<4.0.0,>=3.2.0 in c:\\users\\lenovo\\appdata\\local\\programs\\python\\python311\\lib\\site-packages (from spacy) (3.3.0)\n",
      "Requirement already satisfied: typing-extensions>=4.2.0 in c:\\users\\lenovo\\appdata\\local\\programs\\python\\python311\\lib\\site-packages (from pydantic!=1.8,!=1.8.1,<1.11.0,>=1.7.4->spacy) (4.5.0)\n",
      "Requirement already satisfied: charset-normalizer<4,>=2 in c:\\users\\lenovo\\appdata\\local\\programs\\python\\python311\\lib\\site-packages (from requests<3.0.0,>=2.13.0->spacy) (3.1.0)\n",
      "Requirement already satisfied: idna<4,>=2.5 in c:\\users\\lenovo\\appdata\\local\\programs\\python\\python311\\lib\\site-packages (from requests<3.0.0,>=2.13.0->spacy) (3.4)\n",
      "Requirement already satisfied: urllib3<1.27,>=1.21.1 in c:\\users\\lenovo\\appdata\\local\\programs\\python\\python311\\lib\\site-packages (from requests<3.0.0,>=2.13.0->spacy) (1.26.15)\n",
      "Requirement already satisfied: certifi>=2017.4.17 in c:\\users\\lenovo\\appdata\\local\\programs\\python\\python311\\lib\\site-packages (from requests<3.0.0,>=2.13.0->spacy) (2022.12.7)\n",
      "Requirement already satisfied: blis<0.8.0,>=0.7.8 in c:\\users\\lenovo\\appdata\\local\\programs\\python\\python311\\lib\\site-packages (from thinc<8.2.0,>=8.1.8->spacy) (0.7.9)\n",
      "Requirement already satisfied: confection<1.0.0,>=0.0.1 in c:\\users\\lenovo\\appdata\\local\\programs\\python\\python311\\lib\\site-packages (from thinc<8.2.0,>=8.1.8->spacy) (0.0.4)\n",
      "Requirement already satisfied: colorama in c:\\users\\lenovo\\appdata\\local\\programs\\python\\python311\\lib\\site-packages (from tqdm<5.0.0,>=4.38.0->spacy) (0.4.6)\n",
      "Requirement already satisfied: click<9.0.0,>=7.1.1 in c:\\users\\lenovo\\appdata\\local\\programs\\python\\python311\\lib\\site-packages (from typer<0.8.0,>=0.3.0->spacy) (8.1.3)\n",
      "Requirement already satisfied: MarkupSafe>=2.0 in c:\\users\\lenovo\\appdata\\local\\programs\\python\\python311\\lib\\site-packages (from jinja2->spacy) (2.1.2)\n"
     ]
    },
    {
     "name": "stderr",
     "output_type": "stream",
     "text": [
      "\n",
      "[notice] A new release of pip is available: 23.0.1 -> 23.1.2\n",
      "[notice] To update, run: python.exe -m pip install --upgrade pip\n"
     ]
    },
    {
     "ename": "ModuleNotFoundError",
     "evalue": "No module named 'pyLDAvis'",
     "output_type": "error",
     "traceback": [
      "\u001b[1;31m---------------------------------------------------------------------------\u001b[0m",
      "\u001b[1;31mModuleNotFoundError\u001b[0m                       Traceback (most recent call last)",
      "Cell \u001b[1;32mIn[4], line 17\u001b[0m\n\u001b[0;32m     15\u001b[0m \u001b[39m#Visualization\u001b[39;00m\n\u001b[0;32m     16\u001b[0m \u001b[39mfrom\u001b[39;00m \u001b[39mspacy\u001b[39;00m \u001b[39mimport\u001b[39;00m displacy\n\u001b[1;32m---> 17\u001b[0m \u001b[39mimport\u001b[39;00m \u001b[39mpyLDAvis\u001b[39;00m\u001b[39m.\u001b[39;00m\u001b[39mgensim_models\u001b[39;00m\n\u001b[0;32m     18\u001b[0m \u001b[39mfrom\u001b[39;00m \u001b[39mwordcloud\u001b[39;00m \u001b[39mimport\u001b[39;00m WordCloud\n\u001b[0;32m     19\u001b[0m \u001b[39mimport\u001b[39;00m \u001b[39mplotly\u001b[39;00m\u001b[39m.\u001b[39;00m\u001b[39mexpress\u001b[39;00m \u001b[39mas\u001b[39;00m \u001b[39mpx\u001b[39;00m\n",
      "\u001b[1;31mModuleNotFoundError\u001b[0m: No module named 'pyLDAvis'"
     ]
    }
   ],
   "source": [
    "! pip install spacy gensim pyLDAvis wordcloud plotly nltk\n",
    "import nltk\n",
    "nltk.download(['stopwords','wordnet'])\n",
    "#spacy\n",
    "! pip install spacy\n",
    "import spacy\n",
    "from spacy.pipeline import EntityRuler\n",
    "from spacy.lang.en import English\n",
    "from spacy.tokens import Doc\n",
    "\n",
    "#gensim\n",
    "import gensim\n",
    "from gensim import corpora\n",
    "\n",
    "#Visualization\n",
    "from spacy import displacy\n",
    "import pyLDAvis.gensim_models\n",
    "from wordcloud import WordCloud\n",
    "import plotly.express as px\n",
    "import matplotlib.pyplot as plt\n",
    "\n",
    "#Data loading/ Data manipulation\n",
    "import pandas as pd\n",
    "import numpy as np\n",
    "! pip install jsonlines\n",
    "import jsonlines\n",
    "\n",
    "#nltk\n",
    "import re\n",
    "import nltk\n",
    "from nltk.corpus import stopwords\n",
    "from nltk.stem import WordNetLemmatizer\n",
    "nltk.download(['stopwords','wordnet'])\n",
    "\n",
    "#warning\n",
    "import warnings \n",
    "warnings.filterwarnings('ignore')\n",
    "## For dropdown\n",
    "import numpy as np\n",
    "import pandas as pd\n",
    "import textwrap\n",
    "\n",
    "import ipywidgets as widgets\n",
    "from ipywidgets import interact, interact_manual\n",
    "import IPython.display\n",
    "from IPython.display import display, clear_output\n",
    "\n",
    "import plotly.graph_objects as go"
   ]
  },
  {
   "attachments": {},
   "cell_type": "markdown",
   "metadata": {
    "id": "Ex-KFJOGuOYz"
   },
   "source": [
    "# Resume Dataset\n"
   ]
  },
  {
   "cell_type": "code",
   "execution_count": 2,
   "metadata": {
    "id": "zkZ0WlFEtaac"
   },
   "outputs": [],
   "source": [
    "df = pd.read_csv(\"Resume.csv\")\n",
    "\n"
   ]
  },
  {
   "cell_type": "code",
   "execution_count": 3,
   "metadata": {
    "colab": {
     "base_uri": "https://localhost:8080/",
     "height": 204
    },
    "id": "v7273AIC5VUf",
    "outputId": "88e64ba3-cb93-4c79-812f-80ada8466e09"
   },
   "outputs": [
    {
     "data": {
      "text/html": [
       "<div>\n",
       "<style scoped>\n",
       "    .dataframe tbody tr th:only-of-type {\n",
       "        vertical-align: middle;\n",
       "    }\n",
       "\n",
       "    .dataframe tbody tr th {\n",
       "        vertical-align: top;\n",
       "    }\n",
       "\n",
       "    .dataframe thead th {\n",
       "        text-align: right;\n",
       "    }\n",
       "</style>\n",
       "<table border=\"1\" class=\"dataframe\">\n",
       "  <thead>\n",
       "    <tr style=\"text-align: right;\">\n",
       "      <th></th>\n",
       "      <th>ID</th>\n",
       "      <th>Resume_str</th>\n",
       "      <th>Resume_html</th>\n",
       "      <th>Category</th>\n",
       "    </tr>\n",
       "  </thead>\n",
       "  <tbody>\n",
       "    <tr>\n",
       "      <th>1698</th>\n",
       "      <td>20981299</td>\n",
       "      <td>ENGINEERING ASSISTANT       Summary  ...</td>\n",
       "      <td>&lt;div class=\"fontsize fontface vmargins hmargin...</td>\n",
       "      <td>ENGINEERING</td>\n",
       "    </tr>\n",
       "    <tr>\n",
       "      <th>2426</th>\n",
       "      <td>25718772</td>\n",
       "      <td>TSO/FLOATER       Career Overview    ...</td>\n",
       "      <td>&lt;div class=\"fontsize fontface vmargins hmargin...</td>\n",
       "      <td>AVIATION</td>\n",
       "    </tr>\n",
       "    <tr>\n",
       "      <th>923</th>\n",
       "      <td>14140903</td>\n",
       "      <td>GRADUATE RESEARCH ASSISTANT       Pro...</td>\n",
       "      <td>&lt;div class=\"fontsize fontface vmargins hmargin...</td>\n",
       "      <td>AGRICULTURE</td>\n",
       "    </tr>\n",
       "    <tr>\n",
       "      <th>2250</th>\n",
       "      <td>35492909</td>\n",
       "      <td>TAX ACCOUNTANT         Professional S...</td>\n",
       "      <td>&lt;div class=\"MPR skn-cbg1 fontsize fontface vma...</td>\n",
       "      <td>BANKING</td>\n",
       "    </tr>\n",
       "    <tr>\n",
       "      <th>1938</th>\n",
       "      <td>14900898</td>\n",
       "      <td>CONSTRUCTION MANAGER           Summar...</td>\n",
       "      <td>&lt;div class=\"fontsize fontface vmargins hmargin...</td>\n",
       "      <td>CONSTRUCTION</td>\n",
       "    </tr>\n",
       "  </tbody>\n",
       "</table>\n",
       "</div>"
      ],
      "text/plain": [
       "            ID                                         Resume_str   \n",
       "1698  20981299           ENGINEERING ASSISTANT       Summary  ...  \\\n",
       "2426  25718772           TSO/FLOATER       Career Overview    ...   \n",
       "923   14140903           GRADUATE RESEARCH ASSISTANT       Pro...   \n",
       "2250  35492909           TAX ACCOUNTANT         Professional S...   \n",
       "1938  14900898           CONSTRUCTION MANAGER           Summar...   \n",
       "\n",
       "                                            Resume_html      Category  \n",
       "1698  <div class=\"fontsize fontface vmargins hmargin...   ENGINEERING  \n",
       "2426  <div class=\"fontsize fontface vmargins hmargin...      AVIATION  \n",
       "923   <div class=\"fontsize fontface vmargins hmargin...   AGRICULTURE  \n",
       "2250  <div class=\"MPR skn-cbg1 fontsize fontface vma...       BANKING  \n",
       "1938  <div class=\"fontsize fontface vmargins hmargin...  CONSTRUCTION  "
      ]
     },
     "execution_count": 3,
     "metadata": {},
     "output_type": "execute_result"
    }
   ],
   "source": [
    "df = df.reindex(np.random.permutation(df.index))\n",
    "data = df.copy().iloc[0:1000,]\n",
    "data.head()"
   ]
  },
  {
   "cell_type": "code",
   "execution_count": 4,
   "metadata": {
    "id": "I0XtXArh518b"
   },
   "outputs": [
    {
     "name": "stdout",
     "output_type": "stream",
     "text": [
      "Collecting en-core-web-lg==3.5.0\n",
      "  Downloading https://github.com/explosion/spacy-models/releases/download/en_core_web_lg-3.5.0/en_core_web_lg-3.5.0-py3-none-any.whl (587.7 MB)\n",
      "     -------------------------------------- 587.7/587.7 MB 1.3 MB/s eta 0:00:00\n",
      "Requirement already satisfied: spacy<3.6.0,>=3.5.0 in c:\\users\\dell\\anaconda3\\lib\\site-packages (from en-core-web-lg==3.5.0) (3.5.2)\n",
      "Requirement already satisfied: typer<0.8.0,>=0.3.0 in c:\\users\\dell\\anaconda3\\lib\\site-packages (from spacy<3.6.0,>=3.5.0->en-core-web-lg==3.5.0) (0.7.0)\n",
      "Requirement already satisfied: smart-open<7.0.0,>=5.2.1 in c:\\users\\dell\\anaconda3\\lib\\site-packages (from spacy<3.6.0,>=3.5.0->en-core-web-lg==3.5.0) (5.2.1)\n",
      "Requirement already satisfied: setuptools in c:\\users\\dell\\anaconda3\\lib\\site-packages (from spacy<3.6.0,>=3.5.0->en-core-web-lg==3.5.0) (63.4.1)\n",
      "Requirement already satisfied: srsly<3.0.0,>=2.4.3 in c:\\users\\dell\\anaconda3\\lib\\site-packages (from spacy<3.6.0,>=3.5.0->en-core-web-lg==3.5.0) (2.4.6)\n",
      "Requirement already satisfied: langcodes<4.0.0,>=3.2.0 in c:\\users\\dell\\anaconda3\\lib\\site-packages (from spacy<3.6.0,>=3.5.0->en-core-web-lg==3.5.0) (3.3.0)\n",
      "Requirement already satisfied: jinja2 in c:\\users\\dell\\anaconda3\\lib\\site-packages (from spacy<3.6.0,>=3.5.0->en-core-web-lg==3.5.0) (2.11.3)\n",
      "Requirement already satisfied: spacy-legacy<3.1.0,>=3.0.11 in c:\\users\\dell\\anaconda3\\lib\\site-packages (from spacy<3.6.0,>=3.5.0->en-core-web-lg==3.5.0) (3.0.12)\n",
      "Requirement already satisfied: wasabi<1.2.0,>=0.9.1 in c:\\users\\dell\\anaconda3\\lib\\site-packages (from spacy<3.6.0,>=3.5.0->en-core-web-lg==3.5.0) (1.1.1)\n",
      "Requirement already satisfied: spacy-loggers<2.0.0,>=1.0.0 in c:\\users\\dell\\anaconda3\\lib\\site-packages (from spacy<3.6.0,>=3.5.0->en-core-web-lg==3.5.0) (1.0.4)\n",
      "Requirement already satisfied: cymem<2.1.0,>=2.0.2 in c:\\users\\dell\\anaconda3\\lib\\site-packages (from spacy<3.6.0,>=3.5.0->en-core-web-lg==3.5.0) (2.0.7)\n",
      "Requirement already satisfied: preshed<3.1.0,>=3.0.2 in c:\\users\\dell\\anaconda3\\lib\\site-packages (from spacy<3.6.0,>=3.5.0->en-core-web-lg==3.5.0) (3.0.8)\n",
      "Requirement already satisfied: requests<3.0.0,>=2.13.0 in c:\\users\\dell\\anaconda3\\lib\\site-packages (from spacy<3.6.0,>=3.5.0->en-core-web-lg==3.5.0) (2.28.1)\n",
      "Requirement already satisfied: murmurhash<1.1.0,>=0.28.0 in c:\\users\\dell\\anaconda3\\lib\\site-packages (from spacy<3.6.0,>=3.5.0->en-core-web-lg==3.5.0) (1.0.9)\n",
      "Requirement already satisfied: pydantic!=1.8,!=1.8.1,<1.11.0,>=1.7.4 in c:\\users\\dell\\anaconda3\\lib\\site-packages (from spacy<3.6.0,>=3.5.0->en-core-web-lg==3.5.0) (1.10.7)\n",
      "Requirement already satisfied: pathy>=0.10.0 in c:\\users\\dell\\anaconda3\\lib\\site-packages (from spacy<3.6.0,>=3.5.0->en-core-web-lg==3.5.0) (0.10.1)\n",
      "Requirement already satisfied: packaging>=20.0 in c:\\users\\dell\\anaconda3\\lib\\site-packages (from spacy<3.6.0,>=3.5.0->en-core-web-lg==3.5.0) (21.3)\n",
      "Requirement already satisfied: catalogue<2.1.0,>=2.0.6 in c:\\users\\dell\\anaconda3\\lib\\site-packages (from spacy<3.6.0,>=3.5.0->en-core-web-lg==3.5.0) (2.0.8)\n",
      "Requirement already satisfied: numpy>=1.15.0 in c:\\users\\dell\\anaconda3\\lib\\site-packages (from spacy<3.6.0,>=3.5.0->en-core-web-lg==3.5.0) (1.24.3)\n",
      "Requirement already satisfied: tqdm<5.0.0,>=4.38.0 in c:\\users\\dell\\anaconda3\\lib\\site-packages (from spacy<3.6.0,>=3.5.0->en-core-web-lg==3.5.0) (4.64.1)\n",
      "Requirement already satisfied: thinc<8.2.0,>=8.1.8 in c:\\users\\dell\\anaconda3\\lib\\site-packages (from spacy<3.6.0,>=3.5.0->en-core-web-lg==3.5.0) (8.1.9)\n",
      "Requirement already satisfied: pyparsing!=3.0.5,>=2.0.2 in c:\\users\\dell\\anaconda3\\lib\\site-packages (from packaging>=20.0->spacy<3.6.0,>=3.5.0->en-core-web-lg==3.5.0) (3.0.9)\n",
      "Requirement already satisfied: typing-extensions>=4.2.0 in c:\\users\\dell\\anaconda3\\lib\\site-packages (from pydantic!=1.8,!=1.8.1,<1.11.0,>=1.7.4->spacy<3.6.0,>=3.5.0->en-core-web-lg==3.5.0) (4.3.0)\n",
      "Requirement already satisfied: urllib3<1.27,>=1.21.1 in c:\\users\\dell\\anaconda3\\lib\\site-packages (from requests<3.0.0,>=2.13.0->spacy<3.6.0,>=3.5.0->en-core-web-lg==3.5.0) (1.26.11)\n",
      "Requirement already satisfied: idna<4,>=2.5 in c:\\users\\dell\\anaconda3\\lib\\site-packages (from requests<3.0.0,>=2.13.0->spacy<3.6.0,>=3.5.0->en-core-web-lg==3.5.0) (3.3)\n",
      "Requirement already satisfied: charset-normalizer<3,>=2 in c:\\users\\dell\\anaconda3\\lib\\site-packages (from requests<3.0.0,>=2.13.0->spacy<3.6.0,>=3.5.0->en-core-web-lg==3.5.0) (2.0.4)\n",
      "Requirement already satisfied: certifi>=2017.4.17 in c:\\users\\dell\\anaconda3\\lib\\site-packages (from requests<3.0.0,>=2.13.0->spacy<3.6.0,>=3.5.0->en-core-web-lg==3.5.0) (2022.9.14)\n",
      "Requirement already satisfied: confection<1.0.0,>=0.0.1 in c:\\users\\dell\\anaconda3\\lib\\site-packages (from thinc<8.2.0,>=8.1.8->spacy<3.6.0,>=3.5.0->en-core-web-lg==3.5.0) (0.0.4)\n",
      "Requirement already satisfied: blis<0.8.0,>=0.7.8 in c:\\users\\dell\\anaconda3\\lib\\site-packages (from thinc<8.2.0,>=8.1.8->spacy<3.6.0,>=3.5.0->en-core-web-lg==3.5.0) (0.7.9)\n",
      "Requirement already satisfied: colorama in c:\\users\\dell\\anaconda3\\lib\\site-packages (from tqdm<5.0.0,>=4.38.0->spacy<3.6.0,>=3.5.0->en-core-web-lg==3.5.0) (0.4.6)\n",
      "Requirement already satisfied: click<9.0.0,>=7.1.1 in c:\\users\\dell\\anaconda3\\lib\\site-packages (from typer<0.8.0,>=0.3.0->spacy<3.6.0,>=3.5.0->en-core-web-lg==3.5.0) (8.0.4)\n",
      "Requirement already satisfied: MarkupSafe>=0.23 in c:\\users\\dell\\anaconda3\\lib\\site-packages (from jinja2->spacy<3.6.0,>=3.5.0->en-core-web-lg==3.5.0) (2.0.1)\n",
      "\u001b[38;5;2m✔ Download and installation successful\u001b[0m\n",
      "You can now load the package via spacy.load('en_core_web_lg')\n"
     ]
    }
   ],
   "source": [
    "! python -m spacy download en_core_web_lg\n",
    "\n",
    "nlp = spacy.load(\"en_core_web_lg\")\n",
    "# nlp = spacy.load(\"en_core_web_sm\")\n"
   ]
  },
  {
   "cell_type": "code",
   "execution_count": 5,
   "metadata": {
    "id": "uHU85zLf8ICz"
   },
   "outputs": [],
   "source": [
    "\n",
    "skill_pattern_path = \"jz_skill_patterns.jsonl\""
   ]
  },
  {
   "cell_type": "markdown",
   "metadata": {},
   "source": [
    "### **Entity Ruler**\n",
    "To create an entity ruler we need to add a pipeline and then load the .jsonl file containing skills into ruler. As you can see we have successfully added a new pipeline entity_ruler. Entity ruler helps us add additional rules to highlight various categories within the text, such as skills and job description in our case."
   ]
  },
  {
   "cell_type": "code",
   "execution_count": 6,
   "metadata": {
    "colab": {
     "base_uri": "https://localhost:8080/",
     "height": 333
    },
    "id": "wJOYyfAl8Iga",
    "outputId": "f968af29-2fa3-41f0-f1ff-1757b240b4ec"
   },
   "outputs": [
    {
     "data": {
      "text/plain": [
       "['tok2vec',\n",
       " 'tagger',\n",
       " 'parser',\n",
       " 'attribute_ruler',\n",
       " 'lemmatizer',\n",
       " 'ner',\n",
       " 'entity_ruler']"
      ]
     },
     "execution_count": 6,
     "metadata": {},
     "output_type": "execute_result"
    }
   ],
   "source": [
    "ruler = nlp.add_pipe(\"entity_ruler\")\n",
    "ruler.from_disk(skill_pattern_path)\n",
    "nlp.pipe_names"
   ]
  },
  {
   "attachments": {},
   "cell_type": "markdown",
   "metadata": {},
   "source": [
    "### **Skills**\n"
   ]
  },
  {
   "cell_type": "code",
   "execution_count": 7,
   "metadata": {
    "id": "bOU9-DSH_A88"
   },
   "outputs": [],
   "source": [
    "def get_skills(text):\n",
    "    doc = nlp(text)\n",
    "    myset = []\n",
    "    subset = []\n",
    "    for ent in doc.ents:\n",
    "        if ent.label_ == \"SKILL\":\n",
    "            subset.append(ent.text)\n",
    "    myset.append(subset)\n",
    "    return subset\n",
    "\n",
    "\n",
    "def unique_skills(x):\n",
    "    return list(set(x))"
   ]
  },
  {
   "attachments": {},
   "cell_type": "markdown",
   "metadata": {},
   "source": [
    "### Cleaning Resume \n"
   ]
  },
  {
   "cell_type": "code",
   "execution_count": 8,
   "metadata": {},
   "outputs": [],
   "source": [
    "clean = []\n",
    "for i in range(data.shape[0]):\n",
    "    review = re.sub(\n",
    "        '(@[A-Za-z0-9]+)|([^0-9A-Za-z \\t])|(\\w+:\\/\\/\\S+)|^rt|http.+?\"',\n",
    "        \" \",\n",
    "        data[\"Resume_str\"].iloc[i],\n",
    "    )\n",
    "    review = review.lower()\n",
    "    review = review.split()\n",
    "    lm = WordNetLemmatizer()\n",
    "    review = [\n",
    "        lm.lemmatize(word)\n",
    "        for word in review\n",
    "        if not word in set(stopwords.words(\"english\"))\n",
    "    ]\n",
    "    review = \" \".join(review)\n",
    "    clean.append(review)"
   ]
  },
  {
   "attachments": {},
   "cell_type": "markdown",
   "metadata": {},
   "source": [
    "### **Applying functions**\n"
   ]
  },
  {
   "cell_type": "code",
   "execution_count": 9,
   "metadata": {},
   "outputs": [
    {
     "data": {
      "text/html": [
       "<div>\n",
       "<style scoped>\n",
       "    .dataframe tbody tr th:only-of-type {\n",
       "        vertical-align: middle;\n",
       "    }\n",
       "\n",
       "    .dataframe tbody tr th {\n",
       "        vertical-align: top;\n",
       "    }\n",
       "\n",
       "    .dataframe thead th {\n",
       "        text-align: right;\n",
       "    }\n",
       "</style>\n",
       "<table border=\"1\" class=\"dataframe\">\n",
       "  <thead>\n",
       "    <tr style=\"text-align: right;\">\n",
       "      <th></th>\n",
       "      <th>ID</th>\n",
       "      <th>Resume_str</th>\n",
       "      <th>Resume_html</th>\n",
       "      <th>Category</th>\n",
       "      <th>Clean_Resume</th>\n",
       "      <th>skills</th>\n",
       "    </tr>\n",
       "  </thead>\n",
       "  <tbody>\n",
       "    <tr>\n",
       "      <th>1698</th>\n",
       "      <td>20981299</td>\n",
       "      <td>ENGINEERING ASSISTANT       Summary  ...</td>\n",
       "      <td>&lt;div class=\"fontsize fontface vmargins hmargin...</td>\n",
       "      <td>ENGINEERING</td>\n",
       "      <td>engineering assistant summary product process ...</td>\n",
       "      <td>[robot, deployment, project management, schedu...</td>\n",
       "    </tr>\n",
       "    <tr>\n",
       "      <th>2426</th>\n",
       "      <td>25718772</td>\n",
       "      <td>TSO/FLOATER       Career Overview    ...</td>\n",
       "      <td>&lt;div class=\"fontsize fontface vmargins hmargin...</td>\n",
       "      <td>AVIATION</td>\n",
       "      <td>tso floater career overview obtain position pr...</td>\n",
       "      <td>[network security, server, industrial engineer...</td>\n",
       "    </tr>\n",
       "    <tr>\n",
       "      <th>923</th>\n",
       "      <td>14140903</td>\n",
       "      <td>GRADUATE RESEARCH ASSISTANT       Pro...</td>\n",
       "      <td>&lt;div class=\"fontsize fontface vmargins hmargin...</td>\n",
       "      <td>AGRICULTURE</td>\n",
       "      <td>graduate research assistant profile result dri...</td>\n",
       "      <td>[certificate]</td>\n",
       "    </tr>\n",
       "    <tr>\n",
       "      <th>2250</th>\n",
       "      <td>35492909</td>\n",
       "      <td>TAX ACCOUNTANT         Professional S...</td>\n",
       "      <td>&lt;div class=\"MPR skn-cbg1 fontsize fontface vma...</td>\n",
       "      <td>BANKING</td>\n",
       "      <td>tax accountant professional summary skill quic...</td>\n",
       "      <td>[accounting, marketing, medium, business, docu...</td>\n",
       "    </tr>\n",
       "    <tr>\n",
       "      <th>1938</th>\n",
       "      <td>14900898</td>\n",
       "      <td>CONSTRUCTION MANAGER           Summar...</td>\n",
       "      <td>&lt;div class=\"fontsize fontface vmargins hmargin...</td>\n",
       "      <td>CONSTRUCTION</td>\n",
       "      <td>construction manager summary energetic constru...</td>\n",
       "      <td>[specification]</td>\n",
       "    </tr>\n",
       "  </tbody>\n",
       "</table>\n",
       "</div>"
      ],
      "text/plain": [
       "            ID                                         Resume_str   \n",
       "1698  20981299           ENGINEERING ASSISTANT       Summary  ...  \\\n",
       "2426  25718772           TSO/FLOATER       Career Overview    ...   \n",
       "923   14140903           GRADUATE RESEARCH ASSISTANT       Pro...   \n",
       "2250  35492909           TAX ACCOUNTANT         Professional S...   \n",
       "1938  14900898           CONSTRUCTION MANAGER           Summar...   \n",
       "\n",
       "                                            Resume_html      Category   \n",
       "1698  <div class=\"fontsize fontface vmargins hmargin...   ENGINEERING  \\\n",
       "2426  <div class=\"fontsize fontface vmargins hmargin...      AVIATION   \n",
       "923   <div class=\"fontsize fontface vmargins hmargin...   AGRICULTURE   \n",
       "2250  <div class=\"MPR skn-cbg1 fontsize fontface vma...       BANKING   \n",
       "1938  <div class=\"fontsize fontface vmargins hmargin...  CONSTRUCTION   \n",
       "\n",
       "                                           Clean_Resume   \n",
       "1698  engineering assistant summary product process ...  \\\n",
       "2426  tso floater career overview obtain position pr...   \n",
       "923   graduate research assistant profile result dri...   \n",
       "2250  tax accountant professional summary skill quic...   \n",
       "1938  construction manager summary energetic constru...   \n",
       "\n",
       "                                                 skills  \n",
       "1698  [robot, deployment, project management, schedu...  \n",
       "2426  [network security, server, industrial engineer...  \n",
       "923                                       [certificate]  \n",
       "2250  [accounting, marketing, medium, business, docu...  \n",
       "1938                                    [specification]  "
      ]
     },
     "execution_count": 9,
     "metadata": {},
     "output_type": "execute_result"
    }
   ],
   "source": [
    "data[\"Clean_Resume\"] = clean\n",
    "data[\"skills\"] = data[\"Clean_Resume\"].str.lower().apply(get_skills)\n",
    "data[\"skills\"] = data[\"skills\"].apply(unique_skills)\n",
    "data.head()"
   ]
  },
  {
   "attachments": {},
   "cell_type": "markdown",
   "metadata": {},
   "source": [
    "## **Data Analysis And Visualization**"
   ]
  },
  {
   "cell_type": "code",
   "execution_count": 10,
   "metadata": {},
   "outputs": [
    {
     "data": {
      "application/vnd.plotly.v1+json": {
       "config": {
        "plotlyServerURL": "https://plot.ly"
       },
       "data": [
        {
         "alignmentgroup": "True",
         "bingroup": "x",
         "hovertemplate": "Category=%{x}<br>count=%{y}<extra></extra>",
         "legendgroup": "",
         "marker": {
          "color": "#636efa",
          "pattern": {
           "shape": ""
          }
         },
         "name": "",
         "offsetgroup": "",
         "orientation": "v",
         "showlegend": false,
         "type": "histogram",
         "x": [
          "ENGINEERING",
          "AVIATION",
          "AGRICULTURE",
          "BANKING",
          "CONSTRUCTION",
          "CONSTRUCTION",
          "ADVOCATE",
          "BANKING",
          "ACCOUNTANT",
          "FINANCE",
          "HR",
          "FITNESS",
          "FITNESS",
          "AGRICULTURE",
          "CHEF",
          "PUBLIC-RELATIONS",
          "CONSTRUCTION",
          "FINANCE",
          "BUSINESS-DEVELOPMENT",
          "BANKING",
          "ENGINEERING",
          "AVIATION",
          "CONSULTANT",
          "DESIGNER",
          "ENGINEERING",
          "HEALTHCARE",
          "HR",
          "ACCOUNTANT",
          "TEACHER",
          "ENGINEERING",
          "BUSINESS-DEVELOPMENT",
          "FINANCE",
          "BANKING",
          "PUBLIC-RELATIONS",
          "DESIGNER",
          "APPAREL",
          "ENGINEERING",
          "DIGITAL-MEDIA",
          "TEACHER",
          "PUBLIC-RELATIONS",
          "BUSINESS-DEVELOPMENT",
          "FINANCE",
          "DESIGNER",
          "ADVOCATE",
          "ENGINEERING",
          "FITNESS",
          "SALES",
          "BANKING",
          "CONSULTANT",
          "ENGINEERING",
          "CONSTRUCTION",
          "PUBLIC-RELATIONS",
          "HEALTHCARE",
          "ENGINEERING",
          "HR",
          "DESIGNER",
          "CONSULTANT",
          "PUBLIC-RELATIONS",
          "ENGINEERING",
          "TEACHER",
          "DESIGNER",
          "HR",
          "CHEF",
          "CONSTRUCTION",
          "TEACHER",
          "DESIGNER",
          "BANKING",
          "HEALTHCARE",
          "HEALTHCARE",
          "PUBLIC-RELATIONS",
          "TEACHER",
          "CHEF",
          "AGRICULTURE",
          "SALES",
          "ACCOUNTANT",
          "CONSTRUCTION",
          "HEALTHCARE",
          "PUBLIC-RELATIONS",
          "AGRICULTURE",
          "ARTS",
          "FITNESS",
          "ADVOCATE",
          "ENGINEERING",
          "BANKING",
          "TEACHER",
          "ADVOCATE",
          "AGRICULTURE",
          "CHEF",
          "DESIGNER",
          "HEALTHCARE",
          "ACCOUNTANT",
          "INFORMATION-TECHNOLOGY",
          "BANKING",
          "BUSINESS-DEVELOPMENT",
          "HR",
          "DESIGNER",
          "ADVOCATE",
          "SALES",
          "BANKING",
          "BANKING",
          "HEALTHCARE",
          "DESIGNER",
          "AVIATION",
          "CHEF",
          "TEACHER",
          "DESIGNER",
          "FITNESS",
          "BUSINESS-DEVELOPMENT",
          "SALES",
          "INFORMATION-TECHNOLOGY",
          "CONSULTANT",
          "SALES",
          "INFORMATION-TECHNOLOGY",
          "TEACHER",
          "AGRICULTURE",
          "HEALTHCARE",
          "DIGITAL-MEDIA",
          "SALES",
          "PUBLIC-RELATIONS",
          "HEALTHCARE",
          "HR",
          "PUBLIC-RELATIONS",
          "CHEF",
          "AUTOMOBILE",
          "BANKING",
          "CHEF",
          "ACCOUNTANT",
          "CHEF",
          "CHEF",
          "CONSTRUCTION",
          "ADVOCATE",
          "CONSULTANT",
          "HEALTHCARE",
          "DESIGNER",
          "CONSULTANT",
          "AVIATION",
          "HEALTHCARE",
          "DESIGNER",
          "CHEF",
          "ADVOCATE",
          "SALES",
          "CONSTRUCTION",
          "FINANCE",
          "DESIGNER",
          "BUSINESS-DEVELOPMENT",
          "CONSTRUCTION",
          "CONSTRUCTION",
          "FITNESS",
          "INFORMATION-TECHNOLOGY",
          "HEALTHCARE",
          "BUSINESS-DEVELOPMENT",
          "ARTS",
          "APPAREL",
          "DIGITAL-MEDIA",
          "BUSINESS-DEVELOPMENT",
          "ENGINEERING",
          "DESIGNER",
          "FITNESS",
          "TEACHER",
          "BPO",
          "CONSULTANT",
          "ACCOUNTANT",
          "FINANCE",
          "HEALTHCARE",
          "CONSULTANT",
          "DIGITAL-MEDIA",
          "PUBLIC-RELATIONS",
          "ACCOUNTANT",
          "ACCOUNTANT",
          "BUSINESS-DEVELOPMENT",
          "PUBLIC-RELATIONS",
          "CONSULTANT",
          "FINANCE",
          "FITNESS",
          "HEALTHCARE",
          "HR",
          "BANKING",
          "AVIATION",
          "HEALTHCARE",
          "CONSTRUCTION",
          "CONSULTANT",
          "ACCOUNTANT",
          "DIGITAL-MEDIA",
          "ACCOUNTANT",
          "ADVOCATE",
          "BUSINESS-DEVELOPMENT",
          "FITNESS",
          "ENGINEERING",
          "INFORMATION-TECHNOLOGY",
          "DIGITAL-MEDIA",
          "APPAREL",
          "DIGITAL-MEDIA",
          "APPAREL",
          "ADVOCATE",
          "APPAREL",
          "APPAREL",
          "CHEF",
          "ENGINEERING",
          "SALES",
          "ACCOUNTANT",
          "ENGINEERING",
          "TEACHER",
          "ENGINEERING",
          "ENGINEERING",
          "DIGITAL-MEDIA",
          "AVIATION",
          "CONSULTANT",
          "SALES",
          "CONSULTANT",
          "CHEF",
          "ACCOUNTANT",
          "ADVOCATE",
          "FINANCE",
          "AGRICULTURE",
          "ENGINEERING",
          "AGRICULTURE",
          "CONSULTANT",
          "APPAREL",
          "APPAREL",
          "CONSULTANT",
          "ENGINEERING",
          "APPAREL",
          "AUTOMOBILE",
          "AGRICULTURE",
          "PUBLIC-RELATIONS",
          "HR",
          "ACCOUNTANT",
          "ARTS",
          "BUSINESS-DEVELOPMENT",
          "BUSINESS-DEVELOPMENT",
          "HR",
          "CONSTRUCTION",
          "AVIATION",
          "CHEF",
          "CHEF",
          "BUSINESS-DEVELOPMENT",
          "SALES",
          "CHEF",
          "CONSTRUCTION",
          "AVIATION",
          "SALES",
          "DESIGNER",
          "PUBLIC-RELATIONS",
          "PUBLIC-RELATIONS",
          "APPAREL",
          "ACCOUNTANT",
          "FITNESS",
          "BPO",
          "CONSULTANT",
          "CHEF",
          "DIGITAL-MEDIA",
          "SALES",
          "HR",
          "CONSULTANT",
          "FINANCE",
          "BUSINESS-DEVELOPMENT",
          "ADVOCATE",
          "APPAREL",
          "DESIGNER",
          "FINANCE",
          "FINANCE",
          "CHEF",
          "CHEF",
          "DESIGNER",
          "TEACHER",
          "CONSTRUCTION",
          "INFORMATION-TECHNOLOGY",
          "BUSINESS-DEVELOPMENT",
          "AVIATION",
          "TEACHER",
          "AUTOMOBILE",
          "FITNESS",
          "AUTOMOBILE",
          "ARTS",
          "BUSINESS-DEVELOPMENT",
          "ENGINEERING",
          "ARTS",
          "SALES",
          "BUSINESS-DEVELOPMENT",
          "HEALTHCARE",
          "AVIATION",
          "BUSINESS-DEVELOPMENT",
          "CONSTRUCTION",
          "ACCOUNTANT",
          "CONSTRUCTION",
          "BANKING",
          "PUBLIC-RELATIONS",
          "SALES",
          "ARTS",
          "ADVOCATE",
          "BANKING",
          "ENGINEERING",
          "PUBLIC-RELATIONS",
          "ACCOUNTANT",
          "DESIGNER",
          "CONSULTANT",
          "HEALTHCARE",
          "AVIATION",
          "FINANCE",
          "DESIGNER",
          "AVIATION",
          "BANKING",
          "ADVOCATE",
          "PUBLIC-RELATIONS",
          "AVIATION",
          "HEALTHCARE",
          "ADVOCATE",
          "INFORMATION-TECHNOLOGY",
          "AVIATION",
          "ADVOCATE",
          "DESIGNER",
          "ARTS",
          "DESIGNER",
          "BPO",
          "FITNESS",
          "BANKING",
          "CONSULTANT",
          "CONSULTANT",
          "CONSULTANT",
          "ADVOCATE",
          "AUTOMOBILE",
          "DIGITAL-MEDIA",
          "CONSTRUCTION",
          "SALES",
          "BANKING",
          "FITNESS",
          "BANKING",
          "ADVOCATE",
          "ENGINEERING",
          "ACCOUNTANT",
          "CHEF",
          "ACCOUNTANT",
          "PUBLIC-RELATIONS",
          "CHEF",
          "TEACHER",
          "DIGITAL-MEDIA",
          "PUBLIC-RELATIONS",
          "CHEF",
          "ARTS",
          "FITNESS",
          "APPAREL",
          "AGRICULTURE",
          "AGRICULTURE",
          "BUSINESS-DEVELOPMENT",
          "TEACHER",
          "HEALTHCARE",
          "FINANCE",
          "HR",
          "CONSULTANT",
          "CONSTRUCTION",
          "BANKING",
          "AGRICULTURE",
          "ACCOUNTANT",
          "DESIGNER",
          "ADVOCATE",
          "AVIATION",
          "DESIGNER",
          "AGRICULTURE",
          "INFORMATION-TECHNOLOGY",
          "ENGINEERING",
          "CONSULTANT",
          "BANKING",
          "ADVOCATE",
          "ADVOCATE",
          "BUSINESS-DEVELOPMENT",
          "APPAREL",
          "BANKING",
          "HEALTHCARE",
          "ENGINEERING",
          "BUSINESS-DEVELOPMENT",
          "CONSULTANT",
          "FITNESS",
          "BANKING",
          "ADVOCATE",
          "APPAREL",
          "INFORMATION-TECHNOLOGY",
          "CONSULTANT",
          "PUBLIC-RELATIONS",
          "FITNESS",
          "BANKING",
          "AGRICULTURE",
          "SALES",
          "SALES",
          "DESIGNER",
          "ACCOUNTANT",
          "BANKING",
          "ACCOUNTANT",
          "HEALTHCARE",
          "DESIGNER",
          "ACCOUNTANT",
          "CONSULTANT",
          "DIGITAL-MEDIA",
          "ARTS",
          "HR",
          "BUSINESS-DEVELOPMENT",
          "APPAREL",
          "HEALTHCARE",
          "ACCOUNTANT",
          "FINANCE",
          "AGRICULTURE",
          "BANKING",
          "CONSTRUCTION",
          "AVIATION",
          "PUBLIC-RELATIONS",
          "BPO",
          "AUTOMOBILE",
          "DIGITAL-MEDIA",
          "BUSINESS-DEVELOPMENT",
          "DIGITAL-MEDIA",
          "HR",
          "HR",
          "ADVOCATE",
          "AVIATION",
          "HEALTHCARE",
          "ARTS",
          "ACCOUNTANT",
          "AGRICULTURE",
          "AVIATION",
          "CONSULTANT",
          "HEALTHCARE",
          "HEALTHCARE",
          "ENGINEERING",
          "HEALTHCARE",
          "CONSTRUCTION",
          "INFORMATION-TECHNOLOGY",
          "ADVOCATE",
          "ADVOCATE",
          "FINANCE",
          "CONSTRUCTION",
          "FITNESS",
          "BUSINESS-DEVELOPMENT",
          "CONSULTANT",
          "INFORMATION-TECHNOLOGY",
          "AVIATION",
          "INFORMATION-TECHNOLOGY",
          "AGRICULTURE",
          "FITNESS",
          "ADVOCATE",
          "FITNESS",
          "HEALTHCARE",
          "ARTS",
          "CHEF",
          "BPO",
          "HR",
          "AGRICULTURE",
          "BPO",
          "BUSINESS-DEVELOPMENT",
          "FINANCE",
          "TEACHER",
          "FINANCE",
          "HEALTHCARE",
          "FITNESS",
          "APPAREL",
          "CHEF",
          "INFORMATION-TECHNOLOGY",
          "CONSTRUCTION",
          "CONSULTANT",
          "APPAREL",
          "APPAREL",
          "ACCOUNTANT",
          "DIGITAL-MEDIA",
          "BANKING",
          "ARTS",
          "ACCOUNTANT",
          "TEACHER",
          "CONSTRUCTION",
          "ADVOCATE",
          "PUBLIC-RELATIONS",
          "AGRICULTURE",
          "HR",
          "TEACHER",
          "ENGINEERING",
          "FITNESS",
          "ARTS",
          "INFORMATION-TECHNOLOGY",
          "DESIGNER",
          "CONSTRUCTION",
          "ARTS",
          "BUSINESS-DEVELOPMENT",
          "ADVOCATE",
          "INFORMATION-TECHNOLOGY",
          "CONSULTANT",
          "FITNESS",
          "FITNESS",
          "FITNESS",
          "AGRICULTURE",
          "APPAREL",
          "AVIATION",
          "SALES",
          "ENGINEERING",
          "INFORMATION-TECHNOLOGY",
          "FINANCE",
          "ARTS",
          "BANKING",
          "TEACHER",
          "ACCOUNTANT",
          "HR",
          "CONSULTANT",
          "CONSULTANT",
          "CONSULTANT",
          "FINANCE",
          "SALES",
          "DIGITAL-MEDIA",
          "BUSINESS-DEVELOPMENT",
          "BANKING",
          "FITNESS",
          "FITNESS",
          "ARTS",
          "FINANCE",
          "DESIGNER",
          "CHEF",
          "HR",
          "HR",
          "ENGINEERING",
          "DIGITAL-MEDIA",
          "HEALTHCARE",
          "ADVOCATE",
          "TEACHER",
          "HEALTHCARE",
          "CONSTRUCTION",
          "DESIGNER",
          "CHEF",
          "HR",
          "AVIATION",
          "DESIGNER",
          "CONSTRUCTION",
          "SALES",
          "CONSTRUCTION",
          "HR",
          "DESIGNER",
          "SALES",
          "INFORMATION-TECHNOLOGY",
          "AGRICULTURE",
          "AVIATION",
          "TEACHER",
          "PUBLIC-RELATIONS",
          "PUBLIC-RELATIONS",
          "PUBLIC-RELATIONS",
          "HR",
          "TEACHER",
          "SALES",
          "ACCOUNTANT",
          "ACCOUNTANT",
          "FINANCE",
          "TEACHER",
          "CONSTRUCTION",
          "ENGINEERING",
          "TEACHER",
          "INFORMATION-TECHNOLOGY",
          "AVIATION",
          "BUSINESS-DEVELOPMENT",
          "HEALTHCARE",
          "BANKING",
          "AVIATION",
          "SALES",
          "INFORMATION-TECHNOLOGY",
          "ADVOCATE",
          "CONSULTANT",
          "BUSINESS-DEVELOPMENT",
          "ARTS",
          "DIGITAL-MEDIA",
          "ACCOUNTANT",
          "ACCOUNTANT",
          "INFORMATION-TECHNOLOGY",
          "CONSULTANT",
          "HR",
          "ENGINEERING",
          "BANKING",
          "BANKING",
          "ARTS",
          "CHEF",
          "PUBLIC-RELATIONS",
          "CONSTRUCTION",
          "DIGITAL-MEDIA",
          "TEACHER",
          "AUTOMOBILE",
          "SALES",
          "BANKING",
          "ADVOCATE",
          "ADVOCATE",
          "CHEF",
          "DIGITAL-MEDIA",
          "FITNESS",
          "CHEF",
          "INFORMATION-TECHNOLOGY",
          "HR",
          "CHEF",
          "CONSTRUCTION",
          "ADVOCATE",
          "APPAREL",
          "BANKING",
          "CHEF",
          "CHEF",
          "SALES",
          "INFORMATION-TECHNOLOGY",
          "ADVOCATE",
          "DIGITAL-MEDIA",
          "ACCOUNTANT",
          "INFORMATION-TECHNOLOGY",
          "ENGINEERING",
          "BUSINESS-DEVELOPMENT",
          "CHEF",
          "AVIATION",
          "FINANCE",
          "DESIGNER",
          "BANKING",
          "ADVOCATE",
          "FITNESS",
          "PUBLIC-RELATIONS",
          "BUSINESS-DEVELOPMENT",
          "HEALTHCARE",
          "PUBLIC-RELATIONS",
          "HEALTHCARE",
          "FITNESS",
          "ENGINEERING",
          "INFORMATION-TECHNOLOGY",
          "DIGITAL-MEDIA",
          "ARTS",
          "INFORMATION-TECHNOLOGY",
          "FITNESS",
          "CONSTRUCTION",
          "PUBLIC-RELATIONS",
          "BUSINESS-DEVELOPMENT",
          "CONSULTANT",
          "HEALTHCARE",
          "ADVOCATE",
          "CONSTRUCTION",
          "ACCOUNTANT",
          "INFORMATION-TECHNOLOGY",
          "TEACHER",
          "APPAREL",
          "ACCOUNTANT",
          "BANKING",
          "PUBLIC-RELATIONS",
          "AVIATION",
          "INFORMATION-TECHNOLOGY",
          "BUSINESS-DEVELOPMENT",
          "CHEF",
          "PUBLIC-RELATIONS",
          "SALES",
          "FITNESS",
          "TEACHER",
          "CONSTRUCTION",
          "FINANCE",
          "PUBLIC-RELATIONS",
          "HEALTHCARE",
          "AVIATION",
          "APPAREL",
          "DIGITAL-MEDIA",
          "BANKING",
          "DESIGNER",
          "CONSULTANT",
          "BANKING",
          "ADVOCATE",
          "INFORMATION-TECHNOLOGY",
          "CONSTRUCTION",
          "BANKING",
          "ADVOCATE",
          "HR",
          "ARTS",
          "APPAREL",
          "TEACHER",
          "PUBLIC-RELATIONS",
          "PUBLIC-RELATIONS",
          "CONSULTANT",
          "ADVOCATE",
          "BANKING",
          "APPAREL",
          "CHEF",
          "ARTS",
          "ENGINEERING",
          "AVIATION",
          "PUBLIC-RELATIONS",
          "ARTS",
          "ACCOUNTANT",
          "PUBLIC-RELATIONS",
          "FITNESS",
          "HEALTHCARE",
          "DESIGNER",
          "DIGITAL-MEDIA",
          "ACCOUNTANT",
          "PUBLIC-RELATIONS",
          "AGRICULTURE",
          "ENGINEERING",
          "DESIGNER",
          "CONSULTANT",
          "CONSULTANT",
          "DESIGNER",
          "DESIGNER",
          "HEALTHCARE",
          "AGRICULTURE",
          "TEACHER",
          "FINANCE",
          "AGRICULTURE",
          "BUSINESS-DEVELOPMENT",
          "TEACHER",
          "INFORMATION-TECHNOLOGY",
          "FINANCE",
          "APPAREL",
          "INFORMATION-TECHNOLOGY",
          "AUTOMOBILE",
          "AVIATION",
          "PUBLIC-RELATIONS",
          "HEALTHCARE",
          "FINANCE",
          "SALES",
          "CHEF",
          "CONSTRUCTION",
          "ENGINEERING",
          "CHEF",
          "BUSINESS-DEVELOPMENT",
          "SALES",
          "CHEF",
          "AVIATION",
          "ARTS",
          "FINANCE",
          "FINANCE",
          "INFORMATION-TECHNOLOGY",
          "APPAREL",
          "ARTS",
          "PUBLIC-RELATIONS",
          "AVIATION",
          "APPAREL",
          "FINANCE",
          "ADVOCATE",
          "DIGITAL-MEDIA",
          "CONSTRUCTION",
          "INFORMATION-TECHNOLOGY",
          "ACCOUNTANT",
          "INFORMATION-TECHNOLOGY",
          "FITNESS",
          "AGRICULTURE",
          "TEACHER",
          "APPAREL",
          "PUBLIC-RELATIONS",
          "AGRICULTURE",
          "CHEF",
          "PUBLIC-RELATIONS",
          "HEALTHCARE",
          "INFORMATION-TECHNOLOGY",
          "PUBLIC-RELATIONS",
          "CHEF",
          "ADVOCATE",
          "CONSTRUCTION",
          "ADVOCATE",
          "CONSULTANT",
          "ARTS",
          "ARTS",
          "AVIATION",
          "ACCOUNTANT",
          "HR",
          "HEALTHCARE",
          "AVIATION",
          "FINANCE",
          "TEACHER",
          "FINANCE",
          "HEALTHCARE",
          "AVIATION",
          "ENGINEERING",
          "FINANCE",
          "CONSTRUCTION",
          "CONSTRUCTION",
          "DIGITAL-MEDIA",
          "CHEF",
          "BUSINESS-DEVELOPMENT",
          "FITNESS",
          "HR",
          "HR",
          "DIGITAL-MEDIA",
          "INFORMATION-TECHNOLOGY",
          "INFORMATION-TECHNOLOGY",
          "BUSINESS-DEVELOPMENT",
          "HR",
          "FITNESS",
          "ARTS",
          "AUTOMOBILE",
          "ENGINEERING",
          "CHEF",
          "CONSULTANT",
          "DESIGNER",
          "CONSULTANT",
          "HR",
          "DESIGNER",
          "ENGINEERING",
          "ENGINEERING",
          "APPAREL",
          "BUSINESS-DEVELOPMENT",
          "CHEF",
          "DIGITAL-MEDIA",
          "ARTS",
          "ENGINEERING",
          "DESIGNER",
          "AVIATION",
          "BUSINESS-DEVELOPMENT",
          "CHEF",
          "PUBLIC-RELATIONS",
          "FITNESS",
          "HEALTHCARE",
          "ARTS",
          "TEACHER",
          "BPO",
          "BUSINESS-DEVELOPMENT",
          "CONSTRUCTION",
          "DIGITAL-MEDIA",
          "INFORMATION-TECHNOLOGY",
          "APPAREL",
          "INFORMATION-TECHNOLOGY",
          "CONSULTANT",
          "AUTOMOBILE",
          "BUSINESS-DEVELOPMENT",
          "BANKING",
          "TEACHER",
          "FITNESS",
          "PUBLIC-RELATIONS",
          "DIGITAL-MEDIA",
          "DESIGNER",
          "CONSULTANT",
          "HEALTHCARE",
          "CONSTRUCTION",
          "ADVOCATE",
          "SALES",
          "BPO",
          "SALES",
          "FINANCE",
          "ARTS",
          "INFORMATION-TECHNOLOGY",
          "BANKING",
          "HEALTHCARE",
          "ADVOCATE",
          "FINANCE",
          "DIGITAL-MEDIA",
          "ACCOUNTANT",
          "CONSULTANT",
          "BANKING",
          "INFORMATION-TECHNOLOGY",
          "ACCOUNTANT",
          "INFORMATION-TECHNOLOGY",
          "CONSULTANT",
          "FITNESS",
          "ENGINEERING",
          "ACCOUNTANT",
          "DESIGNER",
          "BUSINESS-DEVELOPMENT",
          "TEACHER",
          "HR",
          "CONSULTANT",
          "CONSTRUCTION",
          "ARTS",
          "CONSULTANT",
          "DESIGNER",
          "CONSTRUCTION",
          "TEACHER",
          "CONSTRUCTION",
          "ENGINEERING",
          "BPO",
          "FITNESS",
          "ADVOCATE",
          "HR",
          "FITNESS",
          "ENGINEERING",
          "FINANCE",
          "BANKING",
          "CONSULTANT",
          "TEACHER",
          "SALES",
          "DESIGNER",
          "BUSINESS-DEVELOPMENT",
          "BUSINESS-DEVELOPMENT",
          "TEACHER",
          "ENGINEERING",
          "ACCOUNTANT",
          "PUBLIC-RELATIONS",
          "ENGINEERING",
          "SALES",
          "DIGITAL-MEDIA",
          "FITNESS",
          "AUTOMOBILE",
          "FINANCE",
          "BANKING",
          "PUBLIC-RELATIONS",
          "BANKING",
          "ACCOUNTANT",
          "AGRICULTURE",
          "DESIGNER",
          "BANKING",
          "AVIATION",
          "HEALTHCARE",
          "CHEF",
          "BPO",
          "ACCOUNTANT",
          "AVIATION",
          "ADVOCATE",
          "APPAREL",
          "CHEF",
          "DIGITAL-MEDIA",
          "ARTS",
          "APPAREL",
          "HEALTHCARE",
          "BANKING",
          "AVIATION",
          "CHEF",
          "ADVOCATE",
          "ENGINEERING",
          "APPAREL",
          "DIGITAL-MEDIA",
          "SALES",
          "SALES",
          "BUSINESS-DEVELOPMENT",
          "DIGITAL-MEDIA",
          "DESIGNER",
          "CONSTRUCTION",
          "SALES",
          "HR",
          "TEACHER",
          "DESIGNER",
          "BANKING",
          "PUBLIC-RELATIONS",
          "FINANCE",
          "HR",
          "AUTOMOBILE",
          "FITNESS",
          "APPAREL",
          "HR",
          "BUSINESS-DEVELOPMENT",
          "CONSTRUCTION",
          "APPAREL",
          "CHEF",
          "ENGINEERING",
          "BUSINESS-DEVELOPMENT",
          "AVIATION",
          "HR",
          "TEACHER",
          "PUBLIC-RELATIONS",
          "CHEF",
          "TEACHER",
          "ENGINEERING",
          "SALES",
          "CONSULTANT",
          "BUSINESS-DEVELOPMENT",
          "ACCOUNTANT",
          "BANKING",
          "SALES",
          "ENGINEERING",
          "DIGITAL-MEDIA",
          "FITNESS",
          "AVIATION",
          "AVIATION",
          "INFORMATION-TECHNOLOGY",
          "DESIGNER",
          "CHEF",
          "ACCOUNTANT",
          "AVIATION",
          "FITNESS",
          "INFORMATION-TECHNOLOGY",
          "DESIGNER",
          "FINANCE",
          "AUTOMOBILE",
          "DESIGNER",
          "FITNESS",
          "ENGINEERING",
          "ENGINEERING",
          "PUBLIC-RELATIONS",
          "HR",
          "DESIGNER",
          "ARTS",
          "INFORMATION-TECHNOLOGY",
          "FINANCE",
          "INFORMATION-TECHNOLOGY",
          "CONSULTANT",
          "ENGINEERING",
          "TEACHER",
          "AUTOMOBILE",
          "PUBLIC-RELATIONS",
          "DESIGNER",
          "ENGINEERING",
          "CONSTRUCTION",
          "BUSINESS-DEVELOPMENT",
          "DIGITAL-MEDIA",
          "INFORMATION-TECHNOLOGY",
          "DESIGNER",
          "ADVOCATE",
          "HEALTHCARE",
          "ENGINEERING",
          "HR",
          "HR",
          "ENGINEERING",
          "AVIATION",
          "FITNESS",
          "HR",
          "BUSINESS-DEVELOPMENT",
          "CHEF",
          "AVIATION",
          "CONSTRUCTION",
          "ARTS",
          "ARTS",
          "SALES",
          "CHEF",
          "HEALTHCARE",
          "FITNESS",
          "ACCOUNTANT"
         ],
         "xaxis": "x",
         "yaxis": "y"
        }
       ],
       "layout": {
        "barmode": "relative",
        "legend": {
         "tracegroupgap": 0
        },
        "template": {
         "data": {
          "bar": [
           {
            "error_x": {
             "color": "#2a3f5f"
            },
            "error_y": {
             "color": "#2a3f5f"
            },
            "marker": {
             "line": {
              "color": "#E5ECF6",
              "width": 0.5
             },
             "pattern": {
              "fillmode": "overlay",
              "size": 10,
              "solidity": 0.2
             }
            },
            "type": "bar"
           }
          ],
          "barpolar": [
           {
            "marker": {
             "line": {
              "color": "#E5ECF6",
              "width": 0.5
             },
             "pattern": {
              "fillmode": "overlay",
              "size": 10,
              "solidity": 0.2
             }
            },
            "type": "barpolar"
           }
          ],
          "carpet": [
           {
            "aaxis": {
             "endlinecolor": "#2a3f5f",
             "gridcolor": "white",
             "linecolor": "white",
             "minorgridcolor": "white",
             "startlinecolor": "#2a3f5f"
            },
            "baxis": {
             "endlinecolor": "#2a3f5f",
             "gridcolor": "white",
             "linecolor": "white",
             "minorgridcolor": "white",
             "startlinecolor": "#2a3f5f"
            },
            "type": "carpet"
           }
          ],
          "choropleth": [
           {
            "colorbar": {
             "outlinewidth": 0,
             "ticks": ""
            },
            "type": "choropleth"
           }
          ],
          "contour": [
           {
            "colorbar": {
             "outlinewidth": 0,
             "ticks": ""
            },
            "colorscale": [
             [
              0,
              "#0d0887"
             ],
             [
              0.1111111111111111,
              "#46039f"
             ],
             [
              0.2222222222222222,
              "#7201a8"
             ],
             [
              0.3333333333333333,
              "#9c179e"
             ],
             [
              0.4444444444444444,
              "#bd3786"
             ],
             [
              0.5555555555555556,
              "#d8576b"
             ],
             [
              0.6666666666666666,
              "#ed7953"
             ],
             [
              0.7777777777777778,
              "#fb9f3a"
             ],
             [
              0.8888888888888888,
              "#fdca26"
             ],
             [
              1,
              "#f0f921"
             ]
            ],
            "type": "contour"
           }
          ],
          "contourcarpet": [
           {
            "colorbar": {
             "outlinewidth": 0,
             "ticks": ""
            },
            "type": "contourcarpet"
           }
          ],
          "heatmap": [
           {
            "colorbar": {
             "outlinewidth": 0,
             "ticks": ""
            },
            "colorscale": [
             [
              0,
              "#0d0887"
             ],
             [
              0.1111111111111111,
              "#46039f"
             ],
             [
              0.2222222222222222,
              "#7201a8"
             ],
             [
              0.3333333333333333,
              "#9c179e"
             ],
             [
              0.4444444444444444,
              "#bd3786"
             ],
             [
              0.5555555555555556,
              "#d8576b"
             ],
             [
              0.6666666666666666,
              "#ed7953"
             ],
             [
              0.7777777777777778,
              "#fb9f3a"
             ],
             [
              0.8888888888888888,
              "#fdca26"
             ],
             [
              1,
              "#f0f921"
             ]
            ],
            "type": "heatmap"
           }
          ],
          "heatmapgl": [
           {
            "colorbar": {
             "outlinewidth": 0,
             "ticks": ""
            },
            "colorscale": [
             [
              0,
              "#0d0887"
             ],
             [
              0.1111111111111111,
              "#46039f"
             ],
             [
              0.2222222222222222,
              "#7201a8"
             ],
             [
              0.3333333333333333,
              "#9c179e"
             ],
             [
              0.4444444444444444,
              "#bd3786"
             ],
             [
              0.5555555555555556,
              "#d8576b"
             ],
             [
              0.6666666666666666,
              "#ed7953"
             ],
             [
              0.7777777777777778,
              "#fb9f3a"
             ],
             [
              0.8888888888888888,
              "#fdca26"
             ],
             [
              1,
              "#f0f921"
             ]
            ],
            "type": "heatmapgl"
           }
          ],
          "histogram": [
           {
            "marker": {
             "pattern": {
              "fillmode": "overlay",
              "size": 10,
              "solidity": 0.2
             }
            },
            "type": "histogram"
           }
          ],
          "histogram2d": [
           {
            "colorbar": {
             "outlinewidth": 0,
             "ticks": ""
            },
            "colorscale": [
             [
              0,
              "#0d0887"
             ],
             [
              0.1111111111111111,
              "#46039f"
             ],
             [
              0.2222222222222222,
              "#7201a8"
             ],
             [
              0.3333333333333333,
              "#9c179e"
             ],
             [
              0.4444444444444444,
              "#bd3786"
             ],
             [
              0.5555555555555556,
              "#d8576b"
             ],
             [
              0.6666666666666666,
              "#ed7953"
             ],
             [
              0.7777777777777778,
              "#fb9f3a"
             ],
             [
              0.8888888888888888,
              "#fdca26"
             ],
             [
              1,
              "#f0f921"
             ]
            ],
            "type": "histogram2d"
           }
          ],
          "histogram2dcontour": [
           {
            "colorbar": {
             "outlinewidth": 0,
             "ticks": ""
            },
            "colorscale": [
             [
              0,
              "#0d0887"
             ],
             [
              0.1111111111111111,
              "#46039f"
             ],
             [
              0.2222222222222222,
              "#7201a8"
             ],
             [
              0.3333333333333333,
              "#9c179e"
             ],
             [
              0.4444444444444444,
              "#bd3786"
             ],
             [
              0.5555555555555556,
              "#d8576b"
             ],
             [
              0.6666666666666666,
              "#ed7953"
             ],
             [
              0.7777777777777778,
              "#fb9f3a"
             ],
             [
              0.8888888888888888,
              "#fdca26"
             ],
             [
              1,
              "#f0f921"
             ]
            ],
            "type": "histogram2dcontour"
           }
          ],
          "mesh3d": [
           {
            "colorbar": {
             "outlinewidth": 0,
             "ticks": ""
            },
            "type": "mesh3d"
           }
          ],
          "parcoords": [
           {
            "line": {
             "colorbar": {
              "outlinewidth": 0,
              "ticks": ""
             }
            },
            "type": "parcoords"
           }
          ],
          "pie": [
           {
            "automargin": true,
            "type": "pie"
           }
          ],
          "scatter": [
           {
            "fillpattern": {
             "fillmode": "overlay",
             "size": 10,
             "solidity": 0.2
            },
            "type": "scatter"
           }
          ],
          "scatter3d": [
           {
            "line": {
             "colorbar": {
              "outlinewidth": 0,
              "ticks": ""
             }
            },
            "marker": {
             "colorbar": {
              "outlinewidth": 0,
              "ticks": ""
             }
            },
            "type": "scatter3d"
           }
          ],
          "scattercarpet": [
           {
            "marker": {
             "colorbar": {
              "outlinewidth": 0,
              "ticks": ""
             }
            },
            "type": "scattercarpet"
           }
          ],
          "scattergeo": [
           {
            "marker": {
             "colorbar": {
              "outlinewidth": 0,
              "ticks": ""
             }
            },
            "type": "scattergeo"
           }
          ],
          "scattergl": [
           {
            "marker": {
             "colorbar": {
              "outlinewidth": 0,
              "ticks": ""
             }
            },
            "type": "scattergl"
           }
          ],
          "scattermapbox": [
           {
            "marker": {
             "colorbar": {
              "outlinewidth": 0,
              "ticks": ""
             }
            },
            "type": "scattermapbox"
           }
          ],
          "scatterpolar": [
           {
            "marker": {
             "colorbar": {
              "outlinewidth": 0,
              "ticks": ""
             }
            },
            "type": "scatterpolar"
           }
          ],
          "scatterpolargl": [
           {
            "marker": {
             "colorbar": {
              "outlinewidth": 0,
              "ticks": ""
             }
            },
            "type": "scatterpolargl"
           }
          ],
          "scatterternary": [
           {
            "marker": {
             "colorbar": {
              "outlinewidth": 0,
              "ticks": ""
             }
            },
            "type": "scatterternary"
           }
          ],
          "surface": [
           {
            "colorbar": {
             "outlinewidth": 0,
             "ticks": ""
            },
            "colorscale": [
             [
              0,
              "#0d0887"
             ],
             [
              0.1111111111111111,
              "#46039f"
             ],
             [
              0.2222222222222222,
              "#7201a8"
             ],
             [
              0.3333333333333333,
              "#9c179e"
             ],
             [
              0.4444444444444444,
              "#bd3786"
             ],
             [
              0.5555555555555556,
              "#d8576b"
             ],
             [
              0.6666666666666666,
              "#ed7953"
             ],
             [
              0.7777777777777778,
              "#fb9f3a"
             ],
             [
              0.8888888888888888,
              "#fdca26"
             ],
             [
              1,
              "#f0f921"
             ]
            ],
            "type": "surface"
           }
          ],
          "table": [
           {
            "cells": {
             "fill": {
              "color": "#EBF0F8"
             },
             "line": {
              "color": "white"
             }
            },
            "header": {
             "fill": {
              "color": "#C8D4E3"
             },
             "line": {
              "color": "white"
             }
            },
            "type": "table"
           }
          ]
         },
         "layout": {
          "annotationdefaults": {
           "arrowcolor": "#2a3f5f",
           "arrowhead": 0,
           "arrowwidth": 1
          },
          "autotypenumbers": "strict",
          "coloraxis": {
           "colorbar": {
            "outlinewidth": 0,
            "ticks": ""
           }
          },
          "colorscale": {
           "diverging": [
            [
             0,
             "#8e0152"
            ],
            [
             0.1,
             "#c51b7d"
            ],
            [
             0.2,
             "#de77ae"
            ],
            [
             0.3,
             "#f1b6da"
            ],
            [
             0.4,
             "#fde0ef"
            ],
            [
             0.5,
             "#f7f7f7"
            ],
            [
             0.6,
             "#e6f5d0"
            ],
            [
             0.7,
             "#b8e186"
            ],
            [
             0.8,
             "#7fbc41"
            ],
            [
             0.9,
             "#4d9221"
            ],
            [
             1,
             "#276419"
            ]
           ],
           "sequential": [
            [
             0,
             "#0d0887"
            ],
            [
             0.1111111111111111,
             "#46039f"
            ],
            [
             0.2222222222222222,
             "#7201a8"
            ],
            [
             0.3333333333333333,
             "#9c179e"
            ],
            [
             0.4444444444444444,
             "#bd3786"
            ],
            [
             0.5555555555555556,
             "#d8576b"
            ],
            [
             0.6666666666666666,
             "#ed7953"
            ],
            [
             0.7777777777777778,
             "#fb9f3a"
            ],
            [
             0.8888888888888888,
             "#fdca26"
            ],
            [
             1,
             "#f0f921"
            ]
           ],
           "sequentialminus": [
            [
             0,
             "#0d0887"
            ],
            [
             0.1111111111111111,
             "#46039f"
            ],
            [
             0.2222222222222222,
             "#7201a8"
            ],
            [
             0.3333333333333333,
             "#9c179e"
            ],
            [
             0.4444444444444444,
             "#bd3786"
            ],
            [
             0.5555555555555556,
             "#d8576b"
            ],
            [
             0.6666666666666666,
             "#ed7953"
            ],
            [
             0.7777777777777778,
             "#fb9f3a"
            ],
            [
             0.8888888888888888,
             "#fdca26"
            ],
            [
             1,
             "#f0f921"
            ]
           ]
          },
          "colorway": [
           "#636efa",
           "#EF553B",
           "#00cc96",
           "#ab63fa",
           "#FFA15A",
           "#19d3f3",
           "#FF6692",
           "#B6E880",
           "#FF97FF",
           "#FECB52"
          ],
          "font": {
           "color": "#2a3f5f"
          },
          "geo": {
           "bgcolor": "white",
           "lakecolor": "white",
           "landcolor": "#E5ECF6",
           "showlakes": true,
           "showland": true,
           "subunitcolor": "white"
          },
          "hoverlabel": {
           "align": "left"
          },
          "hovermode": "closest",
          "mapbox": {
           "style": "light"
          },
          "paper_bgcolor": "white",
          "plot_bgcolor": "#E5ECF6",
          "polar": {
           "angularaxis": {
            "gridcolor": "white",
            "linecolor": "white",
            "ticks": ""
           },
           "bgcolor": "#E5ECF6",
           "radialaxis": {
            "gridcolor": "white",
            "linecolor": "white",
            "ticks": ""
           }
          },
          "scene": {
           "xaxis": {
            "backgroundcolor": "#E5ECF6",
            "gridcolor": "white",
            "gridwidth": 2,
            "linecolor": "white",
            "showbackground": true,
            "ticks": "",
            "zerolinecolor": "white"
           },
           "yaxis": {
            "backgroundcolor": "#E5ECF6",
            "gridcolor": "white",
            "gridwidth": 2,
            "linecolor": "white",
            "showbackground": true,
            "ticks": "",
            "zerolinecolor": "white"
           },
           "zaxis": {
            "backgroundcolor": "#E5ECF6",
            "gridcolor": "white",
            "gridwidth": 2,
            "linecolor": "white",
            "showbackground": true,
            "ticks": "",
            "zerolinecolor": "white"
           }
          },
          "shapedefaults": {
           "line": {
            "color": "#2a3f5f"
           }
          },
          "ternary": {
           "aaxis": {
            "gridcolor": "white",
            "linecolor": "white",
            "ticks": ""
           },
           "baxis": {
            "gridcolor": "white",
            "linecolor": "white",
            "ticks": ""
           },
           "bgcolor": "#E5ECF6",
           "caxis": {
            "gridcolor": "white",
            "linecolor": "white",
            "ticks": ""
           }
          },
          "title": {
           "x": 0.05
          },
          "xaxis": {
           "automargin": true,
           "gridcolor": "white",
           "linecolor": "white",
           "ticks": "",
           "title": {
            "standoff": 15
           },
           "zerolinecolor": "white",
           "zerolinewidth": 2
          },
          "yaxis": {
           "automargin": true,
           "gridcolor": "white",
           "linecolor": "white",
           "ticks": "",
           "title": {
            "standoff": 15
           },
           "zerolinecolor": "white",
           "zerolinewidth": 2
          }
         }
        },
        "title": {
         "text": "Distribution of Jobs Categories"
        },
        "xaxis": {
         "anchor": "y",
         "categoryorder": "total descending",
         "domain": [
          0,
          1
         ],
         "title": {
          "text": "Category"
         }
        },
        "yaxis": {
         "anchor": "x",
         "domain": [
          0,
          1
         ],
         "title": {
          "text": "count"
         }
        }
       }
      }
     },
     "metadata": {},
     "output_type": "display_data"
    }
   ],
   "source": [
    "fig = px.histogram(\n",
    "    data, x=\"Category\", title=\"Distribution of Jobs Categories\"\n",
    ").update_xaxes(categoryorder=\"total descending\")\n",
    "fig.show()"
   ]
  },
  {
   "cell_type": "code",
   "execution_count": 11,
   "metadata": {},
   "outputs": [],
   "source": [
    "Job_cat = data[\"Category\"].unique()\n",
    "Job_cat = np.append(Job_cat, \"ALL\")"
   ]
  },
  {
   "cell_type": "code",
   "execution_count": 12,
   "metadata": {},
   "outputs": [
    {
     "data": {
      "text/plain": [
       "array(['ENGINEERING', 'AVIATION', 'AGRICULTURE', 'BANKING',\n",
       "       'CONSTRUCTION', 'ADVOCATE', 'ACCOUNTANT', 'FINANCE', 'HR',\n",
       "       'FITNESS', 'CHEF', 'PUBLIC-RELATIONS', 'BUSINESS-DEVELOPMENT',\n",
       "       'CONSULTANT', 'DESIGNER', 'HEALTHCARE', 'TEACHER', 'APPAREL',\n",
       "       'DIGITAL-MEDIA', 'SALES', 'ARTS', 'INFORMATION-TECHNOLOGY',\n",
       "       'AUTOMOBILE', 'BPO', 'ALL'], dtype=object)"
      ]
     },
     "execution_count": 12,
     "metadata": {},
     "output_type": "execute_result"
    }
   ],
   "source": [
    "Job_cat"
   ]
  },
  {
   "cell_type": "code",
   "execution_count": 13,
   "metadata": {},
   "outputs": [],
   "source": [
    "def dropdown_menu_widget(Job_Category):\n",
    "    output=widgets.Output()\n",
    "    drop_Job=widgets.Dropdown(options = Job_Category, value=None, description='Job Category:')\n",
    "    \n",
    "    for cat in Job_Category:\n",
    "        def dropdown_Job_eventhandler(change):\n",
    "            display(input_widgets)\n",
    "            job_choice=change.new\n",
    "            IPython.display.clear_output(wait=True)\n",
    "    drop_Job.observe(dropdown_Job_eventhandler,names='value')\n",
    "    input_widgets=widgets.HBox([drop_Job])\n",
    "    display(input_widgets)\n",
    "    IPython.display.clear_output(wait=True)\n"
   ]
  },
  {
   "cell_type": "code",
   "execution_count": 14,
   "metadata": {},
   "outputs": [
    {
     "data": {
      "application/vnd.jupyter.widget-view+json": {
       "model_id": "39dd716c64974b36993b965db69ee644",
       "version_major": 2,
       "version_minor": 0
      },
      "text/plain": [
       "HBox(children=(Dropdown(description='Job Category:', options=('ENGINEERING', 'AVIATION', 'AGRICULTURE', 'BANKI…"
      ]
     },
     "metadata": {},
     "output_type": "display_data"
    }
   ],
   "source": [
    "dropdown_menu_widget(Job_cat)"
   ]
  },
  {
   "cell_type": "code",
   "execution_count": 15,
   "metadata": {},
   "outputs": [],
   "source": [
    "Job_Category=\"INFORMATION-TECHNOLOGY\""
   ]
  },
  {
   "cell_type": "code",
   "execution_count": 16,
   "metadata": {},
   "outputs": [],
   "source": [
    "Total_skills = []\n",
    "if Job_Category != \"ALL\":\n",
    "    fltr = data[data[\"Category\"] == Job_Category][\"skills\"]\n",
    "    for x in fltr:\n",
    "        for i in x:\n",
    "            Total_skills.append(i)\n",
    "else:\n",
    "    fltr = data[\"skills\"]\n",
    "    for x in fltr:\n",
    "        for i in x:\n",
    "            Total_skills.append(i)\n",
    "\n"
   ]
  },
  {
   "cell_type": "code",
   "execution_count": 17,
   "metadata": {},
   "outputs": [
    {
     "data": {
      "application/vnd.plotly.v1+json": {
       "config": {
        "plotlyServerURL": "https://plot.ly"
       },
       "data": [
        {
         "alignmentgroup": "True",
         "bingroup": "x",
         "hovertemplate": "Skills=%{x}<br>count=%{y}<extra></extra>",
         "legendgroup": "",
         "marker": {
          "color": "#636efa",
          "pattern": {
           "shape": ""
          }
         },
         "name": "",
         "offsetgroup": "",
         "orientation": "v",
         "showlegend": false,
         "type": "histogram",
         "x": [
          "data center",
          "web server",
          "deployment",
          "server",
          "operating system",
          "support",
          "business",
          "software",
          "security",
          "database",
          "framework",
          "interaction",
          "advertising",
          "material",
          "operating system",
          "design",
          "data acquisition",
          "deployment",
          "project management",
          "schedule",
          "confluence",
          "trello",
          "collaboration",
          "support",
          "business",
          "software",
          "workflow",
          "performance metric",
          "release",
          "supervisory control",
          "framework",
          "library",
          "debugging",
          "operating system",
          "support",
          "application server",
          "database",
          "oracle",
          "virtual machine",
          "file system",
          "network performance",
          "documentation",
          "security",
          "network management",
          "business",
          "software",
          "engineering",
          "monitoring",
          "help desk",
          "computer engineering",
          "user profile",
          "server",
          "system testing",
          "system integration",
          "design",
          "performance monitoring",
          "scanner",
          "virtual machine",
          "server",
          "testing",
          "component",
          "router",
          "support",
          "wireless",
          "engineering",
          "computer network",
          "software",
          "security",
          "access network",
          "material",
          "schedule",
          "data system",
          "testing",
          "support",
          "engineering",
          "system integration",
          "specification",
          "documentation",
          "resource allocation",
          "security",
          "local area network",
          "design",
          "library",
          "testing",
          "operating system",
          "support",
          "database",
          "oracle",
          "virtual machine",
          "material",
          "collaboration",
          "documentation",
          "security",
          "schedule",
          "workload",
          "data center",
          "ai",
          "business",
          "certificate",
          "software",
          "engineering",
          "project management",
          "server",
          "relational database",
          "computer hardware",
          "system integration",
          "design",
          "scanner",
          "deployment",
          "operating system",
          "router",
          "support",
          "business",
          "ethernet",
          "software",
          "security",
          "data file",
          "network security",
          "business process",
          "library",
          "wide area network",
          "support",
          "document management system",
          "database",
          "material",
          "mobile",
          "network architecture",
          "security",
          "data center",
          "business",
          "software",
          "release",
          "marketing",
          "server",
          "medium",
          "ecommerce",
          "design",
          "design",
          "library",
          "eclipse",
          "mysql",
          "operating system",
          "support",
          "database",
          "framework",
          "asp net",
          "data model",
          "bootstrap",
          "mobile",
          "file system",
          "data access",
          "java",
          "front end",
          "security",
          "text editor",
          "jquery",
          "github",
          "business",
          "web service",
          "software",
          "data warehouse",
          "engineering",
          "sorting",
          "computer engineering",
          "authentication",
          "server",
          "user interface",
          "visual studio",
          "schedule",
          "data retrieval",
          "javascript",
          "material",
          "accounting",
          "support",
          "business",
          "schedule",
          "finance",
          "database security",
          "testing",
          "operating system",
          "support",
          "terminal",
          "document management system",
          "database",
          "data integrity",
          "oracle",
          "data access",
          "security",
          "business",
          "software",
          "engineering",
          "monitoring",
          "database design",
          "rotation",
          "server",
          "pattern recognition",
          "design",
          "data model",
          "performance monitoring",
          "accounting",
          "data center",
          "deployment",
          "project management",
          "server",
          "release",
          "collaboration",
          "router",
          "support",
          "business",
          "software",
          "security",
          "design",
          "monitoring",
          "help desk",
          "telephony",
          "business administration",
          "testing",
          "support",
          "publishing",
          "database",
          "mobile",
          "wordpress",
          "information management",
          "wireless",
          "security",
          "business",
          "certificate",
          "software",
          "help desk",
          "wireless network",
          "box",
          "marketing",
          "server",
          "ethernet",
          "specification",
          "complex system",
          "deployment",
          "schedule",
          "server",
          "business process",
          "router",
          "support",
          "business",
          "terminal",
          "local area network",
          "project management",
          "help desk",
          "network security",
          "computer programming",
          "operating system",
          "support",
          "material",
          "security",
          "documentation",
          "router",
          "business",
          "computer network",
          "software",
          "engineering",
          "project management",
          "wireless network",
          "access control",
          "microprocessor",
          "server",
          "specification",
          "design",
          "material",
          "support",
          "computer hardware",
          "business",
          "certificate",
          "software",
          "workflow",
          "documentation",
          "tracking system",
          "project management",
          "network security",
          "business process",
          "visual basic",
          "testing",
          "operating system",
          "support",
          "terminal",
          "database",
          "content management",
          "mobile",
          "java",
          "security",
          "response time",
          "business",
          "software",
          "project management",
          "computer science",
          "help desk",
          "server",
          "medium",
          "design",
          "library",
          "business administration",
          "support",
          "workflow",
          "database",
          "oracle",
          "asp net",
          "visualization",
          "tableau",
          "security",
          "data center",
          "business intelligence",
          "data management",
          "business",
          "software",
          "project management",
          "help desk",
          "database design",
          "server",
          "visual basic",
          "testing",
          "support",
          "workflow",
          "database",
          "oracle",
          "asp net",
          "material",
          "security",
          "crystal",
          "business",
          "software",
          "adobe photoshop",
          "project management",
          "release",
          "help desk",
          "database design",
          "marketing",
          "server",
          "specification",
          "data file",
          "design",
          "design",
          "deployment",
          "schedule",
          "debugging",
          "testing",
          "database",
          "business intelligence",
          "support",
          "medium",
          "business",
          "software",
          "documentation",
          "security",
          "local area network",
          "project management",
          "monitoring",
          "framework",
          "deployment",
          "analytics",
          "business process",
          "testing",
          "operating system",
          "support",
          "code quality",
          "database",
          "python",
          "framework",
          "oracle",
          "java",
          "data validation",
          "documentation",
          "middleware",
          "jquery",
          "ajax",
          "business intelligence",
          "drupal",
          "software",
          "computer science",
          "visual studio",
          "scripting language",
          "selenium",
          "system testing",
          "design",
          "apache tomcat",
          "javascript",
          "schedule",
          "server",
          "business process",
          "security",
          "testing",
          "component",
          "operating system",
          "support",
          "linux",
          "engineering",
          "software",
          "documentation",
          "database",
          "project management",
          "accounting",
          "server",
          "skype",
          "testing",
          "component",
          "operating system",
          "router",
          "support",
          "business",
          "terminal",
          "software",
          "security",
          "design",
          "high availability",
          "data center",
          "design",
          "server",
          "back office",
          "computer science",
          "operating system",
          "router",
          "support",
          "business",
          "software",
          "security",
          "access network",
          "project management",
          "source document",
          "network security",
          "deployment",
          "business process",
          "wide area network",
          "testing",
          "business administration",
          "operating system",
          "support",
          "terminal",
          "database",
          "encryption",
          "complex system",
          "material",
          "information management",
          "wireless",
          "documentation",
          "security",
          "schedule",
          "router",
          "data processing",
          "business",
          "certificate",
          "software",
          "password management",
          "monitoring",
          "help desk",
          "access control",
          "server",
          "component",
          "design",
          "computer program",
          "server",
          "business process",
          "business administration",
          "testing",
          "router",
          "relay",
          "support",
          "certificate",
          "terminal",
          "documentation",
          "workflow",
          "security",
          "monitoring",
          "encryption",
          "design",
          "business process",
          "testing",
          "support",
          "database",
          "framework",
          "oracle",
          "data structure",
          "functional testing",
          "collaboration",
          "documentation",
          "security",
          "time tracking",
          "queue",
          "business",
          "software",
          "engineering",
          "interaction",
          "release",
          "monitoring",
          "component",
          "financial system",
          "specification",
          "schedule",
          "design",
          "marketing",
          "data analysis",
          "certificate",
          "specification",
          "software",
          "project management",
          "design",
          "programming language",
          "project management",
          "mobile",
          "visual basic",
          "python",
          "router",
          "support",
          "java",
          "wireless",
          "google",
          "software",
          "computer science",
          "help desk",
          "framework",
          "javascript",
          "complex system",
          "material",
          "network security",
          "bash",
          "computer science",
          "testing",
          "router",
          "support",
          "linux",
          "wireless",
          "computer network",
          "medium",
          "software",
          "security",
          "intrusion detection system",
          "monitoring",
          "data center",
          "project management",
          "server",
          "operating system",
          "relational database",
          "relay",
          "support",
          "business",
          "computer network",
          "linux",
          "documentation",
          "software",
          "security",
          "database",
          "design",
          "monitoring",
          "finance",
          "oracle",
          "fortran",
          "wide area network",
          "operating system",
          "support",
          "terminal",
          "database",
          "data integrity",
          "data transmission",
          "wireless",
          "security",
          "shell",
          "data processing",
          "software",
          "computer science",
          "wireless network",
          "software engineering",
          "server",
          "data analysis",
          "relational database",
          "specification",
          "design",
          "data center",
          "server",
          "unity",
          "mobile",
          "data sharing",
          "web app",
          "support",
          "business",
          "software",
          "workflow",
          "security",
          "interaction",
          "project management",
          "monitoring",
          "help desk",
          "framework",
          "deployment",
          "business process",
          "testing",
          "support",
          "electronic data interchange",
          "oracle",
          "material",
          "wireless",
          "schedule",
          "data processing",
          "business",
          "software",
          "engineering",
          "release",
          "project management",
          "computer science",
          "high availability",
          "financial system",
          "system integration",
          "design",
          "data model",
          "network security",
          "deployment",
          "box",
          "server",
          "network performance",
          "testing",
          "component",
          "operating system",
          "router",
          "support",
          "wireless",
          "business",
          "data processing",
          "software",
          "documentation",
          "security",
          "design",
          "help desk",
          "material",
          "schedule",
          "data structure",
          "project management",
          "testing",
          "data analysis",
          "support",
          "business",
          "terminal",
          "software",
          "security",
          "database",
          "design",
          "database design",
          "distributed file system",
          "server",
          "mobile",
          "operating system",
          "microsoft sql server",
          "support",
          "terminal",
          "software",
          "security",
          "database",
          "deployment",
          "business process",
          "testing",
          "support",
          "database",
          "azure",
          "material",
          "mobile",
          "network performance",
          "documentation",
          "security",
          "crystal",
          "linux",
          "business",
          "software",
          "access network",
          "resource allocation",
          "monitoring",
          "help desk",
          "project management",
          "vmware vsphere",
          "server",
          "diagram",
          "component",
          "data analysis",
          "performance monitoring",
          "design",
          "business",
          "marketing",
          "medium",
          "deployment",
          "business administration",
          "support",
          "publishing",
          "database",
          "asp net",
          "material",
          "mobile",
          "documentation",
          "crystal",
          "linux",
          "business",
          "computer network",
          "certificate",
          "software",
          "release",
          "help desk",
          "database design",
          "scanner",
          "web server",
          "server",
          "diagram",
          "visual studio",
          "data analysis",
          "design",
          "deployment",
          "wide area network",
          "visual basic",
          "operating system",
          "support",
          "workflow",
          "database",
          "segment",
          "decision support system",
          "microcomputer",
          "security",
          "software",
          "local area network",
          "release",
          "project management",
          "help desk",
          "scanner",
          "authentication",
          "server",
          "computer architecture",
          "computer hardware",
          "system testing",
          "design",
          "design",
          "gradle",
          "query language",
          "object model",
          "library",
          "eclipse",
          "mysql",
          "testing",
          "business",
          "postgresql",
          "operating system",
          "algorithm design",
          "continuous integration",
          "database",
          "angularjs",
          "framework",
          "oracle",
          "maven",
          "data structure",
          "bootstrap",
          "mobile",
          "android",
          "smart card",
          "java",
          "engineering",
          "spring boot",
          "search engine",
          "documentation",
          "security",
          "junit",
          "microcontroller",
          "robot",
          "queue",
          "programming language",
          "codeigniter",
          "jquery",
          "github",
          "cucumber",
          "linux",
          "web service",
          "jenkins",
          "software",
          "git",
          "hibernate",
          "interaction",
          "version control system",
          "mongodb",
          "npm",
          "grunt",
          "monitoring",
          "sorting",
          "database design",
          "computer science",
          "server",
          "bower",
          "user interface",
          "component",
          "phonegap",
          "specification",
          "spring",
          "selenium",
          "javascript",
          "accounting",
          "deployment",
          "support",
          "database",
          "data integrity",
          "mobile",
          "data sharing",
          "wireless",
          "security",
          "data integration",
          "commerce",
          "data modeling",
          "business",
          "software",
          "data warehouse",
          "interaction",
          "monitoring",
          "wireless network",
          "marketing",
          "server",
          "design",
          "scanner",
          "material",
          "network security",
          "deployment",
          "library",
          "testing",
          "visual studio",
          "support",
          "data validation",
          "computer hardware",
          "business",
          "wireless",
          "software",
          "security",
          "database",
          "computer science",
          "wireless network",
          "asp net",
          "accounting",
          "marketing",
          "business administration",
          "font",
          "operating system",
          "support",
          "business",
          "software",
          "design",
          "help desk",
          "finance"
         ],
         "xaxis": "x",
         "yaxis": "y"
        }
       ],
       "layout": {
        "barmode": "relative",
        "legend": {
         "tracegroupgap": 0
        },
        "template": {
         "data": {
          "bar": [
           {
            "error_x": {
             "color": "#2a3f5f"
            },
            "error_y": {
             "color": "#2a3f5f"
            },
            "marker": {
             "line": {
              "color": "#E5ECF6",
              "width": 0.5
             },
             "pattern": {
              "fillmode": "overlay",
              "size": 10,
              "solidity": 0.2
             }
            },
            "type": "bar"
           }
          ],
          "barpolar": [
           {
            "marker": {
             "line": {
              "color": "#E5ECF6",
              "width": 0.5
             },
             "pattern": {
              "fillmode": "overlay",
              "size": 10,
              "solidity": 0.2
             }
            },
            "type": "barpolar"
           }
          ],
          "carpet": [
           {
            "aaxis": {
             "endlinecolor": "#2a3f5f",
             "gridcolor": "white",
             "linecolor": "white",
             "minorgridcolor": "white",
             "startlinecolor": "#2a3f5f"
            },
            "baxis": {
             "endlinecolor": "#2a3f5f",
             "gridcolor": "white",
             "linecolor": "white",
             "minorgridcolor": "white",
             "startlinecolor": "#2a3f5f"
            },
            "type": "carpet"
           }
          ],
          "choropleth": [
           {
            "colorbar": {
             "outlinewidth": 0,
             "ticks": ""
            },
            "type": "choropleth"
           }
          ],
          "contour": [
           {
            "colorbar": {
             "outlinewidth": 0,
             "ticks": ""
            },
            "colorscale": [
             [
              0,
              "#0d0887"
             ],
             [
              0.1111111111111111,
              "#46039f"
             ],
             [
              0.2222222222222222,
              "#7201a8"
             ],
             [
              0.3333333333333333,
              "#9c179e"
             ],
             [
              0.4444444444444444,
              "#bd3786"
             ],
             [
              0.5555555555555556,
              "#d8576b"
             ],
             [
              0.6666666666666666,
              "#ed7953"
             ],
             [
              0.7777777777777778,
              "#fb9f3a"
             ],
             [
              0.8888888888888888,
              "#fdca26"
             ],
             [
              1,
              "#f0f921"
             ]
            ],
            "type": "contour"
           }
          ],
          "contourcarpet": [
           {
            "colorbar": {
             "outlinewidth": 0,
             "ticks": ""
            },
            "type": "contourcarpet"
           }
          ],
          "heatmap": [
           {
            "colorbar": {
             "outlinewidth": 0,
             "ticks": ""
            },
            "colorscale": [
             [
              0,
              "#0d0887"
             ],
             [
              0.1111111111111111,
              "#46039f"
             ],
             [
              0.2222222222222222,
              "#7201a8"
             ],
             [
              0.3333333333333333,
              "#9c179e"
             ],
             [
              0.4444444444444444,
              "#bd3786"
             ],
             [
              0.5555555555555556,
              "#d8576b"
             ],
             [
              0.6666666666666666,
              "#ed7953"
             ],
             [
              0.7777777777777778,
              "#fb9f3a"
             ],
             [
              0.8888888888888888,
              "#fdca26"
             ],
             [
              1,
              "#f0f921"
             ]
            ],
            "type": "heatmap"
           }
          ],
          "heatmapgl": [
           {
            "colorbar": {
             "outlinewidth": 0,
             "ticks": ""
            },
            "colorscale": [
             [
              0,
              "#0d0887"
             ],
             [
              0.1111111111111111,
              "#46039f"
             ],
             [
              0.2222222222222222,
              "#7201a8"
             ],
             [
              0.3333333333333333,
              "#9c179e"
             ],
             [
              0.4444444444444444,
              "#bd3786"
             ],
             [
              0.5555555555555556,
              "#d8576b"
             ],
             [
              0.6666666666666666,
              "#ed7953"
             ],
             [
              0.7777777777777778,
              "#fb9f3a"
             ],
             [
              0.8888888888888888,
              "#fdca26"
             ],
             [
              1,
              "#f0f921"
             ]
            ],
            "type": "heatmapgl"
           }
          ],
          "histogram": [
           {
            "marker": {
             "pattern": {
              "fillmode": "overlay",
              "size": 10,
              "solidity": 0.2
             }
            },
            "type": "histogram"
           }
          ],
          "histogram2d": [
           {
            "colorbar": {
             "outlinewidth": 0,
             "ticks": ""
            },
            "colorscale": [
             [
              0,
              "#0d0887"
             ],
             [
              0.1111111111111111,
              "#46039f"
             ],
             [
              0.2222222222222222,
              "#7201a8"
             ],
             [
              0.3333333333333333,
              "#9c179e"
             ],
             [
              0.4444444444444444,
              "#bd3786"
             ],
             [
              0.5555555555555556,
              "#d8576b"
             ],
             [
              0.6666666666666666,
              "#ed7953"
             ],
             [
              0.7777777777777778,
              "#fb9f3a"
             ],
             [
              0.8888888888888888,
              "#fdca26"
             ],
             [
              1,
              "#f0f921"
             ]
            ],
            "type": "histogram2d"
           }
          ],
          "histogram2dcontour": [
           {
            "colorbar": {
             "outlinewidth": 0,
             "ticks": ""
            },
            "colorscale": [
             [
              0,
              "#0d0887"
             ],
             [
              0.1111111111111111,
              "#46039f"
             ],
             [
              0.2222222222222222,
              "#7201a8"
             ],
             [
              0.3333333333333333,
              "#9c179e"
             ],
             [
              0.4444444444444444,
              "#bd3786"
             ],
             [
              0.5555555555555556,
              "#d8576b"
             ],
             [
              0.6666666666666666,
              "#ed7953"
             ],
             [
              0.7777777777777778,
              "#fb9f3a"
             ],
             [
              0.8888888888888888,
              "#fdca26"
             ],
             [
              1,
              "#f0f921"
             ]
            ],
            "type": "histogram2dcontour"
           }
          ],
          "mesh3d": [
           {
            "colorbar": {
             "outlinewidth": 0,
             "ticks": ""
            },
            "type": "mesh3d"
           }
          ],
          "parcoords": [
           {
            "line": {
             "colorbar": {
              "outlinewidth": 0,
              "ticks": ""
             }
            },
            "type": "parcoords"
           }
          ],
          "pie": [
           {
            "automargin": true,
            "type": "pie"
           }
          ],
          "scatter": [
           {
            "fillpattern": {
             "fillmode": "overlay",
             "size": 10,
             "solidity": 0.2
            },
            "type": "scatter"
           }
          ],
          "scatter3d": [
           {
            "line": {
             "colorbar": {
              "outlinewidth": 0,
              "ticks": ""
             }
            },
            "marker": {
             "colorbar": {
              "outlinewidth": 0,
              "ticks": ""
             }
            },
            "type": "scatter3d"
           }
          ],
          "scattercarpet": [
           {
            "marker": {
             "colorbar": {
              "outlinewidth": 0,
              "ticks": ""
             }
            },
            "type": "scattercarpet"
           }
          ],
          "scattergeo": [
           {
            "marker": {
             "colorbar": {
              "outlinewidth": 0,
              "ticks": ""
             }
            },
            "type": "scattergeo"
           }
          ],
          "scattergl": [
           {
            "marker": {
             "colorbar": {
              "outlinewidth": 0,
              "ticks": ""
             }
            },
            "type": "scattergl"
           }
          ],
          "scattermapbox": [
           {
            "marker": {
             "colorbar": {
              "outlinewidth": 0,
              "ticks": ""
             }
            },
            "type": "scattermapbox"
           }
          ],
          "scatterpolar": [
           {
            "marker": {
             "colorbar": {
              "outlinewidth": 0,
              "ticks": ""
             }
            },
            "type": "scatterpolar"
           }
          ],
          "scatterpolargl": [
           {
            "marker": {
             "colorbar": {
              "outlinewidth": 0,
              "ticks": ""
             }
            },
            "type": "scatterpolargl"
           }
          ],
          "scatterternary": [
           {
            "marker": {
             "colorbar": {
              "outlinewidth": 0,
              "ticks": ""
             }
            },
            "type": "scatterternary"
           }
          ],
          "surface": [
           {
            "colorbar": {
             "outlinewidth": 0,
             "ticks": ""
            },
            "colorscale": [
             [
              0,
              "#0d0887"
             ],
             [
              0.1111111111111111,
              "#46039f"
             ],
             [
              0.2222222222222222,
              "#7201a8"
             ],
             [
              0.3333333333333333,
              "#9c179e"
             ],
             [
              0.4444444444444444,
              "#bd3786"
             ],
             [
              0.5555555555555556,
              "#d8576b"
             ],
             [
              0.6666666666666666,
              "#ed7953"
             ],
             [
              0.7777777777777778,
              "#fb9f3a"
             ],
             [
              0.8888888888888888,
              "#fdca26"
             ],
             [
              1,
              "#f0f921"
             ]
            ],
            "type": "surface"
           }
          ],
          "table": [
           {
            "cells": {
             "fill": {
              "color": "#EBF0F8"
             },
             "line": {
              "color": "white"
             }
            },
            "header": {
             "fill": {
              "color": "#C8D4E3"
             },
             "line": {
              "color": "white"
             }
            },
            "type": "table"
           }
          ]
         },
         "layout": {
          "annotationdefaults": {
           "arrowcolor": "#2a3f5f",
           "arrowhead": 0,
           "arrowwidth": 1
          },
          "autotypenumbers": "strict",
          "coloraxis": {
           "colorbar": {
            "outlinewidth": 0,
            "ticks": ""
           }
          },
          "colorscale": {
           "diverging": [
            [
             0,
             "#8e0152"
            ],
            [
             0.1,
             "#c51b7d"
            ],
            [
             0.2,
             "#de77ae"
            ],
            [
             0.3,
             "#f1b6da"
            ],
            [
             0.4,
             "#fde0ef"
            ],
            [
             0.5,
             "#f7f7f7"
            ],
            [
             0.6,
             "#e6f5d0"
            ],
            [
             0.7,
             "#b8e186"
            ],
            [
             0.8,
             "#7fbc41"
            ],
            [
             0.9,
             "#4d9221"
            ],
            [
             1,
             "#276419"
            ]
           ],
           "sequential": [
            [
             0,
             "#0d0887"
            ],
            [
             0.1111111111111111,
             "#46039f"
            ],
            [
             0.2222222222222222,
             "#7201a8"
            ],
            [
             0.3333333333333333,
             "#9c179e"
            ],
            [
             0.4444444444444444,
             "#bd3786"
            ],
            [
             0.5555555555555556,
             "#d8576b"
            ],
            [
             0.6666666666666666,
             "#ed7953"
            ],
            [
             0.7777777777777778,
             "#fb9f3a"
            ],
            [
             0.8888888888888888,
             "#fdca26"
            ],
            [
             1,
             "#f0f921"
            ]
           ],
           "sequentialminus": [
            [
             0,
             "#0d0887"
            ],
            [
             0.1111111111111111,
             "#46039f"
            ],
            [
             0.2222222222222222,
             "#7201a8"
            ],
            [
             0.3333333333333333,
             "#9c179e"
            ],
            [
             0.4444444444444444,
             "#bd3786"
            ],
            [
             0.5555555555555556,
             "#d8576b"
            ],
            [
             0.6666666666666666,
             "#ed7953"
            ],
            [
             0.7777777777777778,
             "#fb9f3a"
            ],
            [
             0.8888888888888888,
             "#fdca26"
            ],
            [
             1,
             "#f0f921"
            ]
           ]
          },
          "colorway": [
           "#636efa",
           "#EF553B",
           "#00cc96",
           "#ab63fa",
           "#FFA15A",
           "#19d3f3",
           "#FF6692",
           "#B6E880",
           "#FF97FF",
           "#FECB52"
          ],
          "font": {
           "color": "#2a3f5f"
          },
          "geo": {
           "bgcolor": "white",
           "lakecolor": "white",
           "landcolor": "#E5ECF6",
           "showlakes": true,
           "showland": true,
           "subunitcolor": "white"
          },
          "hoverlabel": {
           "align": "left"
          },
          "hovermode": "closest",
          "mapbox": {
           "style": "light"
          },
          "paper_bgcolor": "white",
          "plot_bgcolor": "#E5ECF6",
          "polar": {
           "angularaxis": {
            "gridcolor": "white",
            "linecolor": "white",
            "ticks": ""
           },
           "bgcolor": "#E5ECF6",
           "radialaxis": {
            "gridcolor": "white",
            "linecolor": "white",
            "ticks": ""
           }
          },
          "scene": {
           "xaxis": {
            "backgroundcolor": "#E5ECF6",
            "gridcolor": "white",
            "gridwidth": 2,
            "linecolor": "white",
            "showbackground": true,
            "ticks": "",
            "zerolinecolor": "white"
           },
           "yaxis": {
            "backgroundcolor": "#E5ECF6",
            "gridcolor": "white",
            "gridwidth": 2,
            "linecolor": "white",
            "showbackground": true,
            "ticks": "",
            "zerolinecolor": "white"
           },
           "zaxis": {
            "backgroundcolor": "#E5ECF6",
            "gridcolor": "white",
            "gridwidth": 2,
            "linecolor": "white",
            "showbackground": true,
            "ticks": "",
            "zerolinecolor": "white"
           }
          },
          "shapedefaults": {
           "line": {
            "color": "#2a3f5f"
           }
          },
          "ternary": {
           "aaxis": {
            "gridcolor": "white",
            "linecolor": "white",
            "ticks": ""
           },
           "baxis": {
            "gridcolor": "white",
            "linecolor": "white",
            "ticks": ""
           },
           "bgcolor": "#E5ECF6",
           "caxis": {
            "gridcolor": "white",
            "linecolor": "white",
            "ticks": ""
           }
          },
          "title": {
           "x": 0.05
          },
          "xaxis": {
           "automargin": true,
           "gridcolor": "white",
           "linecolor": "white",
           "ticks": "",
           "title": {
            "standoff": 15
           },
           "zerolinecolor": "white",
           "zerolinewidth": 2
          },
          "yaxis": {
           "automargin": true,
           "gridcolor": "white",
           "linecolor": "white",
           "ticks": "",
           "title": {
            "standoff": 15
           },
           "zerolinecolor": "white",
           "zerolinewidth": 2
          }
         }
        },
        "title": {
         "text": "INFORMATION-TECHNOLOGY Distribution of Skills"
        },
        "xaxis": {
         "anchor": "y",
         "categoryorder": "total descending",
         "domain": [
          0,
          1
         ],
         "title": {
          "text": "Skills"
         }
        },
        "yaxis": {
         "anchor": "x",
         "domain": [
          0,
          1
         ],
         "title": {
          "text": "count"
         }
        }
       }
      }
     },
     "metadata": {},
     "output_type": "display_data"
    }
   ],
   "source": [
    "fig = px.histogram(\n",
    "    x=Total_skills,\n",
    "    labels={\"x\": \"Skills\"},\n",
    "    title=f\"{Job_Category} Distribution of Skills\",\n",
    ").update_xaxes(categoryorder=\"total descending\")\n",
    "fig.show()"
   ]
  },
  {
   "attachments": {},
   "cell_type": "markdown",
   "metadata": {},
   "source": [
    "### **Most common words**\n"
   ]
  },
  {
   "cell_type": "code",
   "execution_count": 18,
   "metadata": {},
   "outputs": [
    {
     "data": {
      "text/plain": [
       "Text(0.5, 1.0, 'Most Used Words in INFORMATION-TECHNOLOGY Resume')"
      ]
     },
     "execution_count": 18,
     "metadata": {},
     "output_type": "execute_result"
    },
    {
     "data": {
      "image/png": "[encoded data removed]",
      "text/plain": [
       "<Figure size 800x800 with 1 Axes>"
      ]
     },
     "metadata": {},
     "output_type": "display_data"
    }
   ],
   "source": [
    "text = \"\"\n",
    "for i in data[data[\"Category\"] == Job_Category][\"Clean_Resume\"].values:\n",
    "    text += i + \" \"\n",
    "\n",
    "plt.figure(figsize=(8, 8))\n",
    "\n",
    "x, y = np.ogrid[:300, :300]\n",
    "\n",
    "mask = (x - 150) ** 2 + (y - 150) ** 2 > 130 ** 2\n",
    "mask = 255 * mask.astype(int)\n",
    "\n",
    "wc = WordCloud(\n",
    "    width=800,\n",
    "    height=800,\n",
    "    background_color=\"white\",\n",
    "    min_font_size=6,\n",
    "    repeat=True,\n",
    "    mask=mask,\n",
    ")\n",
    "wc.generate(text)\n",
    "\n",
    "plt.axis(\"off\")\n",
    "plt.imshow(wc, interpolation=\"bilinear\")\n",
    "plt.title(f\"Most Used Words in {Job_Category} Resume\", fontsize=20)"
   ]
  },
  {
   "cell_type": "markdown",
   "metadata": {},
   "source": [
    "### **Entity Recognition**\n",
    "We can also display various entities within our raw text by using spaCy displacy.render. I am in love with this function as it is an amazing way to look at your entire document and discover SKILL or GEP within your Resume."
   ]
  },
  {
   "cell_type": "code",
   "execution_count": 19,
   "metadata": {},
   "outputs": [
    {
     "data": {
      "text/html": [
       "<span class=\"tex2jax_ignore\"><div class=\"entities\" style=\"line-height: 2.5; direction: ltr\">         \n",
       "<mark class=\"entity\" style=\"background: #ddd; padding: 0.45em 0.6em; margin: 0 0.25em; line-height: 1; border-radius: 0.35em;\">\n",
       "    ENGINEERING\n",
       "    <span style=\"font-size: 0.8em; font-weight: bold; line-height: 1; border-radius: 0.35em; vertical-align: middle; margin-left: 0.5rem\">SKILL</span>\n",
       "</mark>\n",
       " ASSISTANT       Summary    Product and Process engineer with \n",
       "<mark class=\"entity\" style=\"background: #bfe1d9; padding: 0.45em 0.6em; margin: 0 0.25em; line-height: 1; border-radius: 0.35em;\">\n",
       "    more than three years\n",
       "    <span style=\"font-size: 0.8em; font-weight: bold; line-height: 1; border-radius: 0.35em; vertical-align: middle; margin-left: 0.5rem\">DATE</span>\n",
       "</mark>\n",
       " of experience with leading projects on new product development, new model assembly launch,</br>quality and \n",
       "<mark class=\"entity\" style=\"background: #7aecec; padding: 0.45em 0.6em; margin: 0 0.25em; line-height: 1; border-radius: 0.35em;\">\n",
       "    Toyota\n",
       "    <span style=\"font-size: 0.8em; font-weight: bold; line-height: 1; border-radius: 0.35em; vertical-align: middle; margin-left: 0.5rem\">ORG</span>\n",
       "</mark>\n",
       " production systems. Extensive understanding on \n",
       "<mark class=\"entity\" style=\"background: #ddd; padding: 0.45em 0.6em; margin: 0 0.25em; line-height: 1; border-radius: 0.35em;\">\n",
       "    process engineering\n",
       "    <span style=\"font-size: 0.8em; font-weight: bold; line-height: 1; border-radius: 0.35em; vertical-align: middle; margin-left: 0.5rem\">SKILL</span>\n",
       "</mark>\n",
       " and \n",
       "<mark class=\"entity\" style=\"background: #ddd; padding: 0.45em 0.6em; margin: 0 0.25em; line-height: 1; border-radius: 0.35em;\">\n",
       "    design\n",
       "    <span style=\"font-size: 0.8em; font-weight: bold; line-height: 1; border-radius: 0.35em; vertical-align: middle; margin-left: 0.5rem\">SKILL</span>\n",
       "</mark>\n",
       " and development of automotive systems.      \n",
       "<mark class=\"entity\" style=\"background: #7aecec; padding: 0.45em 0.6em; margin: 0 0.25em; line-height: 1; border-radius: 0.35em;\">\n",
       "    Skills        C\n",
       "    <span style=\"font-size: 0.8em; font-weight: bold; line-height: 1; border-radius: 0.35em; vertical-align: middle; margin-left: 0.5rem\">ORG</span>\n",
       "</mark>\n",
       ", \n",
       "<mark class=\"entity\" style=\"background: #ddd; padding: 0.45em 0.6em; margin: 0 0.25em; line-height: 1; border-radius: 0.35em;\">\n",
       "    R\n",
       "    <span style=\"font-size: 0.8em; font-weight: bold; line-height: 1; border-radius: 0.35em; vertical-align: middle; margin-left: 0.5rem\">SKILL</span>\n",
       "</mark>\n",
       ", \n",
       "<mark class=\"entity\" style=\"background: #feca74; padding: 0.45em 0.6em; margin: 0 0.25em; line-height: 1; border-radius: 0.35em;\">\n",
       "    Catia\n",
       "    <span style=\"font-size: 0.8em; font-weight: bold; line-height: 1; border-radius: 0.35em; vertical-align: middle; margin-left: 0.5rem\">GPE</span>\n",
       "</mark>\n",
       ", AutoCAD, \n",
       "<mark class=\"entity\" style=\"background: #7aecec; padding: 0.45em 0.6em; margin: 0 0.25em; line-height: 1; border-radius: 0.35em;\">\n",
       "    ANSYS\n",
       "    <span style=\"font-size: 0.8em; font-weight: bold; line-height: 1; border-radius: 0.35em; vertical-align: middle; margin-left: 0.5rem\">ORG</span>\n",
       "</mark>\n",
       ", \n",
       "<mark class=\"entity\" style=\"background: #7aecec; padding: 0.45em 0.6em; margin: 0 0.25em; line-height: 1; border-radius: 0.35em;\">\n",
       "    Microsoft\n",
       "    <span style=\"font-size: 0.8em; font-weight: bold; line-height: 1; border-radius: 0.35em; vertical-align: middle; margin-left: 0.5rem\">ORG</span>\n",
       "</mark>\n",
       " office, Product          \n",
       "<mark class=\"entity\" style=\"background: #7aecec; padding: 0.45em 0.6em; margin: 0 0.25em; line-height: 1; border-radius: 0.35em;\">\n",
       "    Project Management\n",
       "    <span style=\"font-size: 0.8em; font-weight: bold; line-height: 1; border-radius: 0.35em; vertical-align: middle; margin-left: 0.5rem\">ORG</span>\n",
       "</mark>\n",
       ", \n",
       "<mark class=\"entity\" style=\"background: #c887fb; padding: 0.45em 0.6em; margin: 0 0.25em; line-height: 1; border-radius: 0.35em;\">\n",
       "    GD&amp;T\n",
       "    <span style=\"font-size: 0.8em; font-weight: bold; line-height: 1; border-radius: 0.35em; vertical-align: middle; margin-left: 0.5rem\">NORP</span>\n",
       "</mark>\n",
       ", \n",
       "<mark class=\"entity\" style=\"background: #7aecec; padding: 0.45em 0.6em; margin: 0 0.25em; line-height: 1; border-radius: 0.35em;\">\n",
       "    Minitab\n",
       "    <span style=\"font-size: 0.8em; font-weight: bold; line-height: 1; border-radius: 0.35em; vertical-align: middle; margin-left: 0.5rem\">ORG</span>\n",
       "</mark>\n",
       ", \n",
       "<mark class=\"entity\" style=\"background: #7aecec; padding: 0.45em 0.6em; margin: 0 0.25em; line-height: 1; border-radius: 0.35em;\">\n",
       "    Kanban\n",
       "    <span style=\"font-size: 0.8em; font-weight: bold; line-height: 1; border-radius: 0.35em; vertical-align: middle; margin-left: 0.5rem\">ORG</span>\n",
       "</mark>\n",
       ", \n",
       "<mark class=\"entity\" style=\"background: #aa9cfc; padding: 0.45em 0.6em; margin: 0 0.25em; line-height: 1; border-radius: 0.35em;\">\n",
       "    Kaizen\n",
       "    <span style=\"font-size: 0.8em; font-weight: bold; line-height: 1; border-radius: 0.35em; vertical-align: middle; margin-left: 0.5rem\">PERSON</span>\n",
       "</mark>\n",
       ", \n",
       "<mark class=\"entity\" style=\"background: #7aecec; padding: 0.45em 0.6em; margin: 0 0.25em; line-height: 1; border-radius: 0.35em;\">\n",
       "    FMEA\n",
       "    <span style=\"font-size: 0.8em; font-weight: bold; line-height: 1; border-radius: 0.35em; vertical-align: middle; margin-left: 0.5rem\">ORG</span>\n",
       "</mark>\n",
       ". development.          \n",
       "<mark class=\"entity\" style=\"background: #7aecec; padding: 0.45em 0.6em; margin: 0 0.25em; line-height: 1; border-radius: 0.35em;\">\n",
       "    Toyota\n",
       "    <span style=\"font-size: 0.8em; font-weight: bold; line-height: 1; border-radius: 0.35em; vertical-align: middle; margin-left: 0.5rem\">ORG</span>\n",
       "</mark>\n",
       " production systems, \n",
       "<mark class=\"entity\" style=\"background: #7aecec; padding: 0.45em 0.6em; margin: 0 0.25em; line-height: 1; border-radius: 0.35em;\">\n",
       "    APQP\n",
       "    <span style=\"font-size: 0.8em; font-weight: bold; line-height: 1; border-radius: 0.35em; vertical-align: middle; margin-left: 0.5rem\">ORG</span>\n",
       "</mark>\n",
       ", \n",
       "<mark class=\"entity\" style=\"background: #7aecec; padding: 0.45em 0.6em; margin: 0 0.25em; line-height: 1; border-radius: 0.35em;\">\n",
       "    PPAP\n",
       "    <span style=\"font-size: 0.8em; font-weight: bold; line-height: 1; border-radius: 0.35em; vertical-align: middle; margin-left: 0.5rem\">ORG</span>\n",
       "</mark>\n",
       ", \n",
       "<mark class=\"entity\" style=\"background: #7aecec; padding: 0.45em 0.6em; margin: 0 0.25em; line-height: 1; border-radius: 0.35em;\">\n",
       "    8D\n",
       "    <span style=\"font-size: 0.8em; font-weight: bold; line-height: 1; border-radius: 0.35em; vertical-align: middle; margin-left: 0.5rem\">ORG</span>\n",
       "</mark>\n",
       ", \n",
       "<mark class=\"entity\" style=\"background: #e4e7d2; padding: 0.45em 0.6em; margin: 0 0.25em; line-height: 1; border-radius: 0.35em;\">\n",
       "    5\n",
       "    <span style=\"font-size: 0.8em; font-weight: bold; line-height: 1; border-radius: 0.35em; vertical-align: middle; margin-left: 0.5rem\">CARDINAL</span>\n",
       "</mark>\n",
       " why, \n",
       "<mark class=\"entity\" style=\"background: #7aecec; padding: 0.45em 0.6em; margin: 0 0.25em; line-height: 1; border-radius: 0.35em;\">\n",
       "    KPI\n",
       "    <span style=\"font-size: 0.8em; font-weight: bold; line-height: 1; border-radius: 0.35em; vertical-align: middle; margin-left: 0.5rem\">ORG</span>\n",
       "</mark>\n",
       "'s, \n",
       "<mark class=\"entity\" style=\"background: #7aecec; padding: 0.45em 0.6em; margin: 0 0.25em; line-height: 1; border-radius: 0.35em;\">\n",
       "    Reliability SAE Standards\n",
       "    <span style=\"font-size: 0.8em; font-weight: bold; line-height: 1; border-radius: 0.35em; vertical-align: middle; margin-left: 0.5rem\">ORG</span>\n",
       "</mark>\n",
       ", Vehicle ergonomics, \n",
       "<mark class=\"entity\" style=\"background: #7aecec; padding: 0.45em 0.6em; margin: 0 0.25em; line-height: 1; border-radius: 0.35em;\">\n",
       "    DVP&amp;R\n",
       "    <span style=\"font-size: 0.8em; font-weight: bold; line-height: 1; border-radius: 0.35em; vertical-align: middle; margin-left: 0.5rem\">ORG</span>\n",
       "</mark>\n",
       ", \n",
       "<mark class=\"entity\" style=\"background: #7aecec; padding: 0.45em 0.6em; margin: 0 0.25em; line-height: 1; border-radius: 0.35em;\">\n",
       "    QCC\n",
       "    <span style=\"font-size: 0.8em; font-weight: bold; line-height: 1; border-radius: 0.35em; vertical-align: middle; margin-left: 0.5rem\">ORG</span>\n",
       "</mark>\n",
       ", CNC          \n",
       "<mark class=\"entity\" style=\"background: #ddd; padding: 0.45em 0.6em; margin: 0 0.25em; line-height: 1; border-radius: 0.35em;\">\n",
       "    engineering\n",
       "    <span style=\"font-size: 0.8em; font-weight: bold; line-height: 1; border-radius: 0.35em; vertical-align: middle; margin-left: 0.5rem\">SKILL</span>\n",
       "</mark>\n",
       ". Programming            Experience     07/2017   to   08/2017     \n",
       "<mark class=\"entity\" style=\"background: #ddd; padding: 0.45em 0.6em; margin: 0 0.25em; line-height: 1; border-radius: 0.35em;\">\n",
       "    Engineering\n",
       "    <span style=\"font-size: 0.8em; font-weight: bold; line-height: 1; border-radius: 0.35em; vertical-align: middle; margin-left: 0.5rem\">SKILL</span>\n",
       "</mark>\n",
       " Assistant    Company Name   －   City  ,   \n",
       "<mark class=\"entity\" style=\"background: #7aecec; padding: 0.45em 0.6em; margin: 0 0.25em; line-height: 1; border-radius: 0.35em;\">\n",
       "    State\n",
       "    <span style=\"font-size: 0.8em; font-weight: bold; line-height: 1; border-radius: 0.35em; vertical-align: middle; margin-left: 0.5rem\">ORG</span>\n",
       "</mark>\n",
       "      Developed Delphi's SPQVC (Safety, People, Quality, Volume &amp; Cost) metrics to cut assembly issues by \n",
       "<mark class=\"entity\" style=\"background: #e4e7d2; padding: 0.45em 0.6em; margin: 0 0.25em; line-height: 1; border-radius: 0.35em;\">\n",
       "    10%\n",
       "    <span style=\"font-size: 0.8em; font-weight: bold; line-height: 1; border-radius: 0.35em; vertical-align: middle; margin-left: 0.5rem\">PERCENT</span>\n",
       "</mark>\n",
       ".  \n",
       "<mark class=\"entity\" style=\"background: #7aecec; padding: 0.45em 0.6em; margin: 0 0.25em; line-height: 1; border-radius: 0.35em;\">\n",
       "    Developed APQP\n",
       "    <span style=\"font-size: 0.8em; font-weight: bold; line-height: 1; border-radius: 0.35em; vertical-align: middle; margin-left: 0.5rem\">ORG</span>\n",
       "</mark>\n",
       ", cost estimations and integrated new fuel injectors models in the remanufacturing process line.  Performed \n",
       "<mark class=\"entity\" style=\"background: #7aecec; padding: 0.45em 0.6em; margin: 0 0.25em; line-height: 1; border-radius: 0.35em;\">\n",
       "    PFMEA\n",
       "    <span style=\"font-size: 0.8em; font-weight: bold; line-height: 1; border-radius: 0.35em; vertical-align: middle; margin-left: 0.5rem\">ORG</span>\n",
       "</mark>\n",
       ", root cause analysis and lead cross functional teams to resolve quality downtime issues.  Sustained and monitored lean manufacturing (\n",
       "<mark class=\"entity\" style=\"background: #bfeeb7; padding: 0.45em 0.6em; margin: 0 0.25em; line-height: 1; border-radius: 0.35em;\">\n",
       "    5S\n",
       "    <span style=\"font-size: 0.8em; font-weight: bold; line-height: 1; border-radius: 0.35em; vertical-align: middle; margin-left: 0.5rem\">PRODUCT</span>\n",
       "</mark>\n",
       ", workplace safety, \n",
       "<mark class=\"entity\" style=\"background: #aa9cfc; padding: 0.45em 0.6em; margin: 0 0.25em; line-height: 1; border-radius: 0.35em;\">\n",
       "    Kaizen\n",
       "    <span style=\"font-size: 0.8em; font-weight: bold; line-height: 1; border-radius: 0.35em; vertical-align: middle; margin-left: 0.5rem\">PERSON</span>\n",
       "</mark>\n",
       ", Single piece flow) and drove continuous improvement.         \n",
       "<mark class=\"entity\" style=\"background: #7aecec; padding: 0.45em 0.6em; margin: 0 0.25em; line-height: 1; border-radius: 0.35em;\">\n",
       "    06/2013\n",
       "    <span style=\"font-size: 0.8em; font-weight: bold; line-height: 1; border-radius: 0.35em; vertical-align: middle; margin-left: 0.5rem\">ORG</span>\n",
       "</mark>\n",
       "   to   \n",
       "<mark class=\"entity\" style=\"background: #7aecec; padding: 0.45em 0.6em; margin: 0 0.25em; line-height: 1; border-radius: 0.35em;\">\n",
       "    06/2016\n",
       "    <span style=\"font-size: 0.8em; font-weight: bold; line-height: 1; border-radius: 0.35em; vertical-align: middle; margin-left: 0.5rem\">ORG</span>\n",
       "</mark>\n",
       "     Engineer    Company Name   －   City  ,   \n",
       "<mark class=\"entity\" style=\"background: #7aecec; padding: 0.45em 0.6em; margin: 0 0.25em; line-height: 1; border-radius: 0.35em;\">\n",
       "    State      Designed\n",
       "    <span style=\"font-size: 0.8em; font-weight: bold; line-height: 1; border-radius: 0.35em; vertical-align: middle; margin-left: 0.5rem\">ORG</span>\n",
       "</mark>\n",
       ", developed, tested and introduced new product in the manufacturing line.  Developed control plans and schedules to \n",
       "<mark class=\"entity\" style=\"background: #ddd; padding: 0.45em 0.6em; margin: 0 0.25em; line-height: 1; border-radius: 0.35em;\">\n",
       "    support\n",
       "    <span style=\"font-size: 0.8em; font-weight: bold; line-height: 1; border-radius: 0.35em; vertical-align: middle; margin-left: 0.5rem\">SKILL</span>\n",
       "</mark>\n",
       " prototype development, pre production and \n",
       "<mark class=\"entity\" style=\"background: #e4e7d2; padding: 0.45em 0.6em; margin: 0 0.25em; line-height: 1; border-radius: 0.35em;\">\n",
       "    zero\n",
       "    <span style=\"font-size: 0.8em; font-weight: bold; line-height: 1; border-radius: 0.35em; vertical-align: middle; margin-left: 0.5rem\">CARDINAL</span>\n",
       "</mark>\n",
       " defect production parts \n",
       "<mark class=\"entity\" style=\"background: #aa9cfc; padding: 0.45em 0.6em; margin: 0 0.25em; line-height: 1; border-radius: 0.35em;\">\n",
       "    launc h.  Studied\n",
       "    <span style=\"font-size: 0.8em; font-weight: bold; line-height: 1; border-radius: 0.35em; vertical-align: middle; margin-left: 0.5rem\">PERSON</span>\n",
       "</mark>\n",
       " market forecast, conducted benchmarking and manufacturing cost analysis for new product introduction.  Lead APQP, DVP&amp;R and PPAP development and conducted \n",
       "<mark class=\"entity\" style=\"background: #7aecec; padding: 0.45em 0.6em; margin: 0 0.25em; line-height: 1; border-radius: 0.35em;\">\n",
       "    DFMEA\n",
       "    <span style=\"font-size: 0.8em; font-weight: bold; line-height: 1; border-radius: 0.35em; vertical-align: middle; margin-left: 0.5rem\">ORG</span>\n",
       "</mark>\n",
       " for new product development.  Scheduled and coordinated phases of project (cost, tooling, equipment,) to develop 'World class model line manufacturing' imp lementing (TPS).  Successfully launched new product assembly project worth \n",
       "<mark class=\"entity\" style=\"background: #e4e7d2; padding: 0.45em 0.6em; margin: 0 0.25em; line-height: 1; border-radius: 0.35em;\">\n",
       "    $100 million\n",
       "    <span style=\"font-size: 0.8em; font-weight: bold; line-height: 1; border-radius: 0.35em; vertical-align: middle; margin-left: 0.5rem\">MONEY</span>\n",
       "</mark>\n",
       " adhering to \n",
       "<mark class=\"entity\" style=\"background: #7aecec; padding: 0.45em 0.6em; margin: 0 0.25em; line-height: 1; border-radius: 0.35em;\">\n",
       "    Toyota\n",
       "    <span style=\"font-size: 0.8em; font-weight: bold; line-height: 1; border-radius: 0.35em; vertical-align: middle; margin-left: 0.5rem\">ORG</span>\n",
       "</mark>\n",
       " standards.  Performed \n",
       "<mark class=\"entity\" style=\"background: #ddd; padding: 0.45em 0.6em; margin: 0 0.25em; line-height: 1; border-radius: 0.35em;\">\n",
       "    design\n",
       "    <span style=\"font-size: 0.8em; font-weight: bold; line-height: 1; border-radius: 0.35em; vertical-align: middle; margin-left: 0.5rem\">SKILL</span>\n",
       "</mark>\n",
       " reviews, documented BOM and created assembly process documentations.  Reduced manufacturing costs by \n",
       "<mark class=\"entity\" style=\"background: #e4e7d2; padding: 0.45em 0.6em; margin: 0 0.25em; line-height: 1; border-radius: 0.35em;\">\n",
       "    30%\n",
       "    <span style=\"font-size: 0.8em; font-weight: bold; line-height: 1; border-radius: 0.35em; vertical-align: middle; margin-left: 0.5rem\">PERCENT</span>\n",
       "</mark>\n",
       " by improving SQD (\n",
       "<mark class=\"entity\" style=\"background: #7aecec; padding: 0.45em 0.6em; margin: 0 0.25em; line-height: 1; border-radius: 0.35em;\">\n",
       "    Safety, Quality &amp; Delivery\n",
       "    <span style=\"font-size: 0.8em; font-weight: bold; line-height: 1; border-radius: 0.35em; vertical-align: middle; margin-left: 0.5rem\">ORG</span>\n",
       "</mark>\n",
       ") KPI's metrics.  Performed and ensured quality and reliability of processes and developed validation recovery plans.  Spearheaded cost estimations and closure of non-conformance reports using quality tools (Pareto charts, \n",
       "<mark class=\"entity\" style=\"background: #aa9cfc; padding: 0.45em 0.6em; margin: 0 0.25em; line-height: 1; border-radius: 0.35em;\">\n",
       "    Fishbone\n",
       "    <span style=\"font-size: 0.8em; font-weight: bold; line-height: 1; border-radius: 0.35em; vertical-align: middle; margin-left: 0.5rem\">PERSON</span>\n",
       "</mark>\n",
       " analysis, \n",
       "<mark class=\"entity\" style=\"background: #7aecec; padding: 0.45em 0.6em; margin: 0 0.25em; line-height: 1; border-radius: 0.35em;\">\n",
       "    8D\n",
       "    <span style=\"font-size: 0.8em; font-weight: bold; line-height: 1; border-radius: 0.35em; vertical-align: middle; margin-left: 0.5rem\">ORG</span>\n",
       "</mark>\n",
       ", \n",
       "<mark class=\"entity\" style=\"background: #e4e7d2; padding: 0.45em 0.6em; margin: 0 0.25em; line-height: 1; border-radius: 0.35em;\">\n",
       "    5Why\n",
       "    <span style=\"font-size: 0.8em; font-weight: bold; line-height: 1; border-radius: 0.35em; vertical-align: middle; margin-left: 0.5rem\">CARDINAL</span>\n",
       "</mark>\n",
       ", \n",
       "<mark class=\"entity\" style=\"background: #7aecec; padding: 0.45em 0.6em; margin: 0 0.25em; line-height: 1; border-radius: 0.35em;\">\n",
       "    FMEA\n",
       "    <span style=\"font-size: 0.8em; font-weight: bold; line-height: 1; border-radius: 0.35em; vertical-align: middle; margin-left: 0.5rem\">ORG</span>\n",
       "</mark>\n",
       ").  Developed actions for \n",
       "<mark class=\"entity\" style=\"background: #7aecec; padding: 0.45em 0.6em; margin: 0 0.25em; line-height: 1; border-radius: 0.35em;\">\n",
       "    IPQPR\n",
       "    <span style=\"font-size: 0.8em; font-weight: bold; line-height: 1; border-radius: 0.35em; vertical-align: middle; margin-left: 0.5rem\">ORG</span>\n",
       "</mark>\n",
       "'s (In process quality problem reports), \n",
       "<mark class=\"entity\" style=\"background: #aa9cfc; padding: 0.45em 0.6em; margin: 0 0.25em; line-height: 1; border-radius: 0.35em;\">\n",
       "    SQPR\n",
       "    <span style=\"font-size: 0.8em; font-weight: bold; line-height: 1; border-radius: 0.35em; vertical-align: middle; margin-left: 0.5rem\">PERSON</span>\n",
       "</mark>\n",
       "'s (Supplier quality problem reports) to present to \n",
       "<mark class=\"entity\" style=\"background: #c887fb; padding: 0.45em 0.6em; margin: 0 0.25em; line-height: 1; border-radius: 0.35em;\">\n",
       "    Japanese\n",
       "    <span style=\"font-size: 0.8em; font-weight: bold; line-height: 1; border-radius: 0.35em; vertical-align: middle; margin-left: 0.5rem\">NORP</span>\n",
       "</mark>\n",
       " quality teams.  Prepared product and \n",
       "<mark class=\"entity\" style=\"background: #ddd; padding: 0.45em 0.6em; margin: 0 0.25em; line-height: 1; border-radius: 0.35em;\">\n",
       "    process engineering\n",
       "    <span style=\"font-size: 0.8em; font-weight: bold; line-height: 1; border-radius: 0.35em; vertical-align: middle; margin-left: 0.5rem\">SKILL</span>\n",
       "</mark>\n",
       " change requests (\n",
       "<mark class=\"entity\" style=\"background: #7aecec; padding: 0.45em 0.6em; margin: 0 0.25em; line-height: 1; border-radius: 0.35em;\">\n",
       "    ECR\n",
       "    <span style=\"font-size: 0.8em; font-weight: bold; line-height: 1; border-radius: 0.35em; vertical-align: middle; margin-left: 0.5rem\">ORG</span>\n",
       "</mark>\n",
       "'s) documentations, cost reduction proposals and presented to management.  Developed manufacturing process layout, control plans, work instructions and \n",
       "<mark class=\"entity\" style=\"background: #7aecec; padding: 0.45em 0.6em; margin: 0 0.25em; line-height: 1; border-radius: 0.35em;\">\n",
       "    PFMEA\n",
       "    <span style=\"font-size: 0.8em; font-weight: bold; line-height: 1; border-radius: 0.35em; vertical-align: middle; margin-left: 0.5rem\">ORG</span>\n",
       "</mark>\n",
       ".  Major Projects.  \n",
       "<mark class=\"entity\" style=\"background: #7aecec; padding: 0.45em 0.6em; margin: 0 0.25em; line-height: 1; border-radius: 0.35em;\">\n",
       "    University of Michigan Dearborn Product Development - Designed\n",
       "    <span style=\"font-size: 0.8em; font-weight: bold; line-height: 1; border-radius: 0.35em; vertical-align: middle; margin-left: 0.5rem\">ORG</span>\n",
       "</mark>\n",
       " a manually operated juicer using \n",
       "<mark class=\"entity\" style=\"background: #7aecec; padding: 0.45em 0.6em; margin: 0 0.25em; line-height: 1; border-radius: 0.35em;\">\n",
       "    CATIA\n",
       "    <span style=\"font-size: 0.8em; font-weight: bold; line-height: 1; border-radius: 0.35em; vertical-align: middle; margin-left: 0.5rem\">ORG</span>\n",
       "</mark>\n",
       " \n",
       "<mark class=\"entity\" style=\"background: #bfeeb7; padding: 0.45em 0.6em; margin: 0 0.25em; line-height: 1; border-radius: 0.35em;\">\n",
       "    V5\n",
       "    <span style=\"font-size: 0.8em; font-weight: bold; line-height: 1; border-radius: 0.35em; vertical-align: middle; margin-left: 0.5rem\">PRODUCT</span>\n",
       "</mark>\n",
       ", prototyped the part using additive manufacturing (\n",
       "<mark class=\"entity\" style=\"background: #ddd; padding: 0.45em 0.6em; margin: 0 0.25em; line-height: 1; border-radius: 0.35em;\">\n",
       "    3D\n",
       "    <span style=\"font-size: 0.8em; font-weight: bold; line-height: 1; border-radius: 0.35em; vertical-align: middle; margin-left: 0.5rem\">SKILL</span>\n",
       "</mark>\n",
       " Printing), used benchmarking, customer surveys, \n",
       "<mark class=\"entity\" style=\"background: #7aecec; padding: 0.45em 0.6em; margin: 0 0.25em; line-height: 1; border-radius: 0.35em;\">\n",
       "    DFMEA\n",
       "    <span style=\"font-size: 0.8em; font-weight: bold; line-height: 1; border-radius: 0.35em; vertical-align: middle; margin-left: 0.5rem\">ORG</span>\n",
       "</mark>\n",
       " and brainstorming methodologies to build its \n",
       "<mark class=\"entity\" style=\"background: #ddd; padding: 0.45em 0.6em; margin: 0 0.25em; line-height: 1; border-radius: 0.35em;\">\n",
       "    business\n",
       "    <span style=\"font-size: 0.8em; font-weight: bold; line-height: 1; border-radius: 0.35em; vertical-align: middle; margin-left: 0.5rem\">SKILL</span>\n",
       "</mark>\n",
       " portfolio using lean canvas.  Occupant package \n",
       "<mark class=\"entity\" style=\"background: #ddd; padding: 0.45em 0.6em; margin: 0 0.25em; line-height: 1; border-radius: 0.35em;\">\n",
       "    design\n",
       "    <span style=\"font-size: 0.8em; font-weight: bold; line-height: 1; border-radius: 0.35em; vertical-align: middle; margin-left: 0.5rem\">SKILL</span>\n",
       "</mark>\n",
       " - Assessing driver requirements like seat track length, head clearance, entrance height, steering wheel height and diameter, accelerator heal point and other important driver's requirement to \n",
       "<mark class=\"entity\" style=\"background: #ddd; padding: 0.45em 0.6em; margin: 0 0.25em; line-height: 1; border-radius: 0.35em;\">\n",
       "    design\n",
       "    <span style=\"font-size: 0.8em; font-weight: bold; line-height: 1; border-radius: 0.35em; vertical-align: middle; margin-left: 0.5rem\">SKILL</span>\n",
       "</mark>\n",
       " a new compact sedan with the help of \n",
       "<mark class=\"entity\" style=\"background: #7aecec; padding: 0.45em 0.6em; margin: 0 0.25em; line-height: 1; border-radius: 0.35em;\">\n",
       "    Anthropometric\n",
       "    <span style=\"font-size: 0.8em; font-weight: bold; line-height: 1; border-radius: 0.35em; vertical-align: middle; margin-left: 0.5rem\">ORG</span>\n",
       "</mark>\n",
       " data and \n",
       "<mark class=\"entity\" style=\"background: #e4e7d2; padding: 0.45em 0.6em; margin: 0 0.25em; line-height: 1; border-radius: 0.35em;\">\n",
       "    SAEJ1100v005\n",
       "    <span style=\"font-size: 0.8em; font-weight: bold; line-height: 1; border-radius: 0.35em; vertical-align: middle; margin-left: 0.5rem\">CARDINAL</span>\n",
       "</mark>\n",
       ", SAEJ1516v002, SAEJ1517v002 and benchmarking analysis.  Vehicle package analysis and evaluation of cargo compartment - Analyzed vehicle attribute requirements like cost, quality, operation and packaging of cargo compartment by benchmarking \n",
       "<mark class=\"entity\" style=\"background: #e4e7d2; padding: 0.45em 0.6em; margin: 0 0.25em; line-height: 1; border-radius: 0.35em;\">\n",
       "    three\n",
       "    <span style=\"font-size: 0.8em; font-weight: bold; line-height: 1; border-radius: 0.35em; vertical-align: middle; margin-left: 0.5rem\">CARDINAL</span>\n",
       "</mark>\n",
       " entry level sedans and evaluating the results using ANOVA for customer feedback reliability.  Analysis of driver door interior trim panel using Quality function \n",
       "<mark class=\"entity\" style=\"background: #ddd; padding: 0.45em 0.6em; margin: 0 0.25em; line-height: 1; border-radius: 0.35em;\">\n",
       "    deployment\n",
       "    <span style=\"font-size: 0.8em; font-weight: bold; line-height: 1; border-radius: 0.35em; vertical-align: middle; margin-left: 0.5rem\">SKILL</span>\n",
       "</mark>\n",
       " (\n",
       "<mark class=\"entity\" style=\"background: #7aecec; padding: 0.45em 0.6em; margin: 0 0.25em; line-height: 1; border-radius: 0.35em;\">\n",
       "    QFD\n",
       "    <span style=\"font-size: 0.8em; font-weight: bold; line-height: 1; border-radius: 0.35em; vertical-align: middle; margin-left: 0.5rem\">ORG</span>\n",
       "</mark>\n",
       ") - Evaluated HMI logical layout and packaging of systems in interior trim panel by benchmarking compact sedans, interviewed customers for user experience, used \n",
       "<mark class=\"entity\" style=\"background: #7aecec; padding: 0.45em 0.6em; margin: 0 0.25em; line-height: 1; border-radius: 0.35em;\">\n",
       "    QFD\n",
       "    <span style=\"font-size: 0.8em; font-weight: bold; line-height: 1; border-radius: 0.35em; vertical-align: middle; margin-left: 0.5rem\">ORG</span>\n",
       "</mark>\n",
       " to take suggestions to find area of improvements.  \n",
       "<mark class=\"entity\" style=\"background: #7aecec; padding: 0.45em 0.6em; margin: 0 0.25em; line-height: 1; border-radius: 0.35em;\">\n",
       "    Exterior\n",
       "    <span style=\"font-size: 0.8em; font-weight: bold; line-height: 1; border-radius: 0.35em; vertical-align: middle; margin-left: 0.5rem\">ORG</span>\n",
       "</mark>\n",
       " and mechanical package analysis - Developed interface \n",
       "<mark class=\"entity\" style=\"background: #ddd; padding: 0.45em 0.6em; margin: 0 0.25em; line-height: 1; border-radius: 0.35em;\">\n",
       "    diagram\n",
       "    <span style=\"font-size: 0.8em; font-weight: bold; line-height: 1; border-radius: 0.35em; vertical-align: middle; margin-left: 0.5rem\">SKILL</span>\n",
       "</mark>\n",
       " and interface matrix to represent various functions between components.  Studied vehicle anatomy by decomposing the vehicle into systems, sub-systems, and components.  Vehicle body side aperture spot welding - Conducted detailed analysis of spot welding of \n",
       "<mark class=\"entity\" style=\"background: #7aecec; padding: 0.45em 0.6em; margin: 0 0.25em; line-height: 1; border-radius: 0.35em;\">\n",
       "    BIW\n",
       "    <span style=\"font-size: 0.8em; font-weight: bold; line-height: 1; border-radius: 0.35em; vertical-align: middle; margin-left: 0.5rem\">ORG</span>\n",
       "</mark>\n",
       ", determined \n",
       "<mark class=\"entity\" style=\"background: #ddd; padding: 0.45em 0.6em; margin: 0 0.25em; line-height: 1; border-radius: 0.35em;\">\n",
       "    robot\n",
       "    <span style=\"font-size: 0.8em; font-weight: bold; line-height: 1; border-radius: 0.35em; vertical-align: middle; margin-left: 0.5rem\">SKILL</span>\n",
       "</mark>\n",
       " base and end effector motion and the factors for complete station \n",
       "<mark class=\"entity\" style=\"background: #ddd; padding: 0.45em 0.6em; margin: 0 0.25em; line-height: 1; border-radius: 0.35em;\">\n",
       "    design\n",
       "    <span style=\"font-size: 0.8em; font-weight: bold; line-height: 1; border-radius: 0.35em; vertical-align: middle; margin-left: 0.5rem\">SKILL</span>\n",
       "</mark>\n",
       " using 4M.  \n",
       "<mark class=\"entity\" style=\"background: #7aecec; padding: 0.45em 0.6em; margin: 0 0.25em; line-height: 1; border-radius: 0.35em;\">\n",
       "    Gearbox FMEA - Conducted\n",
       "    <span style=\"font-size: 0.8em; font-weight: bold; line-height: 1; border-radius: 0.35em; vertical-align: middle; margin-left: 0.5rem\">ORG</span>\n",
       "</mark>\n",
       " detailed study on potential failure causes in \n",
       "<mark class=\"entity\" style=\"background: #e4e7d2; padding: 0.45em 0.6em; margin: 0 0.25em; line-height: 1; border-radius: 0.35em;\">\n",
       "    6X4\n",
       "    <span style=\"font-size: 0.8em; font-weight: bold; line-height: 1; border-radius: 0.35em; vertical-align: middle; margin-left: 0.5rem\">CARDINAL</span>\n",
       "</mark>\n",
       " truck gearbox casing failure in fracture using \n",
       "<mark class=\"entity\" style=\"background: #7aecec; padding: 0.45em 0.6em; margin: 0 0.25em; line-height: 1; border-radius: 0.35em;\">\n",
       "    DFMEA\n",
       "    <span style=\"font-size: 0.8em; font-weight: bold; line-height: 1; border-radius: 0.35em; vertical-align: middle; margin-left: 0.5rem\">ORG</span>\n",
       "</mark>\n",
       " and \n",
       "<mark class=\"entity\" style=\"background: #7aecec; padding: 0.45em 0.6em; margin: 0 0.25em; line-height: 1; border-radius: 0.35em;\">\n",
       "    PFMEA\n",
       "    <span style=\"font-size: 0.8em; font-weight: bold; line-height: 1; border-radius: 0.35em; vertical-align: middle; margin-left: 0.5rem\">ORG</span>\n",
       "</mark>\n",
       ".  Implemented \n",
       "<mark class=\"entity\" style=\"background: #7aecec; padding: 0.45em 0.6em; margin: 0 0.25em; line-height: 1; border-radius: 0.35em;\">\n",
       "    DFA\n",
       "    <span style=\"font-size: 0.8em; font-weight: bold; line-height: 1; border-radius: 0.35em; vertical-align: middle; margin-left: 0.5rem\">ORG</span>\n",
       "</mark>\n",
       " and \n",
       "<mark class=\"entity\" style=\"background: #7aecec; padding: 0.45em 0.6em; margin: 0 0.25em; line-height: 1; border-radius: 0.35em;\">\n",
       "    DFM\n",
       "    <span style=\"font-size: 0.8em; font-weight: bold; line-height: 1; border-radius: 0.35em; vertical-align: middle; margin-left: 0.5rem\">ORG</span>\n",
       "</mark>\n",
       " to derive optimal \n",
       "<mark class=\"entity\" style=\"background: #ddd; padding: 0.45em 0.6em; margin: 0 0.25em; line-height: 1; border-radius: 0.35em;\">\n",
       "    design\n",
       "    <span style=\"font-size: 0.8em; font-weight: bold; line-height: 1; border-radius: 0.35em; vertical-align: middle; margin-left: 0.5rem\">SKILL</span>\n",
       "</mark>\n",
       " for ease of assembly and disassembly of gearbox casing.  \n",
       "<mark class=\"entity\" style=\"background: #ddd; padding: 0.45em 0.6em; margin: 0 0.25em; line-height: 1; border-radius: 0.35em;\">\n",
       "    Design\n",
       "    <span style=\"font-size: 0.8em; font-weight: bold; line-height: 1; border-radius: 0.35em; vertical-align: middle; margin-left: 0.5rem\">SKILL</span>\n",
       "</mark>\n",
       " for assembly - Proposed assembly line for plant with \n",
       "<mark class=\"entity\" style=\"background: #e4e7d2; padding: 0.45em 0.6em; margin: 0 0.25em; line-height: 1; border-radius: 0.35em;\">\n",
       "    138\n",
       "    <span style=\"font-size: 0.8em; font-weight: bold; line-height: 1; border-radius: 0.35em; vertical-align: middle; margin-left: 0.5rem\">CARDINAL</span>\n",
       "</mark>\n",
       " stations for volume requirement of \n",
       "<mark class=\"entity\" style=\"background: #bfeeb7; padding: 0.45em 0.6em; margin: 0 0.25em; line-height: 1; border-radius: 0.35em;\">\n",
       "    240k\n",
       "    <span style=\"font-size: 0.8em; font-weight: bold; line-height: 1; border-radius: 0.35em; vertical-align: middle; margin-left: 0.5rem\">PRODUCT</span>\n",
       "</mark>\n",
       " vehicles, analyzed the \n",
       "<mark class=\"entity\" style=\"background: #7aecec; padding: 0.45em 0.6em; margin: 0 0.25em; line-height: 1; border-radius: 0.35em;\">\n",
       "    JPH\n",
       "    <span style=\"font-size: 0.8em; font-weight: bold; line-height: 1; border-radius: 0.35em; vertical-align: middle; margin-left: 0.5rem\">ORG</span>\n",
       "</mark>\n",
       ", \n",
       "<mark class=\"entity\" style=\"background: #ddd; padding: 0.45em 0.6em; margin: 0 0.25em; line-height: 1; border-radius: 0.35em;\">\n",
       "    throughput\n",
       "    <span style=\"font-size: 0.8em; font-weight: bold; line-height: 1; border-radius: 0.35em; vertical-align: middle; margin-left: 0.5rem\">SKILL</span>\n",
       "</mark>\n",
       ", bottleneck, \n",
       "<mark class=\"entity\" style=\"background: #bfe1d9; padding: 0.45em 0.6em; margin: 0 0.25em; line-height: 1; border-radius: 0.35em;\">\n",
       "    labor hours\n",
       "    <span style=\"font-size: 0.8em; font-weight: bold; line-height: 1; border-radius: 0.35em; vertical-align: middle; margin-left: 0.5rem\">TIME</span>\n",
       "</mark>\n",
       ", number of shifts and operators, length of station and line speed.  \n",
       "<mark class=\"entity\" style=\"background: #e4e7d2; padding: 0.45em 0.6em; margin: 0 0.25em; line-height: 1; border-radius: 0.35em;\">\n",
       "    Six\n",
       "    <span style=\"font-size: 0.8em; font-weight: bold; line-height: 1; border-radius: 0.35em; vertical-align: middle; margin-left: 0.5rem\">CARDINAL</span>\n",
       "</mark>\n",
       " Sigma - Implemented lean \n",
       "<mark class=\"entity\" style=\"background: #e4e7d2; padding: 0.45em 0.6em; margin: 0 0.25em; line-height: 1; border-radius: 0.35em;\">\n",
       "    six\n",
       "    <span style=\"font-size: 0.8em; font-weight: bold; line-height: 1; border-radius: 0.35em; vertical-align: middle; margin-left: 0.5rem\">CARDINAL</span>\n",
       "</mark>\n",
       " sigma concepts to improve the efficiency of base coat usage at body paint shop by DMAIC methodology.          \n",
       "<mark class=\"entity\" style=\"background: #7aecec; padding: 0.45em 0.6em; margin: 0 0.25em; line-height: 1; border-radius: 0.35em;\">\n",
       "    Education\n",
       "    <span style=\"font-size: 0.8em; font-weight: bold; line-height: 1; border-radius: 0.35em; vertical-align: middle; margin-left: 0.5rem\">ORG</span>\n",
       "</mark>\n",
       " and Training     \n",
       "<mark class=\"entity\" style=\"background: #7aecec; padding: 0.45em 0.6em; margin: 0 0.25em; line-height: 1; border-radius: 0.35em;\">\n",
       "    04/2018\n",
       "    <span style=\"font-size: 0.8em; font-weight: bold; line-height: 1; border-radius: 0.35em; vertical-align: middle; margin-left: 0.5rem\">ORG</span>\n",
       "</mark>\n",
       "     \n",
       "<mark class=\"entity\" style=\"background: #f0d0ff; padding: 0.45em 0.6em; margin: 0 0.25em; line-height: 1; border-radius: 0.35em;\">\n",
       "    Master of Science\n",
       "    <span style=\"font-size: 0.8em; font-weight: bold; line-height: 1; border-radius: 0.35em; vertical-align: middle; margin-left: 0.5rem\">WORK_OF_ART</span>\n",
       "</mark>\n",
       "  :   \n",
       "<mark class=\"entity\" style=\"background: #7aecec; padding: 0.45em 0.6em; margin: 0 0.25em; line-height: 1; border-radius: 0.35em;\">\n",
       "    Manufacturing Systems Engineering\n",
       "    <span style=\"font-size: 0.8em; font-weight: bold; line-height: 1; border-radius: 0.35em; vertical-align: middle; margin-left: 0.5rem\">ORG</span>\n",
       "</mark>\n",
       "    \n",
       "<mark class=\"entity\" style=\"background: #7aecec; padding: 0.45em 0.6em; margin: 0 0.25em; line-height: 1; border-radius: 0.35em;\">\n",
       "    University of Michigan\n",
       "    <span style=\"font-size: 0.8em; font-weight: bold; line-height: 1; border-radius: 0.35em; vertical-align: middle; margin-left: 0.5rem\">ORG</span>\n",
       "</mark>\n",
       " \n",
       "<mark class=\"entity\" style=\"background: #feca74; padding: 0.45em 0.6em; margin: 0 0.25em; line-height: 1; border-radius: 0.35em;\">\n",
       "    Dearborn\n",
       "    <span style=\"font-size: 0.8em; font-weight: bold; line-height: 1; border-radius: 0.35em; vertical-align: middle; margin-left: 0.5rem\">GPE</span>\n",
       "</mark>\n",
       "   －   City  ,   \n",
       "<mark class=\"entity\" style=\"background: #7aecec; padding: 0.45em 0.6em; margin: 0 0.25em; line-height: 1; border-radius: 0.35em;\">\n",
       "    State      Manufacturing Systems Engineering\n",
       "    <span style=\"font-size: 0.8em; font-weight: bold; line-height: 1; border-radius: 0.35em; vertical-align: middle; margin-left: 0.5rem\">ORG</span>\n",
       "</mark>\n",
       "       \n",
       "<mark class=\"entity\" style=\"background: #7aecec; padding: 0.45em 0.6em; margin: 0 0.25em; line-height: 1; border-radius: 0.35em;\">\n",
       "    06/2013\n",
       "    <span style=\"font-size: 0.8em; font-weight: bold; line-height: 1; border-radius: 0.35em; vertical-align: middle; margin-left: 0.5rem\">ORG</span>\n",
       "</mark>\n",
       "     \n",
       "<mark class=\"entity\" style=\"background: #7aecec; padding: 0.45em 0.6em; margin: 0 0.25em; line-height: 1; border-radius: 0.35em;\">\n",
       "    Bachelor of Engineering\n",
       "    <span style=\"font-size: 0.8em; font-weight: bold; line-height: 1; border-radius: 0.35em; vertical-align: middle; margin-left: 0.5rem\">ORG</span>\n",
       "</mark>\n",
       "  :   \n",
       "<mark class=\"entity\" style=\"background: #7aecec; padding: 0.45em 0.6em; margin: 0 0.25em; line-height: 1; border-radius: 0.35em;\">\n",
       "    Mechanical Engineering\n",
       "    <span style=\"font-size: 0.8em; font-weight: bold; line-height: 1; border-radius: 0.35em; vertical-align: middle; margin-left: 0.5rem\">ORG</span>\n",
       "</mark>\n",
       "    \n",
       "<mark class=\"entity\" style=\"background: #7aecec; padding: 0.45em 0.6em; margin: 0 0.25em; line-height: 1; border-radius: 0.35em;\">\n",
       "    Visvesvaraya Technological University          Mechanical Engineering        Skills\n",
       "    <span style=\"font-size: 0.8em; font-weight: bold; line-height: 1; border-radius: 0.35em; vertical-align: middle; margin-left: 0.5rem\">ORG</span>\n",
       "</mark>\n",
       "    anatomy, AutoCAD, benchmarking, \n",
       "<mark class=\"entity\" style=\"background: #7aecec; padding: 0.45em 0.6em; margin: 0 0.25em; line-height: 1; border-radius: 0.35em;\">\n",
       "    CATIA\n",
       "    <span style=\"font-size: 0.8em; font-weight: bold; line-height: 1; border-radius: 0.35em; vertical-align: middle; margin-left: 0.5rem\">ORG</span>\n",
       "</mark>\n",
       ", \n",
       "<mark class=\"entity\" style=\"background: #7aecec; padding: 0.45em 0.6em; margin: 0 0.25em; line-height: 1; border-radius: 0.35em;\">\n",
       "    CNC\n",
       "    <span style=\"font-size: 0.8em; font-weight: bold; line-height: 1; border-radius: 0.35em; vertical-align: middle; margin-left: 0.5rem\">ORG</span>\n",
       "</mark>\n",
       ", cost analysis, ergonomics, lean manufacturing, manufacturing process, \n",
       "<mark class=\"entity\" style=\"background: #7aecec; padding: 0.45em 0.6em; margin: 0 0.25em; line-height: 1; border-radius: 0.35em;\">\n",
       "    Minitab\n",
       "    <span style=\"font-size: 0.8em; font-weight: bold; line-height: 1; border-radius: 0.35em; vertical-align: middle; margin-left: 0.5rem\">ORG</span>\n",
       "</mark>\n",
       ", packaging, \n",
       "<mark class=\"entity\" style=\"background: #ddd; padding: 0.45em 0.6em; margin: 0 0.25em; line-height: 1; border-radius: 0.35em;\">\n",
       "    process engineering\n",
       "    <span style=\"font-size: 0.8em; font-weight: bold; line-height: 1; border-radius: 0.35em; vertical-align: middle; margin-left: 0.5rem\">SKILL</span>\n",
       "</mark>\n",
       ", \n",
       "<mark class=\"entity\" style=\"background: #7aecec; padding: 0.45em 0.6em; margin: 0 0.25em; line-height: 1; border-radius: 0.35em;\">\n",
       "    Product Development\n",
       "    <span style=\"font-size: 0.8em; font-weight: bold; line-height: 1; border-radius: 0.35em; vertical-align: middle; margin-left: 0.5rem\">ORG</span>\n",
       "</mark>\n",
       ", surveys, validation, welding     </div></span>"
      ],
      "text/plain": [
       "<IPython.core.display.HTML object>"
      ]
     },
     "metadata": {},
     "output_type": "display_data"
    }
   ],
   "source": [
    "sent = nlp(data[\"Resume_str\"].iloc[0])\n",
    "displacy.render(sent, style=\"ent\", jupyter=True)"
   ]
  },
  {
   "cell_type": "markdown",
   "metadata": {},
   "source": [
    "### **Dependency Parsing**\n",
    "We can also visualize dependencies by just changing style to dep as shown below. We have also limited words to 10 which includes space too. Limiting the words will make it visualize the small chunk of data and if you want to see the dependency, you can remove the filter."
   ]
  },
  {
   "cell_type": "code",
   "execution_count": 20,
   "metadata": {},
   "outputs": [
    {
     "data": {
      "text/html": [
       "<span class=\"tex2jax_ignore\"><svg xmlns=\"http://www.w3.org/2000/svg\" xmlns:xlink=\"http://www.w3.org/1999/xlink\" xml:lang=\"en\" id=\"de462b279ca542e1a1a77576bdb033f4-0\" class=\"displacy\" width=\"950\" height=\"317.0\" direction=\"ltr\" style=\"max-width: none; height: 317.0px; color: #000000; background: #ffffff; font-family: Arial; direction: ltr\">\n",
       "<text class=\"displacy-token\" fill=\"currentColor\" text-anchor=\"middle\" y=\"227.0\">\n",
       "    <tspan class=\"displacy-word\" fill=\"currentColor\" x=\"50\">         </tspan>\n",
       "    <tspan class=\"displacy-tag\" dy=\"2em\" fill=\"currentColor\" x=\"50\">SPACE</tspan>\n",
       "</text>\n",
       "\n",
       "<text class=\"displacy-token\" fill=\"currentColor\" text-anchor=\"middle\" y=\"227.0\">\n",
       "    <tspan class=\"displacy-word\" fill=\"currentColor\" x=\"140\">ENGINEERING</tspan>\n",
       "    <tspan class=\"displacy-tag\" dy=\"2em\" fill=\"currentColor\" x=\"140\">PROPN</tspan>\n",
       "</text>\n",
       "\n",
       "<text class=\"displacy-token\" fill=\"currentColor\" text-anchor=\"middle\" y=\"227.0\">\n",
       "    <tspan class=\"displacy-word\" fill=\"currentColor\" x=\"230\">ASSISTANT</tspan>\n",
       "    <tspan class=\"displacy-tag\" dy=\"2em\" fill=\"currentColor\" x=\"230\">NOUN</tspan>\n",
       "</text>\n",
       "\n",
       "<text class=\"displacy-token\" fill=\"currentColor\" text-anchor=\"middle\" y=\"227.0\">\n",
       "    <tspan class=\"displacy-word\" fill=\"currentColor\" x=\"320\">      </tspan>\n",
       "    <tspan class=\"displacy-tag\" dy=\"2em\" fill=\"currentColor\" x=\"320\">SPACE</tspan>\n",
       "</text>\n",
       "\n",
       "<text class=\"displacy-token\" fill=\"currentColor\" text-anchor=\"middle\" y=\"227.0\">\n",
       "    <tspan class=\"displacy-word\" fill=\"currentColor\" x=\"410\">Summary</tspan>\n",
       "    <tspan class=\"displacy-tag\" dy=\"2em\" fill=\"currentColor\" x=\"410\">PROPN</tspan>\n",
       "</text>\n",
       "\n",
       "<text class=\"displacy-token\" fill=\"currentColor\" text-anchor=\"middle\" y=\"227.0\">\n",
       "    <tspan class=\"displacy-word\" fill=\"currentColor\" x=\"500\">   </tspan>\n",
       "    <tspan class=\"displacy-tag\" dy=\"2em\" fill=\"currentColor\" x=\"500\">SPACE</tspan>\n",
       "</text>\n",
       "\n",
       "<text class=\"displacy-token\" fill=\"currentColor\" text-anchor=\"middle\" y=\"227.0\">\n",
       "    <tspan class=\"displacy-word\" fill=\"currentColor\" x=\"590\">Product</tspan>\n",
       "    <tspan class=\"displacy-tag\" dy=\"2em\" fill=\"currentColor\" x=\"590\">PROPN</tspan>\n",
       "</text>\n",
       "\n",
       "<text class=\"displacy-token\" fill=\"currentColor\" text-anchor=\"middle\" y=\"227.0\">\n",
       "    <tspan class=\"displacy-word\" fill=\"currentColor\" x=\"680\">and</tspan>\n",
       "    <tspan class=\"displacy-tag\" dy=\"2em\" fill=\"currentColor\" x=\"680\">CCONJ</tspan>\n",
       "</text>\n",
       "\n",
       "<text class=\"displacy-token\" fill=\"currentColor\" text-anchor=\"middle\" y=\"227.0\">\n",
       "    <tspan class=\"displacy-word\" fill=\"currentColor\" x=\"770\">Process</tspan>\n",
       "    <tspan class=\"displacy-tag\" dy=\"2em\" fill=\"currentColor\" x=\"770\">PROPN</tspan>\n",
       "</text>\n",
       "\n",
       "<text class=\"displacy-token\" fill=\"currentColor\" text-anchor=\"middle\" y=\"227.0\">\n",
       "    <tspan class=\"displacy-word\" fill=\"currentColor\" x=\"860\">engineer</tspan>\n",
       "    <tspan class=\"displacy-tag\" dy=\"2em\" fill=\"currentColor\" x=\"860\">NOUN</tspan>\n",
       "</text>\n",
       "\n",
       "<g class=\"displacy-arrow\">\n",
       "    <path class=\"displacy-arc\" id=\"arrow-de462b279ca542e1a1a77576bdb033f4-0-0\" stroke-width=\"2px\" d=\"M70,182.0 C70,137.0 125.0,137.0 125.0,182.0\" fill=\"none\" stroke=\"currentColor\"/>\n",
       "    <text dy=\"1.25em\" style=\"font-size: 0.8em; letter-spacing: 1px\">\n",
       "        <textPath xlink:href=\"#arrow-de462b279ca542e1a1a77576bdb033f4-0-0\" class=\"displacy-label\" startOffset=\"50%\" side=\"left\" fill=\"currentColor\" text-anchor=\"middle\">dep</textPath>\n",
       "    </text>\n",
       "    <path class=\"displacy-arrowhead\" d=\"M70,184.0 L62,172.0 78,172.0\" fill=\"currentColor\"/>\n",
       "</g>\n",
       "\n",
       "<g class=\"displacy-arrow\">\n",
       "    <path class=\"displacy-arc\" id=\"arrow-de462b279ca542e1a1a77576bdb033f4-0-1\" stroke-width=\"2px\" d=\"M160,182.0 C160,2.0 860.0,2.0 860.0,182.0\" fill=\"none\" stroke=\"currentColor\"/>\n",
       "    <text dy=\"1.25em\" style=\"font-size: 0.8em; letter-spacing: 1px\">\n",
       "        <textPath xlink:href=\"#arrow-de462b279ca542e1a1a77576bdb033f4-0-1\" class=\"displacy-label\" startOffset=\"50%\" side=\"left\" fill=\"currentColor\" text-anchor=\"middle\">nmod</textPath>\n",
       "    </text>\n",
       "    <path class=\"displacy-arrowhead\" d=\"M160,184.0 L152,172.0 168,172.0\" fill=\"currentColor\"/>\n",
       "</g>\n",
       "\n",
       "<g class=\"displacy-arrow\">\n",
       "    <path class=\"displacy-arc\" id=\"arrow-de462b279ca542e1a1a77576bdb033f4-0-2\" stroke-width=\"2px\" d=\"M160,182.0 C160,137.0 215.0,137.0 215.0,182.0\" fill=\"none\" stroke=\"currentColor\"/>\n",
       "    <text dy=\"1.25em\" style=\"font-size: 0.8em; letter-spacing: 1px\">\n",
       "        <textPath xlink:href=\"#arrow-de462b279ca542e1a1a77576bdb033f4-0-2\" class=\"displacy-label\" startOffset=\"50%\" side=\"left\" fill=\"currentColor\" text-anchor=\"middle\">appos</textPath>\n",
       "    </text>\n",
       "    <path class=\"displacy-arrowhead\" d=\"M215.0,184.0 L223.0,172.0 207.0,172.0\" fill=\"currentColor\"/>\n",
       "</g>\n",
       "\n",
       "<g class=\"displacy-arrow\">\n",
       "    <path class=\"displacy-arc\" id=\"arrow-de462b279ca542e1a1a77576bdb033f4-0-3\" stroke-width=\"2px\" d=\"M250,182.0 C250,137.0 305.0,137.0 305.0,182.0\" fill=\"none\" stroke=\"currentColor\"/>\n",
       "    <text dy=\"1.25em\" style=\"font-size: 0.8em; letter-spacing: 1px\">\n",
       "        <textPath xlink:href=\"#arrow-de462b279ca542e1a1a77576bdb033f4-0-3\" class=\"displacy-label\" startOffset=\"50%\" side=\"left\" fill=\"currentColor\" text-anchor=\"middle\">dep</textPath>\n",
       "    </text>\n",
       "    <path class=\"displacy-arrowhead\" d=\"M305.0,184.0 L313.0,172.0 297.0,172.0\" fill=\"currentColor\"/>\n",
       "</g>\n",
       "\n",
       "<g class=\"displacy-arrow\">\n",
       "    <path class=\"displacy-arc\" id=\"arrow-de462b279ca542e1a1a77576bdb033f4-0-4\" stroke-width=\"2px\" d=\"M430,182.0 C430,92.0 580.0,92.0 580.0,182.0\" fill=\"none\" stroke=\"currentColor\"/>\n",
       "    <text dy=\"1.25em\" style=\"font-size: 0.8em; letter-spacing: 1px\">\n",
       "        <textPath xlink:href=\"#arrow-de462b279ca542e1a1a77576bdb033f4-0-4\" class=\"displacy-label\" startOffset=\"50%\" side=\"left\" fill=\"currentColor\" text-anchor=\"middle\">compound</textPath>\n",
       "    </text>\n",
       "    <path class=\"displacy-arrowhead\" d=\"M430,184.0 L422,172.0 438,172.0\" fill=\"currentColor\"/>\n",
       "</g>\n",
       "\n",
       "<g class=\"displacy-arrow\">\n",
       "    <path class=\"displacy-arc\" id=\"arrow-de462b279ca542e1a1a77576bdb033f4-0-5\" stroke-width=\"2px\" d=\"M430,182.0 C430,137.0 485.0,137.0 485.0,182.0\" fill=\"none\" stroke=\"currentColor\"/>\n",
       "    <text dy=\"1.25em\" style=\"font-size: 0.8em; letter-spacing: 1px\">\n",
       "        <textPath xlink:href=\"#arrow-de462b279ca542e1a1a77576bdb033f4-0-5\" class=\"displacy-label\" startOffset=\"50%\" side=\"left\" fill=\"currentColor\" text-anchor=\"middle\">dep</textPath>\n",
       "    </text>\n",
       "    <path class=\"displacy-arrowhead\" d=\"M485.0,184.0 L493.0,172.0 477.0,172.0\" fill=\"currentColor\"/>\n",
       "</g>\n",
       "\n",
       "<g class=\"displacy-arrow\">\n",
       "    <path class=\"displacy-arc\" id=\"arrow-de462b279ca542e1a1a77576bdb033f4-0-6\" stroke-width=\"2px\" d=\"M610,182.0 C610,47.0 855.0,47.0 855.0,182.0\" fill=\"none\" stroke=\"currentColor\"/>\n",
       "    <text dy=\"1.25em\" style=\"font-size: 0.8em; letter-spacing: 1px\">\n",
       "        <textPath xlink:href=\"#arrow-de462b279ca542e1a1a77576bdb033f4-0-6\" class=\"displacy-label\" startOffset=\"50%\" side=\"left\" fill=\"currentColor\" text-anchor=\"middle\">nmod</textPath>\n",
       "    </text>\n",
       "    <path class=\"displacy-arrowhead\" d=\"M610,184.0 L602,172.0 618,172.0\" fill=\"currentColor\"/>\n",
       "</g>\n",
       "\n",
       "<g class=\"displacy-arrow\">\n",
       "    <path class=\"displacy-arc\" id=\"arrow-de462b279ca542e1a1a77576bdb033f4-0-7\" stroke-width=\"2px\" d=\"M610,182.0 C610,137.0 665.0,137.0 665.0,182.0\" fill=\"none\" stroke=\"currentColor\"/>\n",
       "    <text dy=\"1.25em\" style=\"font-size: 0.8em; letter-spacing: 1px\">\n",
       "        <textPath xlink:href=\"#arrow-de462b279ca542e1a1a77576bdb033f4-0-7\" class=\"displacy-label\" startOffset=\"50%\" side=\"left\" fill=\"currentColor\" text-anchor=\"middle\">cc</textPath>\n",
       "    </text>\n",
       "    <path class=\"displacy-arrowhead\" d=\"M665.0,184.0 L673.0,172.0 657.0,172.0\" fill=\"currentColor\"/>\n",
       "</g>\n",
       "\n",
       "<g class=\"displacy-arrow\">\n",
       "    <path class=\"displacy-arc\" id=\"arrow-de462b279ca542e1a1a77576bdb033f4-0-8\" stroke-width=\"2px\" d=\"M610,182.0 C610,92.0 760.0,92.0 760.0,182.0\" fill=\"none\" stroke=\"currentColor\"/>\n",
       "    <text dy=\"1.25em\" style=\"font-size: 0.8em; letter-spacing: 1px\">\n",
       "        <textPath xlink:href=\"#arrow-de462b279ca542e1a1a77576bdb033f4-0-8\" class=\"displacy-label\" startOffset=\"50%\" side=\"left\" fill=\"currentColor\" text-anchor=\"middle\">conj</textPath>\n",
       "    </text>\n",
       "    <path class=\"displacy-arrowhead\" d=\"M760.0,184.0 L768.0,172.0 752.0,172.0\" fill=\"currentColor\"/>\n",
       "</g>\n",
       "</svg></span>"
      ],
      "text/plain": [
       "<IPython.core.display.HTML object>"
      ]
     },
     "metadata": {},
     "output_type": "display_data"
    }
   ],
   "source": [
    "displacy.render(sent[0:10], style=\"dep\", jupyter=True, options={\"distance\": 90})"
   ]
  },
  {
   "attachments": {},
   "cell_type": "markdown",
   "metadata": {},
   "source": [
    "## **Custom Entity Recognition**\n"
   ]
  },
  {
   "cell_type": "code",
   "execution_count": 21,
   "metadata": {},
   "outputs": [],
   "source": [
    "patterns = df.Category.unique()\n",
    "for a in patterns:\n",
    "    ruler.add_patterns([{\"label\": \"Job-Category\", \"pattern\": a}])"
   ]
  },
  {
   "cell_type": "code",
   "execution_count": 22,
   "metadata": {},
   "outputs": [
    {
     "data": {
      "text/html": [
       "<span class=\"tex2jax_ignore\"><div class=\"entities\" style=\"line-height: 2.5; direction: ltr\">         CARPENTER       Summary    Carpenter Foreman Position where I can effectively utilize my expertise and skills.      Highlights          Thorough knowledge of safety practices and occupational hazards related to construction work.  Solid understanding of supervising, planning, delegating, and performing tasks  Remarkable ability to comprehend, blueprints, drawings and sketches  Certified rigger and signal person  Proficient with welding and cutting  Experienced equipment operator; skid steer, \n",
       "<mark class=\"entity\" style=\"background: linear-gradient(90deg, #9BE15D, #00E3AE); padding: 0.45em 0.6em; margin: 0 0.25em; line-height: 1; border-radius: 0.35em;\">\n",
       "    front end\n",
       "    <span style=\"font-size: 0.8em; font-weight: bold; line-height: 1; border-radius: 0.35em; vertical-align: middle; margin-left: 0.5rem\">SKILL</span>\n",
       "</mark>\n",
       " loader, forklift, aerial lift, excavator, crane, roller, \n",
       "<mark class=\"entity\" style=\"background: #ffd966; padding: 0.45em 0.6em; margin: 0 0.25em; line-height: 1; border-radius: 0.35em;\">\n",
       "    Bidwell  Possess\n",
       "    <span style=\"font-size: 0.8em; font-weight: bold; line-height: 1; border-radius: 0.35em; vertical-align: middle; margin-left: 0.5rem\">ORG</span>\n",
       "</mark>\n",
       " knowledge and ability to use the following forming systems: \n",
       "<mark class=\"entity\" style=\"background: #ffd966; padding: 0.45em 0.6em; margin: 0 0.25em; line-height: 1; border-radius: 0.35em;\">\n",
       "    Aluminum, Gang Form\n",
       "    <span style=\"font-size: 0.8em; font-weight: bold; line-height: 1; border-radius: 0.35em; vertical-align: middle; margin-left: 0.5rem\">ORG</span>\n",
       "</mark>\n",
       ", Simons, EFCO, Wood Forms, MEVA  PROFESSIONAL references              Experience     10/2015   to   Current     \n",
       "<mark class=\"entity\" style=\"background: #ffd966; padding: 0.45em 0.6em; margin: 0 0.25em; line-height: 1; border-radius: 0.35em;\">\n",
       "    Carpenter    Company Name   －\n",
       "    <span style=\"font-size: 0.8em; font-weight: bold; line-height: 1; border-radius: 0.35em; vertical-align: middle; margin-left: 0.5rem\">ORG</span>\n",
       "</mark>\n",
       "   City  ,   State      Follow safety rules at all times.  \n",
       "<mark class=\"entity\" style=\"background: #ffd966; padding: 0.45em 0.6em; margin: 0 0.25em; line-height: 1; border-radius: 0.35em;\">\n",
       "    Housekeeping Finish\n",
       "    <span style=\"font-size: 0.8em; font-weight: bold; line-height: 1; border-radius: 0.35em; vertical-align: middle; margin-left: 0.5rem\">ORG</span>\n",
       "</mark>\n",
       " concrete to grade and straight edged.  Treat equipment with care and keep tools clean.  Erect scaffolding and ladders for assembling structures above ground level.  Hang ledgers, overhang \n",
       "<mark class=\"entity\" style=\"background: linear-gradient(90deg, #9BE15D, #00E3AE); padding: 0.45em 0.6em; margin: 0 0.25em; line-height: 1; border-radius: 0.35em;\">\n",
       "    brackets\n",
       "    <span style=\"font-size: 0.8em; font-weight: bold; line-height: 1; border-radius: 0.35em; vertical-align: middle; margin-left: 0.5rem\">SKILL</span>\n",
       "</mark>\n",
       " and decking with plywood and steel.  Form slabs, columns and walls for concrete pours.  Make sure all parts of structures are plumb and square and true.  Work with metric, feet, and hundredths measurements.  Read and understand plans and specifications.         \n",
       "<mark class=\"entity\" style=\"background: #ffd966; padding: 0.45em 0.6em; margin: 0 0.25em; line-height: 1; border-radius: 0.35em;\">\n",
       "    08/2015\n",
       "    <span style=\"font-size: 0.8em; font-weight: bold; line-height: 1; border-radius: 0.35em; vertical-align: middle; margin-left: 0.5rem\">ORG</span>\n",
       "</mark>\n",
       "   to   \n",
       "<mark class=\"entity\" style=\"background: #c27ba0; padding: 0.45em 0.6em; margin: 0 0.25em; line-height: 1; border-radius: 0.35em;\">\n",
       "    10/2015\n",
       "    <span style=\"font-size: 0.8em; font-weight: bold; line-height: 1; border-radius: 0.35em; vertical-align: middle; margin-left: 0.5rem\">DATE</span>\n",
       "</mark>\n",
       "     Foreman    Company Name   －   City  ,   \n",
       "<mark class=\"entity\" style=\"background: #ffd966; padding: 0.45em 0.6em; margin: 0 0.25em; line-height: 1; border-radius: 0.35em;\">\n",
       "    State\n",
       "    <span style=\"font-size: 0.8em; font-weight: bold; line-height: 1; border-radius: 0.35em; vertical-align: middle; margin-left: 0.5rem\">ORG</span>\n",
       "</mark>\n",
       "      Complete company required or regulatory documents such as \n",
       "<mark class=\"entity\" style=\"background: #ffd966; padding: 0.45em 0.6em; margin: 0 0.25em; line-height: 1; border-radius: 0.35em;\">\n",
       "    DRA\n",
       "    <span style=\"font-size: 0.8em; font-weight: bold; line-height: 1; border-radius: 0.35em; vertical-align: middle; margin-left: 0.5rem\">ORG</span>\n",
       "</mark>\n",
       ", \n",
       "<mark class=\"entity\" style=\"background: #ffd966; padding: 0.45em 0.6em; margin: 0 0.25em; line-height: 1; border-radius: 0.35em;\">\n",
       "    JHA\n",
       "    <span style=\"font-size: 0.8em; font-weight: bold; line-height: 1; border-radius: 0.35em; vertical-align: middle; margin-left: 0.5rem\">ORG</span>\n",
       "</mark>\n",
       ", \n",
       "<mark class=\"entity\" style=\"background: #ffd966; padding: 0.45em 0.6em; margin: 0 0.25em; line-height: 1; border-radius: 0.35em;\">\n",
       "    Weekly Job site Inspection\n",
       "    <span style=\"font-size: 0.8em; font-weight: bold; line-height: 1; border-radius: 0.35em; vertical-align: middle; margin-left: 0.5rem\">ORG</span>\n",
       "</mark>\n",
       " sheet, time sheets, etc.  Supervise, mentor and coach craft personnel Direct work of assigned crew to meet \n",
       "<mark class=\"entity\" style=\"background: #c27ba0; padding: 0.45em 0.6em; margin: 0 0.25em; line-height: 1; border-radius: 0.35em;\">\n",
       "    daily\n",
       "    <span style=\"font-size: 0.8em; font-weight: bold; line-height: 1; border-radius: 0.35em; vertical-align: middle; margin-left: 0.5rem\">DATE</span>\n",
       "</mark>\n",
       " \n",
       "<mark class=\"entity\" style=\"background: linear-gradient(90deg, #9BE15D, #00E3AE); padding: 0.45em 0.6em; margin: 0 0.25em; line-height: 1; border-radius: 0.35em;\">\n",
       "    schedule\n",
       "    <span style=\"font-size: 0.8em; font-weight: bold; line-height: 1; border-radius: 0.35em; vertical-align: middle; margin-left: 0.5rem\">SKILL</span>\n",
       "</mark>\n",
       " Understand production \n",
       "<mark class=\"entity\" style=\"background: linear-gradient(90deg, #9BE15D, #00E3AE); padding: 0.45em 0.6em; margin: 0 0.25em; line-height: 1; border-radius: 0.35em;\">\n",
       "    schedule\n",
       "    <span style=\"font-size: 0.8em; font-weight: bold; line-height: 1; border-radius: 0.35em; vertical-align: middle; margin-left: 0.5rem\">SKILL</span>\n",
       "</mark>\n",
       " and adjust \n",
       "<mark class=\"entity\" style=\"background: #c27ba0; padding: 0.45em 0.6em; margin: 0 0.25em; line-height: 1; border-radius: 0.35em;\">\n",
       "    daily\n",
       "    <span style=\"font-size: 0.8em; font-weight: bold; line-height: 1; border-radius: 0.35em; vertical-align: middle; margin-left: 0.5rem\">DATE</span>\n",
       "</mark>\n",
       " work to meet \n",
       "<mark class=\"entity\" style=\"background: linear-gradient(90deg, #9BE15D, #00E3AE); padding: 0.45em 0.6em; margin: 0 0.25em; line-height: 1; border-radius: 0.35em;\">\n",
       "    schedule\n",
       "    <span style=\"font-size: 0.8em; font-weight: bold; line-height: 1; border-radius: 0.35em; vertical-align: middle; margin-left: 0.5rem\">SKILL</span>\n",
       "</mark>\n",
       " Perform on-site coordination of manpower, materials and equipment Request \n",
       "<mark class=\"entity\" style=\"background: linear-gradient(90deg, #9BE15D, #00E3AE); padding: 0.45em 0.6em; margin: 0 0.25em; line-height: 1; border-radius: 0.35em;\">\n",
       "    material\n",
       "    <span style=\"font-size: 0.8em; font-weight: bold; line-height: 1; border-radius: 0.35em; vertical-align: middle; margin-left: 0.5rem\">SKILL</span>\n",
       "</mark>\n",
       " needed for scope of work Read, understand and interpret plans and specifications as required and check work according to specifications Maintain high level of safety and adherence to all safety policies and procedures for craft personnel and subcontractors Present safety topics at meeting when required Knowledge and understanding of prevailing wage rules Ensures workers for each task are fully qualified to perform assigned duties Coordinate sub-contractors onsite Maintains knowledge of company values and strategic plan Perform additional assignments per management's direction.         08/2014   to   \n",
       "<mark class=\"entity\" style=\"background: #ffd966; padding: 0.45em 0.6em; margin: 0 0.25em; line-height: 1; border-radius: 0.35em;\">\n",
       "    08/2015\n",
       "    <span style=\"font-size: 0.8em; font-weight: bold; line-height: 1; border-radius: 0.35em; vertical-align: middle; margin-left: 0.5rem\">ORG</span>\n",
       "</mark>\n",
       "     \n",
       "<mark class=\"entity\" style=\"background: #ffd966; padding: 0.45em 0.6em; margin: 0 0.25em; line-height: 1; border-radius: 0.35em;\">\n",
       "    Carpenter    Company Name   －\n",
       "    <span style=\"font-size: 0.8em; font-weight: bold; line-height: 1; border-radius: 0.35em; vertical-align: middle; margin-left: 0.5rem\">ORG</span>\n",
       "</mark>\n",
       "   City  ,   State      Follow safety rules at all times.  \n",
       "<mark class=\"entity\" style=\"background: #ffd966; padding: 0.45em 0.6em; margin: 0 0.25em; line-height: 1; border-radius: 0.35em;\">\n",
       "    Housekeeping Finish\n",
       "    <span style=\"font-size: 0.8em; font-weight: bold; line-height: 1; border-radius: 0.35em; vertical-align: middle; margin-left: 0.5rem\">ORG</span>\n",
       "</mark>\n",
       " concrete to grade and straight edged.  Treat equipment with care and keep tools clean.  Erect scaffolding and ladders for assembling structures above ground level.  Hang ledgers, overhang \n",
       "<mark class=\"entity\" style=\"background: linear-gradient(90deg, #9BE15D, #00E3AE); padding: 0.45em 0.6em; margin: 0 0.25em; line-height: 1; border-radius: 0.35em;\">\n",
       "    brackets\n",
       "    <span style=\"font-size: 0.8em; font-weight: bold; line-height: 1; border-radius: 0.35em; vertical-align: middle; margin-left: 0.5rem\">SKILL</span>\n",
       "</mark>\n",
       " and decking with plywood and steel.  Form slabs, columns and walls for concrete pours.  Make sure all parts of structures are plumb and square and true.  Work with metric, feet, and hundredths measurements.  Read and understand plans and specifications.          Education          High school diploma      \n",
       "<mark class=\"entity\" style=\"background: #ffd966; padding: 0.45em 0.6em; margin: 0 0.25em; line-height: 1; border-radius: 0.35em;\">\n",
       "    Byron High School   －\n",
       "    <span style=\"font-size: 0.8em; font-weight: bold; line-height: 1; border-radius: 0.35em; vertical-align: middle; margin-left: 0.5rem\">ORG</span>\n",
       "</mark>\n",
       "   City  ,   \n",
       "<mark class=\"entity\" style=\"background: #ffd966; padding: 0.45em 0.6em; margin: 0 0.25em; line-height: 1; border-radius: 0.35em;\">\n",
       "    State\n",
       "    <span style=\"font-size: 0.8em; font-weight: bold; line-height: 1; border-radius: 0.35em; vertical-align: middle; margin-left: 0.5rem\">ORG</span>\n",
       "</mark>\n",
       "                  Associate degree (A.S      \n",
       "<mark class=\"entity\" style=\"background: #ffd966; padding: 0.45em 0.6em; margin: 0 0.25em; line-height: 1; border-radius: 0.35em;\">\n",
       "    Rock Valley College\n",
       "    <span style=\"font-size: 0.8em; font-weight: bold; line-height: 1; border-radius: 0.35em; vertical-align: middle; margin-left: 0.5rem\">ORG</span>\n",
       "</mark>\n",
       "   －   City  ,   State              Additional Information      2        Skills    blueprints, coach, direction, equipment operator, forklift, Forms, Inspection, materials, mentor, personnel, policies, Read, regulatory documents, safety, strategic, supervising, welding   </div></span>"
      ],
      "text/plain": [
       "<IPython.core.display.HTML object>"
      ]
     },
     "metadata": {},
     "output_type": "display_data"
    }
   ],
   "source": [
    "# options=[{\"ents\": \"Job-Category\", \"colors\": \"#ff3232\"},{\"ents\": \"SKILL\", \"colors\": \"#56c426\"}]\n",
    "colors = {\n",
    "    \"Job-Category\": \"linear-gradient(90deg, #aa9cfc, #fc9ce7)\",\n",
    "    \"SKILL\": \"linear-gradient(90deg, #9BE15D, #00E3AE)\",\n",
    "    \"ORG\": \"#ffd966\",\n",
    "    \"PERSON\": \"#e06666\",\n",
    "    \"GPE\": \"#9fc5e8\",\n",
    "    \"DATE\": \"#c27ba0\",\n",
    "    \"ORDINAL\": \"#674ea7\",\n",
    "    \"PRODUCT\": \"#f9cb9c\",\n",
    "}\n",
    "options = {\n",
    "    \"ents\": [\n",
    "        \"Job-Category\",\n",
    "        \"SKILL\",\n",
    "        \"ORG\",\n",
    "        \"PERSON\",\n",
    "        \"GPE\",\n",
    "        \"DATE\",\n",
    "        \"ORDINAL\",\n",
    "        \"PRODUCT\",\n",
    "    ],\n",
    "    \"colors\": colors,\n",
    "}\n",
    "sent = nlp(data[\"Resume_str\"].iloc[5])\n",
    "displacy.render(sent, style=\"ent\", jupyter=True, options=options)"
   ]
  },
  {
   "attachments": {},
   "cell_type": "markdown",
   "metadata": {},
   "source": [
    "## **Resume Analysis**"
   ]
  },
  {
   "attachments": {},
   "cell_type": "markdown",
   "metadata": {},
   "source": [
    "## **Single Resume Analyzer**\n"
   ]
  },
  {
   "cell_type": "code",
   "execution_count": 23,
   "metadata": {},
   "outputs": [],
   "source": [
    "import PyPDF2\n",
    "import tkinter as tk\n",
    "from tkinter import filedialog\n",
    "from tkinter import ttk\n",
    "\n",
    "# Create a Tkinter root window\n",
    "root = tk.Tk()\n",
    "root.title(\"Resume Recommendation System\")\n",
    "\n",
    "# Define style for the widgets\n",
    "style = ttk.Style()\n",
    "style.configure('TLabel', foreground='black', font=('Arial', 12))\n",
    "style.configure('TButton', foreground='black', font=('Arial', 12))\n",
    "style.configure('TEntry', foreground='black', font=('Arial', 12))\n",
    "\n",
    "# Define a function to handle the file chooser button click event\n",
    "def choose_file():\n",
    "    # Get the desired skills from the entry widget\n",
    "    input_skills = tag_entry.get()\n",
    "\n",
    "    file_path = filedialog.askopenfilename()\n",
    "    if file_path:\n",
    "        # Open the selected PDF file in read binary mode\n",
    "        with open(file_path, 'rb') as pdf_file:\n",
    "            # Create a PDF reader object\n",
    "            pdf_reader = PyPDF2.PdfReader(pdf_file)\n",
    "            # Read the text from each page of the PDF file\n",
    "            pdf_text = []\n",
    "            for page_num in range(len(pdf_reader.pages)):\n",
    "                page_obj = pdf_reader.pages[page_num]\n",
    "                pdf_text.append(page_obj.extract_text())\n",
    "            # Join the text from each page into a single string\n",
    "            input_resume = '\\n'.join(pdf_text)\n",
    "\n",
    "            # Now you can use the 'text' variable to store the extracted text from the PDF file\n",
    "            sent2 = nlp(input_resume)\n",
    "            displacy.render(sent2, style=\"ent\", jupyter=True, options=options)\n",
    "\n",
    "\n",
    "            req_skills = input_skills.lower().split(\",\")\n",
    "            resume_skills = unique_skills(get_skills(input_resume.lower()))\n",
    "            score = 0\n",
    "            for x in req_skills:\n",
    "                if x in resume_skills:\n",
    "                    score += 1\n",
    "            req_skills_len = len(req_skills)\n",
    "            match = round(score / req_skills_len * 100, 1)\n",
    "            result_textbox.delete(1.0, tk.END)\n",
    "            result_textbox.insert(tk.END, f\"The current Resume is {match}% matched to your requirements\\n{resume_skills}\")\n",
    "\n",
    "# Create a label for the user to enter their desired skills\n",
    "tag_label = ttk.Label(root, text=\"Enter desired skills (comma-separated): \")\n",
    "tag_label.pack()\n",
    "\n",
    "# Create an entry widget for the user to enter their desired skills\n",
    "tag_entry = ttk.Entry(root)\n",
    "tag_entry.pack()\n",
    "\n",
    "# Create a label for the file chooser button\n",
    "file_label = ttk.Label(root, text=\"Upload Resume:\")\n",
    "file_label.pack()\n",
    "\n",
    "# Create a file chooser button\n",
    "file_button = ttk.Button(root, text=\"Choose File\", command=choose_file)\n",
    "file_button.pack()\n",
    "\n",
    "# Create a label to display the result\n",
    "result_label = ttk.Label(root, text=\"Result: \")\n",
    "result_label.pack()\n",
    "\n",
    "# Create a text box to display the result\n",
    "result_textbox = tk.Text(root, height=10, width=50)\n",
    "result_textbox.pack()\n",
    "\n",
    "# Create an exit button to close the Tkinter window\n",
    "exit_button = ttk.Button(root, text=\"Exit\", command=root.destroy)\n",
    "exit_button.pack()\n",
    "\n",
    "# Start the Tkinter event loop\n",
    "root.mainloop()\n"
   ]
  },
  {
   "attachments": {},
   "cell_type": "markdown",
   "metadata": {},
   "source": [
    "**Resume Recommender**\n"
   ]
  },
  {
   "cell_type": "code",
   "execution_count": null,
   "metadata": {},
   "outputs": [],
   "source": [
    "import os\n",
    "import PyPDF2\n",
    "import tkinter as tk\n",
    "from tkinter import filedialog\n",
    "import pandas as pd\n",
    "\n",
    "\n",
    "def get_resume_skills(resume_text):\n",
    "    resume_skills = get_skills(resume_text.lower())\n",
    "    return unique_skills(resume_skills)\n",
    "\n",
    "\n",
    "def calculate_match_score(req_skills, resume_skills):\n",
    "    score = 0\n",
    "    for skill in req_skills:\n",
    "        if skill in resume_skills:\n",
    "            score += 1\n",
    "    req_skills_len = len(req_skills)\n",
    "    match_score = round(score / req_skills_len * 100, 1)\n",
    "    return match_score\n",
    "\n",
    "\n",
    "def extract_resume_text(pdf_path):\n",
    "    with open(pdf_path, 'rb') as f:\n",
    "        pdf_reader = PyPDF2.PdfReader(f)\n",
    "        resume_text = ''\n",
    "        for page_num in range(len(pdf_reader.pages)):\n",
    "            page = pdf_reader.pages[page_num]\n",
    "            resume_text += page.extract_text()\n",
    "        resume_skills = get_resume_skills(resume_text)\n",
    "        return resume_text, resume_skills\n",
    "\n",
    "\n",
    "def process_resumes(resumes_folder, req_skills, ground_truth_file=None):\n",
    "    resumes = os.listdir(resumes_folder)\n",
    "    match_scores = []\n",
    "    for resume_file in resumes:\n",
    "        if not resume_file.endswith('.pdf'):\n",
    "            continue\n",
    "        resume_path = os.path.join(resumes_folder, resume_file)\n",
    "        resume_text, resume_skills = extract_resume_text(resume_path)\n",
    "        match_score = calculate_match_score(req_skills, resume_skills)\n",
    "        match_scores.append((match_score, resume_file, resume_skills))\n",
    "\n",
    "    # Sort resumes by match score\n",
    "    top_resumes = sorted(match_scores, reverse=True)[:10] # Get top 10 resumes with highest match scores\n",
    "\n",
    "    # If ground truth file is provided, calculate precision, recall, and F1 score\n",
    "    if ground_truth_file is not None:\n",
    "        ground_truth = pd.read_csv(ground_truth_file)\n",
    "        relevant_resumes = set(ground_truth[ground_truth['relevant'] == 1]['resume'].values)\n",
    "        selected_resumes = set([resume_file for _, resume_file, _ in top_resumes])\n",
    "        true_positives = len(relevant_resumes & selected_resumes)\n",
    "        false_positives = len(selected_resumes - relevant_resumes)\n",
    "        false_negatives = len(relevant_resumes - selected_resumes)\n",
    "        precision = true_positives / (true_positives + false_positives)\n",
    "        recall = true_positives / (true_positives + false_negatives)\n",
    "        \n",
    "        if precision != 0 or recall != 0:\n",
    "            f1_score = 2 * precision * recall / (precision + recall)\n",
    "        else:\n",
    "            f1_score = 0\n",
    "\n",
    "        return top_resumes, precision, recall, f1_score\n",
    "    else:\n",
    "        return top_resumes, None, None, None\n",
    "\n",
    "\n",
    "def process_input():\n",
    "    # Get the input skills from the user\n",
    "    input_skills = input_skills_entry.get().lower().split(\",\")\n",
    "\n",
    "    # Get the resumes folder from the user using a file dialog\n",
    "    resumes_folder = filedialog.askdirectory(title=\"Select Resumes Folder\")\n",
    "\n",
    "    # Get the ground truth file from the user using a file dialog\n",
    "    ground_truth_file = filedialog.askopenfilename(title=\"Select Ground Truth File\",\n",
    "                                                   filetypes=[(\"CSV Files\", \"*.csv\")])\n",
    "\n",
    "    # Process the resumes\n",
    "    top_resumes, precision, recall, f1_score = process_resumes(resumes_folder, input_skills, ground_truth_file)\n",
    "\n",
    "    # Print the results to the text widget\n",
    "    result_text.delete(\"1.0\", tk.END)\n",
    "    result_text.insert(tk.END, \"Top Resumes:\\n\")\n",
    "    for i, (match_score, resume_file, resume_skills) in enumerate(top_resumes):\n",
    "        result_text.insert(tk.END, f\"{i+1}. {resume_file} (Match Score: {match_score}%)\\n\")\n",
    "        result_text.insert(tk.END, f\"Skills: {', '.join(resume_skills)}\\n\\n\")\n",
    "\n",
    "    if precision is not None and recall is not None and f1_score is not None:\n",
    "        result_text.insert(tk.END, f\"Precision: {precision}\\n\")\n",
    "        result_text.insert(tk.END, f\"Recall: {recall}\\n\")\n",
    "        result_text.insert(tk.END, f\"F1 Score: {f1_score}\\n\")\n",
    "\n",
    "# Create the main window\n",
    "root = tk.Tk()\n",
    "root.title(\"Resume Matcher\")\n",
    "\n",
    "# Create the input skills label and entry widget\n",
    "input_skills_label = tk.Label(root, text=\"Enter required skills (comma-separated): \")\n",
    "input_skills_label.grid(row=0, column=0, padx=10, pady=10)\n",
    "input_skills_entry = tk.Entry(root)\n",
    "input_skills_entry.grid(row=0, column=1, padx=10, pady=10)\n",
    "\n",
    "# Create the resumes folder label and button\n",
    "resumes_folder_label = tk.Label(root, text=\"Select Resumes Folder: \")\n",
    "resumes_folder_label.grid(row=1, column=0, padx=10, pady=10)\n",
    "resumes_folder_button = tk.Button(root, text=\"Browse\", command=lambda: input_folder.set(filedialog.askdirectory(title=\"Select Resumes Folder\")))\n",
    "resumes_folder_button.grid(row=1, column=1, padx=10, pady=10)\n",
    "input_folder = tk.StringVar()\n",
    "input_folder.set(\"\")\n",
    "\n",
    "# Create the ground truth file label and button\n",
    "ground_truth_label = tk.Label(root, text=\"Select Ground Truth File: \")\n",
    "ground_truth_label.grid(row=2, column=0, padx=10, pady=10)\n",
    "ground_truth_button = tk.Button(root, text=\"Browse\", command=lambda: input_file.set(filedialog.askopenfilename(title=\"Select Ground Truth File\", filetypes=[(\"CSV Files\", \"*.csv\")])))\n",
    "ground_truth_button.grid(row=2, column=1, padx=10, pady=10)\n",
    "input_file = tk.StringVar()\n",
    "input_file.set(\"\")\n",
    "\n",
    "# Create the submit button\n",
    "submit_button = tk.Button(root, text=\"Submit\", command=process_input)\n",
    "submit_button.grid(row=3, column=0, padx=10, pady=10)\n",
    "\n",
    "# Create the result text widget\n",
    "result_text = tk.Text(root, width=80, height=20)\n",
    "result_text.grid(row=4, column=0, columnspan=2, padx=10, pady=10)\n",
    "\n",
    "# Start the main loop\n",
    "root.mainloop()\n"
   ]
  },
  {
   "attachments": {},
   "cell_type": "markdown",
   "metadata": {},
   "source": [
    "### **Topic Modeling - LDA**\n"
   ]
  },
  {
   "cell_type": "code",
   "execution_count": null,
   "metadata": {},
   "outputs": [],
   "source": [
    "docs = data[\"Clean_Resume\"].values\n",
    "dictionary = corpora.Dictionary(d.split() for d in docs)\n",
    "bow = [dictionary.doc2bow(d.split()) for d in docs]\n",
    "lda = gensim.models.ldamodel.LdaModel\n",
    "num_topics = 4\n",
    "ldamodel = lda(\n",
    "    bow, \n",
    "    num_topics=num_topics, \n",
    "    id2word=dictionary, \n",
    "    passes=50, \n",
    "    minimum_probability=0\n",
    ")\n",
    "ldamodel.print_topics(num_topics=num_topics)"
   ]
  },
  {
   "cell_type": "markdown",
   "metadata": {},
   "source": [
    "## pyLDAvis\n",
    "The best way to visualize Topics is to use pyLDAvis from GENSIM.\n",
    "\n",
    "* topic #1 appears to relate to the project,management,system.\n",
    "* topic #2 relates to management,company,business.\n",
    "* topic #3 relates to customer,services , state.\n",
    "* topic #4 relates to state,city,student."
   ]
  },
  {
   "cell_type": "code",
   "execution_count": null,
   "metadata": {},
   "outputs": [
    {
     "data": {
      "text/html": [
       "\n",
       "<link rel=\"stylesheet\" type=\"text/css\" href=\"https://cdn.jsdelivr.net/gh/bmabey/pyLDAvis@3.4.0/pyLDAvis/js/ldavis.v1.0.0.css\">\n",
       "\n",
       "\n",
       "<div id=\"ldavis_el263618412291647207449498791\" style=\"background-color:white;\"></div>\n",
       "<script type=\"text/javascript\">\n",
       "\n",
       "var ldavis_el263618412291647207449498791_data = {\"mdsDat\": {\"x\": [0.032416912269123084, 0.10629604095872142, -0.023824033293611747, -0.11488891993423271], \"y\": [-0.005576837311560403, 0.051770262573589916, -0.11672229806273042, 0.07052887280070089], \"topics\": [1, 2, 3, 4], \"cluster\": [1, 1, 1, 1], \"Freq\": [28.052167600143974, 27.73914193164198, 22.507677069132423, 21.70101339908161]}, \"tinfo\": {\"Term\": [\"marketing\", \"customer\", \"project\", \"system\", \"sale\", \"financial\", \"medium\", \"accounting\", \"engineering\", \"food\", \"design\", \"construction\", \"business\", \"network\", \"account\", \"patient\", \"strategy\", \"hr\", \"technical\", \"server\", \"engineer\", \"tax\", \"development\", \"equipment\", \"software\", \"payroll\", \"employee\", \"fitness\", \"campaign\", \"service\", \"accountant\", \"compensation\", \"receivable\", \"ledger\", \"adp\", \"reconciled\", \"payable\", \"variance\", \"reconciliation\", \"accrual\", \"tax\", \"hris\", \"termination\", \"cpa\", \"ar\", \"hr\", \"gaap\", \"pivot\", \"fmla\", \"depreciation\", \"shrm\", \"statutory\", \"gl\", \"attorney\", \"taxation\", \"wage\", \"exempt\", \"deduction\", \"receivables\", \"disbursement\", \"statement\", \"treasury\", \"settlement\", \"accounting\", \"quickbooks\", \"applicant\", \"payroll\", \"financial\", \"claim\", \"human\", \"finance\", \"benefit\", \"bank\", \"audit\", \"reporting\", \"invoice\", \"loan\", \"account\", \"recruitment\", \"employee\", \"monthly\", \"resource\", \"student\", \"teacher\", \"balance\", \"report\", \"process\", \"management\", \"policy\", \"payment\", \"state\", \"company\", \"analysis\", \"city\", \"name\", \"business\", \"office\", \"skill\", \"program\", \"training\", \"manager\", \"new\", \"system\", \"team\", \"service\", \"client\", \"development\", \"project\", \"stocked\", \"cleanliness\", \"neat\", \"gym\", \"fitness\", \"bartender\", \"liquor\", \"drink\", \"sanitation\", \"garnish\", \"yoga\", \"patron\", \"aide\", \"cooked\", \"pallet\", \"alcoholic\", \"alcohol\", \"weight\", \"specimen\", \"utensil\", \"wound\", \"feeding\", \"assault\", \"salad\", \"therapeutic\", \"meal\", \"illness\", \"greeted\", \"clean\", \"garnishing\", \"beverage\", \"dish\", \"merchandise\", \"patient\", \"food\", \"complaint\", \"guest\", \"dining\", \"greet\", \"exercise\", \"nursing\", \"friendly\", \"medication\", \"kitchen\", \"menu\", \"cleaning\", \"bar\", \"cook\", \"customer\", \"store\", \"care\", \"child\", \"item\", \"cooking\", \"medical\", \"service\", \"advocate\", \"call\", \"health\", \"manner\", \"order\", \"sale\", \"personal\", \"daily\", \"skill\", \"need\", \"state\", \"city\", \"name\", \"company\", \"inventory\", \"maintained\", \"high\", \"staff\", \"product\", \"work\", \"member\", \"equipment\", \"experience\", \"problem\", \"team\", \"client\", \"training\", \"professional\", \"management\", \"new\", \"branding\", \"editorial\", \"seo\", \"festival\", \"blog\", \"nfl\", \"esoh\", \"deloitte\", \"postdoctoral\", \"iraq\", \"campaign\", \"ecommerce\", \"co2\", \"delaware\", \"jamie\", \"asian\", \"johnson\", \"photographer\", \"activation\", \"cordon\", \"cody\", \"leonard\", \"anthropology\", \"follower\", \"wy\", \"producer\", \"mayor\", \"debra\", \"bleu\", \"celebrity\", \"medium\", \"press\", \"pr\", \"marketing\", \"photography\", \"instagram\", \"google\", \"digital\", \"audience\", \"facebook\", \"brand\", \"salesforce\", \"content\", \"channel\", \"analytics\", \"pitch\", \"advertising\", \"indesign\", \"strategy\", \"market\", \"news\", \"strategic\", \"fundraising\", \"website\", \"partnership\", \"public\", \"launch\", \"collateral\", \"executive\", \"relation\", \"graphic\", \"print\", \"event\", \"business\", \"international\", \"development\", \"social\", \"national\", \"sale\", \"art\", \"director\", \"creative\", \"client\", \"communication\", \"relationship\", \"developed\", \"product\", \"company\", \"management\", \"state\", \"city\", \"new\", \"name\", \"team\", \"program\", \"manager\", \"project\", \"managed\", \"university\", \"experience\", \"service\", \"engineer\", \"3d\", \"lan\", \"autocad\", \"router\", \"linux\", \"schematic\", \"asp\", \"aviation\", \"vpn\", \"wan\", \"firewall\", \"naval\", \"fiber\", \"fabrication\", \"hvac\", \"diagram\", \"engineering\", \"welding\", \"scrum\", \"dhcp\", \"matlab\", \"xml\", \"aircraft\", \"ftp\", \"animation\", \"coating\", \"configuration\", \"itil\", \"symantec\", \"java\", \"cad\", \"cisco\", \"construction\", \"hardware\", \"installation\", \"sql\", \"server\", \"upgrade\", \"mechanical\", \"concrete\", \"electrical\", \"troubleshooting\", \"infrastructure\", \"network\", \"qa\", \"architecture\", \"navy\", \"technical\", \"user\", \"window\", \"testing\", \"manufacturing\", \"system\", \"project\", \"component\", \"design\", \"application\", \"test\", \"software\", \"technology\", \"maintenance\", \"site\", \"support\", \"specification\", \"security\", \"computer\", \"equipment\", \"data\", \"control\", \"management\", \"using\", \"process\", \"city\", \"company\", \"state\", \"work\", \"team\", \"name\", \"quality\", \"information\", \"operation\", \"experience\", \"development\", \"service\", \"skill\", \"new\"], \"Freq\": [1826.0, 4752.0, 3202.0, 2721.0, 3445.0, 1647.0, 966.0, 1155.0, 765.0, 1036.0, 1356.0, 680.0, 3078.0, 800.0, 1842.0, 744.0, 965.0, 608.0, 882.0, 503.0, 430.0, 520.0, 2272.0, 959.0, 999.0, 602.0, 1758.0, 465.0, 395.0, 3666.0, 296.93204969983475, 172.1382595002936, 164.3774339478644, 244.6834555273545, 91.05875197461835, 89.14063522280829, 253.905519750499, 89.02354169112682, 371.28670895197905, 71.74396471829351, 515.6038201633169, 64.97557812029648, 69.62685664674733, 60.09852176992736, 54.305704371623, 597.8896228321543, 45.51211653610758, 40.77132063025163, 35.012555524113, 33.0835247075725, 32.11627501458649, 31.121244065923044, 29.197958708405544, 64.99432457115597, 28.221328098612247, 44.195747525166176, 27.265030927244368, 25.34732694602899, 61.9463342034293, 24.385122796709762, 377.49490175816794, 44.99763003723203, 55.11649349888112, 1081.2752674836388, 116.30084805692634, 129.32565239829322, 542.6793560582955, 1423.5861165088736, 269.8134626009676, 548.5315303808749, 517.8682027320147, 441.2393979892807, 404.9169393389456, 350.480363614673, 588.0479822550014, 245.10840926406988, 259.6413799343211, 1235.6488855951097, 222.6062690065637, 1173.103669970842, 562.7587739214634, 656.5960411602883, 863.5490647198552, 356.20820425551256, 206.81347120546621, 901.0211279332916, 1051.5229681217336, 1931.8950240056738, 573.2652776835848, 364.94322994243214, 1938.1638043565445, 1837.3887915138587, 633.5076743617908, 1637.6654987599422, 1283.53560726766, 990.1547998956329, 677.3185402272293, 945.9713431917769, 747.2512521932649, 746.5623508896887, 704.8131433913121, 699.3509116548822, 680.2159949537271, 684.7397965888164, 652.0818793850501, 625.3909123671125, 576.8378507651057, 578.1521943799613, 61.276769585991175, 60.27014438555699, 63.0859224696301, 48.59816265588108, 457.807853777868, 41.87087717781737, 54.1951084930555, 98.7896985506359, 119.54104095590745, 33.16623443292418, 35.021116964238864, 72.86368068381168, 34.04258160171617, 34.99400570732321, 42.520989603329106, 29.300575840253906, 33.99592154153919, 73.66389627927498, 28.32222047579003, 28.323533701064232, 27.350025608268833, 27.33621899660223, 27.323870115693673, 28.269189498404426, 27.300310651459785, 84.70440932603853, 26.337681032895272, 63.02735972091572, 248.1650780411619, 23.47700484147447, 185.5990508098156, 105.22924825853354, 257.3926202172924, 701.1996672397473, 967.1200174619531, 222.61490626188765, 283.3932637581927, 101.06406275525259, 64.16739136995805, 191.65594999650313, 178.67323254324228, 151.91537012628115, 82.24424149140984, 278.048487595872, 264.82085109378875, 92.61173926106487, 174.51317825222964, 104.99098153233561, 3444.12613810454, 553.7843601320363, 506.7850112197364, 374.00071702875516, 314.08428150469734, 127.9427926011188, 424.4967538649855, 2057.1919934611246, 128.1101958661884, 480.3995470401845, 546.6108848179994, 256.6852836201798, 560.3077331612973, 1570.9010440410093, 359.52538468661646, 561.7587507523004, 1338.9932892650309, 571.8824905873716, 2168.8085564979233, 1953.0143496362587, 1515.27578252067, 1824.590125607397, 507.9645410343619, 570.2875962381416, 570.1566184957356, 696.8667336863828, 793.8653856369865, 802.7328505695932, 588.3316157277384, 484.8575767092445, 690.1821229593627, 462.32770137180466, 724.5963726655172, 706.2736046327756, 651.1926166793625, 579.4975746600257, 648.3812802375295, 562.172655020963, 67.97248812455766, 53.43953879788013, 37.96333247543753, 29.243616363011494, 26.320796288064333, 22.45369274401924, 22.42928366071735, 20.53768255786024, 18.62037230928368, 19.51476588310766, 380.39484042958406, 17.642750056006264, 17.634046631815274, 21.340703548573934, 17.626462248692565, 17.60472734441414, 17.58278056287463, 16.6586172053371, 15.711219346207223, 15.645353288328842, 14.747719843764893, 14.714092042544799, 14.708820824277387, 14.719630678714555, 13.779354364030247, 64.32797707124357, 13.737885047089033, 13.745205097900577, 13.704714941894109, 26.548786506301173, 898.2931686431599, 229.15667044214905, 122.69757060496346, 1606.0112736239553, 47.15139195966883, 21.01410195031636, 85.63623048589812, 318.64951140501637, 74.36630206129007, 43.90123180164146, 394.90867143330456, 60.29555372290697, 344.34466911111514, 109.01975378992385, 104.62225974954673, 35.796815483664105, 270.32938390256686, 49.05883860177037, 725.6136122669174, 512.1926669361344, 74.11181895717382, 503.2237502516939, 85.27167817317599, 249.9087933588403, 134.53693459670697, 521.0568216288003, 125.64981487741191, 86.05108204899089, 483.43209370131416, 547.2227994078922, 218.50558818478697, 140.75632623516415, 553.2376451499052, 1482.3111574172158, 292.12925838889555, 1075.9939281187264, 339.1288186918551, 273.43510136623286, 1436.50051242336, 453.44985674965636, 389.26873736213844, 234.3732778597788, 966.5561878050701, 615.3313250764344, 423.6418610749246, 563.658682185304, 717.154583353942, 1496.86724867775, 1178.6456717424337, 1411.213738881239, 1285.984749271446, 776.1180421087072, 1013.7079706062885, 779.9554972356251, 655.6139071929795, 631.8953051431918, 673.8876503601806, 497.9678447447839, 472.4585465949377, 486.6627652654428, 475.9845791751475, 426.87677969577135, 79.16104773432181, 80.09224815140422, 75.30219629987381, 73.3461740364634, 76.17580061693732, 59.905810729842536, 56.063230590317225, 182.18319183812594, 50.274997072054326, 49.298421876176036, 46.42756965744478, 47.34947615838778, 43.538149439802474, 43.49261202739084, 39.64652534844289, 37.755612064764584, 750.7298444850107, 37.71924560161216, 35.788308581763694, 31.99093860408173, 31.025013926698673, 32.88876937988253, 171.96072501956507, 32.836625472665006, 30.024156738653325, 29.0952768256006, 142.66315974267908, 32.838715909628505, 29.086135626393055, 63.568490323626996, 89.39980171449959, 133.32645112895432, 639.5591532974586, 252.8750583319002, 197.8990255295637, 229.29197817854217, 468.64743889956, 143.6062760471208, 189.94284624653983, 79.83788124301498, 168.29121878059243, 204.45644465022772, 170.27895063240166, 665.5756448765737, 111.70320124561954, 108.26776047978154, 115.51117612505084, 671.3282100662299, 347.5702502421456, 363.7240681608345, 377.63503365134943, 233.37960354360243, 1705.0611092021174, 1921.838105381016, 152.63675746239795, 854.5708210774307, 559.5489359551722, 362.74179285505767, 639.6449603798008, 589.4012960621575, 432.27155093076465, 367.2562164279439, 743.994305855032, 212.9076330595297, 326.4826520223337, 394.70331262471854, 450.6990026644144, 567.9599340280147, 420.2484364519435, 1018.887829623248, 396.1114817367509, 621.9718112893736, 1015.615101806637, 1007.0384554461368, 1010.9673662689136, 581.0147326984139, 659.1008277660194, 771.1893120140381, 464.6803845438781, 477.8122636147986, 448.4414576773927, 478.9540309308757, 460.549585903845, 480.8842777495256, 456.53378906351907, 434.195197204619], \"Total\": [1826.0, 4752.0, 3202.0, 2721.0, 3445.0, 1647.0, 966.0, 1155.0, 765.0, 1036.0, 1356.0, 680.0, 3078.0, 800.0, 1842.0, 744.0, 965.0, 608.0, 882.0, 503.0, 430.0, 520.0, 2272.0, 959.0, 999.0, 602.0, 1758.0, 465.0, 395.0, 3666.0, 297.6832384639841, 172.97998844856477, 165.24625930850172, 246.43417443855614, 91.79532701488638, 89.86950675844191, 256.1033079100492, 89.85173968689557, 375.00792344633857, 72.47167417843846, 520.9633900300295, 65.70437307188877, 70.49625692981716, 60.85250687048811, 55.06025051239801, 608.8658320807186, 46.34949878591583, 41.52255479912011, 35.740347027901734, 33.809440296158236, 32.84247177976964, 31.8630344527835, 29.93413760467265, 66.64852960213835, 28.964384288912015, 45.379861237690136, 27.999298876388696, 26.074644990288203, 63.74880053332783, 25.110509076823774, 391.41502699280386, 46.349815453630036, 56.976532219742396, 1155.1355601824914, 121.71314657052538, 136.24205138199156, 602.3020429442008, 1647.301858803088, 300.59622033438154, 636.1450477170656, 622.5956303989818, 527.9093756202413, 483.39465213980543, 415.4338829312657, 745.1477597826661, 285.1186049914037, 311.2872478536743, 1842.382243683629, 265.8334893796392, 1758.1320211849709, 765.895706324819, 933.5570811485577, 1315.3994260944012, 460.31698214335677, 245.5180955982052, 1495.3827996736527, 2010.719769330592, 4777.809805608885, 1012.4615221587637, 528.0547078105201, 6529.153466004621, 6165.8846212451435, 1243.2717417983145, 5892.279699474284, 4583.708672408657, 3078.883333720152, 1566.2709887542833, 3207.9831319371065, 2048.7768529830037, 2258.0050282958864, 2204.719310416089, 2471.8368059891714, 2721.8157568317065, 2848.392494255978, 3666.142729770848, 2687.3424634703247, 2272.0249001008447, 3202.83345954192, 62.0066728766458, 61.029518455583705, 63.933795563828376, 49.37794487402929, 465.17124975300345, 42.6143895172674, 55.20640788942935, 100.72943753777156, 122.09328101337661, 33.900797775572066, 35.80343774011121, 74.5857345094195, 34.849611754704945, 35.83612475052827, 43.563345056260204, 30.025084094226898, 34.85957137897292, 75.54324452506482, 29.050850344942543, 29.054231770332365, 28.080036031470517, 28.07723429844278, 28.070329880223262, 29.0500824873194, 28.067180192618846, 87.15964314272452, 27.102190073585508, 64.89056144043158, 255.7927628127244, 24.20688059095684, 191.84135538448143, 108.51218496324694, 268.39249628180465, 744.283674554621, 1036.073630646098, 234.45890981169575, 300.40137339243586, 105.6062070909744, 66.82591903718836, 204.42724695272605, 190.86686709771624, 161.75694473439876, 86.19865747828776, 305.2452802287313, 290.7304585577771, 97.8215041284509, 189.85422222412234, 112.37489797287706, 4752.556443161237, 667.4391600640728, 619.0113584790938, 469.8452786972284, 393.179740326004, 143.36890403019996, 574.3273019602665, 3666.142729770848, 144.29847921285258, 688.4216466631017, 833.8934443334034, 335.03703832699523, 924.108556882244, 3445.88863658836, 543.2631008662947, 985.233235117575, 3207.9831319371065, 1037.6816466631224, 6529.153466004621, 5892.279699474284, 4583.708672408657, 6165.8846212451435, 925.8517792545098, 1116.5978531359747, 1124.4201272958444, 1555.2383238794962, 1964.186301553366, 2028.124085957702, 1224.3051398334978, 959.3797915378607, 2212.447334593275, 962.2444837688777, 2848.392494255978, 2687.3424634703247, 2258.0050282958864, 1670.6545256956226, 4777.809805608885, 2471.8368059891714, 68.7204443846441, 54.20546476579821, 38.70875816540194, 29.98526208096015, 27.077875878240036, 23.20232251104404, 23.195718595497304, 21.275280186346478, 19.346428907458503, 20.282621691051617, 395.9868198483655, 18.37354244417882, 18.3688175865163, 22.230719462662517, 18.363611649673818, 18.356419302368586, 18.35367427925231, 17.39891851488457, 16.44052083015707, 16.4080584388014, 15.473425826212669, 15.455801972925904, 15.456056634600067, 15.470388005968537, 14.505063342537548, 67.73967756432528, 14.490544218289175, 14.49844464504486, 14.469904274525096, 28.042941892797185, 966.229400282868, 244.91687870103954, 131.61283284000953, 1826.1448140912332, 50.28699337223847, 22.237206948177523, 93.83416087032309, 363.80251170750205, 81.2670602403347, 47.393652770081424, 458.90428350395973, 65.77519770292639, 409.4375167470142, 122.8657772736745, 119.01286923978317, 38.67342863913479, 328.2029486856482, 54.1481485858164, 965.9175447379442, 671.7994175257677, 84.16023383571871, 674.4639097779968, 98.6912469369034, 322.1263283678005, 165.48359437258443, 738.4950377851865, 153.78766192738073, 101.55392630398057, 721.945305290031, 851.7823471697488, 299.72889039550546, 179.88558755354924, 907.2669576292294, 3078.883333720152, 437.35750787096464, 2272.0249001008447, 537.3816235378815, 413.12215419582407, 3445.88863658836, 821.7053344337746, 675.3167235688254, 354.2842009241169, 2687.3424634703247, 1450.29046820819, 852.7673344405846, 1311.271500863224, 1964.186301553366, 6165.8846212451435, 4777.809805608885, 6529.153466004621, 5892.279699474284, 2471.8368059891714, 4583.708672408657, 2848.392494255978, 2048.7768529830037, 2204.719310416089, 3202.83345954192, 1359.3588704711094, 1407.7870556854414, 2212.447334593275, 3666.142729770848, 430.3665735669041, 79.89450021401127, 80.86344681059406, 76.03913605048932, 74.11123084324194, 77.00552539354341, 60.638440956632124, 56.792155042342884, 184.8086466549675, 51.015883120688684, 50.05307649672568, 47.16396246763909, 48.11734555454887, 44.27054663395486, 44.254534532427215, 40.401384906371376, 38.49053219866612, 765.4807697471108, 38.483320483954934, 36.567595058400165, 32.722474969912376, 31.755557896794254, 33.6805685662207, 176.15227279409058, 33.65360352467136, 30.7788304701082, 29.830310241030094, 146.30368061074964, 33.68085312488853, 29.834258068363546, 65.444950414057, 92.38099284575948, 138.62613961076326, 680.8709074353224, 265.7503893911046, 206.99306738948295, 242.64625479527595, 503.7411947187139, 152.0992896392576, 204.1380469739667, 83.70753789301602, 183.914456135032, 226.30737155794827, 187.78849410707684, 800.7688486015422, 120.33992419384175, 116.50242338187624, 126.13068262048029, 882.0318684383057, 424.93561341359793, 451.0436947213621, 473.12056689173073, 277.41734256052075, 2721.8157568317065, 3202.83345954192, 173.34280457244503, 1356.5159199397322, 828.3060362522478, 492.63678282949786, 999.071575126575, 920.1342165848416, 716.90921510051, 580.6912039328067, 1656.7188303856387, 272.8014107636471, 545.1517781580832, 760.673630326635, 959.3797915378607, 1425.3717055603047, 895.0734575704078, 4777.809805608885, 824.5628664996957, 2010.719769330592, 5892.279699474284, 6165.8846212451435, 6529.153466004621, 2028.124085957702, 2848.392494255978, 4583.708672408657, 1293.9807599100818, 1636.1795738206783, 1523.0601174324522, 2212.447334593275, 2272.0249001008447, 3666.142729770848, 3207.9831319371065, 2471.8368059891714], \"Category\": [\"Default\", \"Default\", \"Default\", \"Default\", \"Default\", \"Default\", \"Default\", \"Default\", \"Default\", \"Default\", \"Default\", \"Default\", \"Default\", \"Default\", \"Default\", \"Default\", \"Default\", \"Default\", \"Default\", \"Default\", \"Default\", \"Default\", \"Default\", \"Default\", \"Default\", \"Default\", \"Default\", \"Default\", \"Default\", \"Default\", \"Topic1\", \"Topic1\", \"Topic1\", \"Topic1\", \"Topic1\", \"Topic1\", \"Topic1\", \"Topic1\", \"Topic1\", \"Topic1\", \"Topic1\", \"Topic1\", \"Topic1\", \"Topic1\", \"Topic1\", \"Topic1\", \"Topic1\", \"Topic1\", \"Topic1\", \"Topic1\", \"Topic1\", \"Topic1\", \"Topic1\", \"Topic1\", \"Topic1\", \"Topic1\", \"Topic1\", \"Topic1\", \"Topic1\", \"Topic1\", \"Topic1\", \"Topic1\", \"Topic1\", \"Topic1\", \"Topic1\", \"Topic1\", \"Topic1\", \"Topic1\", \"Topic1\", \"Topic1\", \"Topic1\", \"Topic1\", \"Topic1\", \"Topic1\", \"Topic1\", \"Topic1\", \"Topic1\", \"Topic1\", \"Topic1\", \"Topic1\", \"Topic1\", \"Topic1\", \"Topic1\", \"Topic1\", \"Topic1\", \"Topic1\", \"Topic1\", \"Topic1\", \"Topic1\", \"Topic1\", \"Topic1\", \"Topic1\", \"Topic1\", \"Topic1\", \"Topic1\", \"Topic1\", \"Topic1\", \"Topic1\", \"Topic1\", \"Topic1\", \"Topic1\", \"Topic1\", \"Topic1\", \"Topic1\", \"Topic1\", \"Topic1\", \"Topic1\", \"Topic1\", \"Topic2\", \"Topic2\", \"Topic2\", \"Topic2\", \"Topic2\", \"Topic2\", \"Topic2\", \"Topic2\", \"Topic2\", \"Topic2\", \"Topic2\", \"Topic2\", \"Topic2\", \"Topic2\", \"Topic2\", \"Topic2\", \"Topic2\", \"Topic2\", \"Topic2\", \"Topic2\", \"Topic2\", \"Topic2\", \"Topic2\", \"Topic2\", \"Topic2\", \"Topic2\", \"Topic2\", \"Topic2\", \"Topic2\", \"Topic2\", \"Topic2\", \"Topic2\", \"Topic2\", \"Topic2\", \"Topic2\", \"Topic2\", \"Topic2\", \"Topic2\", \"Topic2\", \"Topic2\", \"Topic2\", \"Topic2\", \"Topic2\", \"Topic2\", \"Topic2\", \"Topic2\", \"Topic2\", \"Topic2\", \"Topic2\", \"Topic2\", \"Topic2\", \"Topic2\", \"Topic2\", \"Topic2\", \"Topic2\", \"Topic2\", \"Topic2\", \"Topic2\", \"Topic2\", \"Topic2\", \"Topic2\", \"Topic2\", \"Topic2\", \"Topic2\", \"Topic2\", \"Topic2\", \"Topic2\", \"Topic2\", \"Topic2\", \"Topic2\", \"Topic2\", \"Topic2\", \"Topic2\", \"Topic2\", \"Topic2\", \"Topic2\", \"Topic2\", \"Topic2\", \"Topic2\", \"Topic2\", \"Topic2\", \"Topic2\", \"Topic2\", \"Topic2\", \"Topic2\", \"Topic2\", \"Topic3\", \"Topic3\", \"Topic3\", \"Topic3\", \"Topic3\", \"Topic3\", \"Topic3\", \"Topic3\", \"Topic3\", \"Topic3\", \"Topic3\", \"Topic3\", \"Topic3\", \"Topic3\", \"Topic3\", \"Topic3\", \"Topic3\", \"Topic3\", \"Topic3\", \"Topic3\", \"Topic3\", \"Topic3\", \"Topic3\", \"Topic3\", \"Topic3\", \"Topic3\", \"Topic3\", \"Topic3\", \"Topic3\", \"Topic3\", \"Topic3\", \"Topic3\", \"Topic3\", \"Topic3\", \"Topic3\", \"Topic3\", \"Topic3\", \"Topic3\", \"Topic3\", \"Topic3\", \"Topic3\", \"Topic3\", \"Topic3\", \"Topic3\", \"Topic3\", \"Topic3\", \"Topic3\", \"Topic3\", \"Topic3\", \"Topic3\", \"Topic3\", \"Topic3\", \"Topic3\", \"Topic3\", \"Topic3\", \"Topic3\", \"Topic3\", \"Topic3\", \"Topic3\", \"Topic3\", \"Topic3\", \"Topic3\", \"Topic3\", \"Topic3\", \"Topic3\", \"Topic3\", \"Topic3\", \"Topic3\", \"Topic3\", \"Topic3\", \"Topic3\", \"Topic3\", \"Topic3\", \"Topic3\", \"Topic3\", \"Topic3\", \"Topic3\", \"Topic3\", \"Topic3\", \"Topic3\", \"Topic3\", \"Topic3\", \"Topic3\", \"Topic3\", \"Topic3\", \"Topic3\", \"Topic3\", \"Topic3\", \"Topic3\", \"Topic3\", \"Topic3\", \"Topic4\", \"Topic4\", \"Topic4\", \"Topic4\", \"Topic4\", \"Topic4\", \"Topic4\", \"Topic4\", \"Topic4\", \"Topic4\", \"Topic4\", \"Topic4\", \"Topic4\", \"Topic4\", \"Topic4\", \"Topic4\", \"Topic4\", \"Topic4\", \"Topic4\", \"Topic4\", \"Topic4\", \"Topic4\", \"Topic4\", \"Topic4\", \"Topic4\", \"Topic4\", \"Topic4\", \"Topic4\", \"Topic4\", \"Topic4\", \"Topic4\", \"Topic4\", \"Topic4\", \"Topic4\", \"Topic4\", \"Topic4\", \"Topic4\", \"Topic4\", \"Topic4\", \"Topic4\", \"Topic4\", \"Topic4\", \"Topic4\", \"Topic4\", \"Topic4\", \"Topic4\", \"Topic4\", \"Topic4\", \"Topic4\", \"Topic4\", \"Topic4\", \"Topic4\", \"Topic4\", \"Topic4\", \"Topic4\", \"Topic4\", \"Topic4\", \"Topic4\", \"Topic4\", \"Topic4\", \"Topic4\", \"Topic4\", \"Topic4\", \"Topic4\", \"Topic4\", \"Topic4\", \"Topic4\", \"Topic4\", \"Topic4\", \"Topic4\", \"Topic4\", \"Topic4\", \"Topic4\", \"Topic4\", \"Topic4\", \"Topic4\", \"Topic4\", \"Topic4\", \"Topic4\", \"Topic4\", \"Topic4\", \"Topic4\", \"Topic4\", \"Topic4\", \"Topic4\", \"Topic4\", \"Topic4\"], \"logprob\": [30.0, 29.0, 28.0, 27.0, 26.0, 25.0, 24.0, 23.0, 22.0, 21.0, 20.0, 19.0, 18.0, 17.0, 16.0, 15.0, 14.0, 13.0, 12.0, 11.0, 10.0, 9.0, 8.0, 7.0, 6.0, 5.0, 4.0, 3.0, 2.0, 1.0, -6.3858, -6.931, -6.9771, -6.5793, -7.5678, -7.5891, -6.5423, -7.5904, -6.1623, -7.8062, -5.8339, -7.9053, -7.8361, -7.9833, -8.0846, -5.6859, -8.2613, -8.3713, -8.5236, -8.5802, -8.6099, -8.6414, -8.7052, -7.905, -8.7392, -8.2906, -8.7737, -8.8466, -7.953, -8.8853, -6.1457, -8.2727, -8.0698, -5.0934, -7.3231, -7.2169, -5.7828, -4.8183, -6.4815, -5.772, -5.8296, -5.9897, -6.0756, -6.22, -5.7025, -6.5776, -6.52, -4.9599, -6.6739, -5.0119, -5.7464, -5.5922, -5.3182, -6.2038, -6.7475, -5.2757, -5.1213, -4.513, -5.7279, -6.1795, -4.5098, -4.5632, -5.628, -4.6782, -4.9219, -5.1814, -5.5611, -5.2271, -5.4629, -5.4638, -5.5213, -5.5291, -5.5569, -5.5502, -5.5991, -5.6409, -5.7217, -5.7194, -7.9527, -7.9692, -7.9236, -8.1845, -5.9416, -8.3335, -8.0755, -7.4751, -7.2844, -8.5665, -8.5121, -7.7795, -8.5404, -8.5129, -8.3181, -8.6904, -8.5418, -7.7685, -8.7244, -8.7244, -8.7593, -8.7598, -8.7603, -8.7263, -8.7612, -7.6289, -8.7971, -7.9245, -6.554, -8.912, -6.8445, -7.4119, -6.5175, -5.5153, -5.1937, -6.6626, -6.4212, -7.4523, -7.9066, -6.8124, -6.8825, -7.0447, -7.6584, -6.4403, -6.489, -7.5396, -6.9061, -7.4142, -3.9236, -5.7513, -5.84, -6.1438, -6.3184, -7.2165, -6.0171, -4.439, -7.2152, -5.8934, -5.7643, -6.5202, -5.7396, -4.7086, -6.1833, -5.737, -4.8684, -5.7191, -4.3861, -4.4909, -4.7447, -4.5589, -5.8376, -5.7219, -5.7221, -5.5215, -5.3911, -5.38, -5.6908, -5.8842, -5.5311, -5.9318, -5.4824, -5.5081, -5.5892, -5.7059, -5.5936, -5.7362, -7.64, -7.8805, -8.2224, -8.4834, -8.5887, -8.7476, -8.7487, -8.8368, -8.9348, -8.8879, -5.9179, -8.9887, -8.9892, -8.7984, -8.9897, -8.9909, -8.9921, -9.0461, -9.1047, -9.1089, -9.168, -9.1703, -9.1706, -9.1699, -9.2359, -7.6951, -9.2389, -9.2384, -9.2413, -8.5801, -5.0586, -6.4247, -7.0493, -4.4776, -8.0057, -8.8139, -7.409, -6.095, -7.5501, -8.0771, -5.8804, -7.7598, -6.0174, -7.1675, -7.2087, -8.2812, -6.2594, -7.966, -5.272, -5.6204, -7.5535, -5.638, -7.4132, -6.338, -6.9572, -5.6032, -7.0256, -7.4041, -5.6782, -5.5542, -6.4723, -6.912, -5.5433, -4.5577, -6.1819, -4.8781, -6.0327, -6.248, -4.5891, -5.7422, -5.8948, -6.4022, -4.9853, -5.4369, -5.8102, -5.5246, -5.2838, -4.5479, -4.7869, -4.6069, -4.6998, -5.2048, -4.9377, -5.1998, -5.3735, -5.4103, -5.346, -5.6485, -5.7011, -5.6715, -5.6937, -5.7661, -7.4511, -7.4394, -7.5011, -7.5274, -7.4895, -7.7298, -7.7961, -6.6176, -7.9051, -7.9247, -7.9847, -7.965, -8.0489, -8.05, -8.1426, -8.1914, -5.2015, -8.1924, -8.2449, -8.3571, -8.3878, -8.3294, -6.6753, -8.331, -8.4206, -8.452, -6.8621, -8.331, -8.4523, -7.6705, -7.3295, -6.9298, -5.3618, -6.2897, -6.5348, -6.3876, -5.6727, -6.8555, -6.5758, -7.4426, -6.6969, -6.5022, -6.6851, -5.3219, -7.1067, -7.138, -7.0732, -5.3133, -5.9716, -5.9262, -5.8886, -6.3699, -4.3812, -4.2615, -6.7945, -5.072, -5.4954, -5.9289, -5.3617, -5.4435, -5.7535, -5.9165, -5.2105, -6.4617, -6.0342, -5.8444, -5.7118, -5.4805, -5.7817, -4.8961, -5.8409, -5.3897, -4.8993, -4.9078, -4.9039, -5.4578, -5.3317, -5.1746, -5.6812, -5.6534, -5.7168, -5.651, -5.6901, -5.6469, -5.6989, -5.7491], \"loglift\": [30.0, 29.0, 28.0, 27.0, 26.0, 25.0, 24.0, 23.0, 22.0, 21.0, 20.0, 19.0, 18.0, 17.0, 16.0, 15.0, 14.0, 13.0, 12.0, 11.0, 10.0, 9.0, 8.0, 7.0, 6.0, 5.0, 4.0, 3.0, 2.0, 1.0, 1.2686, 1.2662, 1.2658, 1.264, 1.263, 1.263, 1.2625, 1.2618, 1.2611, 1.261, 1.2608, 1.26, 1.2587, 1.2586, 1.2573, 1.2529, 1.2529, 1.2528, 1.2505, 1.2494, 1.2487, 1.2475, 1.2462, 1.246, 1.2451, 1.2447, 1.2445, 1.2428, 1.2424, 1.2418, 1.2349, 1.2415, 1.2379, 1.205, 1.2256, 1.219, 1.1669, 1.1251, 1.1631, 1.1229, 1.0869, 1.0918, 1.094, 1.1011, 1.0343, 1.1199, 1.0897, 0.8716, 1.0936, 0.8665, 0.9629, 0.9192, 0.8503, 1.0147, 1.0996, 0.7645, 0.6229, 0.3656, 0.7023, 0.9016, 0.0566, 0.0604, 0.5969, -0.0093, -0.0018, 0.1366, 0.4328, 0.0499, 0.2625, 0.1643, 0.1307, 0.0085, -0.1155, -0.1544, -0.4556, -0.1868, -0.0998, -0.4408, 1.2705, 1.2698, 1.269, 1.2664, 1.2664, 1.2647, 1.2638, 1.2629, 1.2612, 1.2604, 1.2602, 1.259, 1.2589, 1.2585, 1.2581, 1.2579, 1.2572, 1.2571, 1.2569, 1.2569, 1.256, 1.2556, 1.2554, 1.2551, 1.2546, 1.2538, 1.2537, 1.2532, 1.2521, 1.2517, 1.2492, 1.2516, 1.2405, 1.2227, 1.2135, 1.2305, 1.224, 1.2384, 1.2417, 1.2178, 1.2163, 1.2196, 1.2354, 1.189, 1.189, 1.2276, 1.1981, 1.2144, 0.9603, 1.0957, 1.0823, 1.0542, 1.0577, 1.1685, 0.98, 0.7045, 1.1633, 0.9225, 0.86, 1.0159, 0.782, 0.4968, 0.8695, 0.7205, 0.4086, 0.6865, 0.1802, 0.1781, 0.1754, 0.0646, 0.682, 0.6104, 0.6032, 0.4795, 0.3764, 0.3555, 0.5495, 0.5999, 0.1174, 0.5493, -0.0866, -0.054, 0.0389, 0.2235, -0.7149, -0.1986, 1.4804, 1.4771, 1.4719, 1.4663, 1.463, 1.4585, 1.4577, 1.456, 1.4531, 1.4527, 1.4511, 1.4507, 1.4505, 1.4505, 1.4503, 1.4495, 1.4484, 1.4478, 1.4459, 1.4437, 1.4433, 1.4421, 1.4418, 1.4416, 1.44, 1.4396, 1.438, 1.438, 1.437, 1.4366, 1.4184, 1.4248, 1.4212, 1.3629, 1.4269, 1.4347, 1.3999, 1.3588, 1.4026, 1.4148, 1.3411, 1.4043, 1.3182, 1.3718, 1.3624, 1.414, 1.2973, 1.3926, 1.2053, 1.2201, 1.3642, 1.1984, 1.3452, 1.2375, 1.2843, 1.1426, 1.2892, 1.3257, 1.0903, 1.0488, 1.1752, 1.246, 0.9967, 0.7603, 1.0878, 0.7439, 1.031, 1.0786, 0.6163, 0.8968, 0.9404, 1.0781, 0.4687, 0.634, 0.7917, 0.647, 0.4838, 0.0757, 0.0917, -0.0405, -0.0308, 0.3329, -0.0176, 0.196, 0.3519, 0.2417, -0.0674, 0.4871, 0.3995, -0.023, -0.5502, 1.5197, 1.5186, 1.5182, 1.5181, 1.5174, 1.517, 1.5157, 1.5149, 1.5135, 1.5132, 1.5126, 1.5121, 1.5117, 1.5111, 1.5104, 1.509, 1.5085, 1.5084, 1.5078, 1.5063, 1.5052, 1.5045, 1.504, 1.5037, 1.5032, 1.503, 1.5029, 1.5026, 1.5025, 1.5024, 1.4987, 1.495, 1.4888, 1.4652, 1.4781, 1.4829, 1.4712, 1.4556, 1.4704, 1.4557, 1.4805, 1.439, 1.4263, 1.4299, 1.3429, 1.4533, 1.4545, 1.4399, 1.2548, 1.3268, 1.3126, 1.3024, 1.355, 1.0601, 1.0171, 1.4006, 1.0657, 1.1356, 1.2217, 1.0819, 1.0824, 1.0219, 1.0697, 0.7273, 1.2799, 1.0151, 0.8717, 0.7723, 0.6077, 0.7718, -0.0175, 0.7947, 0.3545, -0.2303, -0.2842, -0.3376, 0.2777, 0.0642, -0.2545, 0.5037, 0.2969, 0.3051, -0.0024, -0.0682, -0.5035, -0.4219, -0.2114]}, \"token.table\": {\"Topic\": [4, 1, 2, 3, 4, 1, 1, 2, 3, 4, 1, 3, 1, 1, 2, 3, 1, 2, 3, 4, 2, 1, 2, 3, 4, 2, 2, 1, 2, 3, 4, 1, 2, 3, 4, 3, 1, 2, 4, 1, 2, 3, 4, 1, 3, 4, 1, 2, 3, 4, 3, 4, 2, 1, 3, 1, 2, 3, 1, 2, 3, 4, 4, 1, 3, 4, 1, 2, 4, 1, 2, 3, 4, 1, 2, 3, 4, 2, 1, 2, 3, 4, 2, 3, 4, 3, 3, 1, 2, 3, 4, 3, 1, 2, 3, 4, 1, 4, 1, 2, 3, 4, 1, 2, 3, 1, 2, 3, 4, 2, 3, 1, 2, 3, 4, 1, 2, 3, 3, 4, 1, 2, 3, 4, 1, 2, 4, 1, 2, 3, 4, 2, 4, 2, 1, 2, 3, 4, 3, 4, 3, 1, 2, 3, 4, 1, 2, 3, 4, 1, 2, 3, 4, 1, 1, 2, 4, 1, 2, 3, 4, 1, 2, 3, 4, 1, 2, 4, 1, 3, 4, 1, 2, 3, 4, 1, 2, 3, 4, 1, 2, 3, 4, 2, 3, 2, 2, 3, 4, 3, 1, 1, 2, 3, 4, 1, 2, 3, 4, 1, 2, 3, 4, 1, 2, 3, 4, 3, 1, 3, 3, 1, 1, 2, 3, 4, 1, 2, 3, 4, 1, 2, 3, 4, 4, 4, 2, 3, 4, 2, 3, 1, 2, 3, 4, 1, 2, 3, 2, 3, 3, 3, 1, 2, 3, 4, 1, 2, 3, 4, 3, 4, 1, 3, 4, 1, 2, 3, 4, 3, 1, 2, 3, 4, 1, 2, 3, 4, 1, 2, 3, 4, 1, 2, 3, 4, 4, 2, 3, 2, 3, 4, 1, 2, 3, 4, 1, 2, 3, 4, 4, 1, 2, 3, 4, 1, 3, 2, 3, 1, 2, 3, 4, 4, 1, 2, 3, 1, 2, 2, 1, 1, 2, 3, 4, 2, 3, 4, 2, 3, 1, 2, 1, 2, 3, 2, 1, 3, 4, 1, 2, 3, 4, 1, 2, 3, 4, 1, 3, 4, 1, 1, 2, 3, 4, 4, 2, 3, 4, 1, 2, 3, 4, 1, 3, 4, 2, 3, 1, 2, 3, 4, 1, 2, 3, 4, 1, 2, 3, 4, 1, 2, 4, 3, 1, 2, 3, 4, 4, 3, 3, 4, 3, 2, 3, 4, 4, 1, 2, 3, 4, 1, 4, 3, 4, 2, 3, 1, 3, 1, 2, 3, 4, 1, 2, 3, 4, 1, 2, 3, 4, 1, 2, 3, 4, 1, 2, 3, 4, 1, 2, 3, 4, 1, 2, 3, 4, 1, 2, 3, 4, 1, 2, 3, 4, 4, 3, 2, 3, 4, 1, 2, 4, 1, 2, 3, 4, 2, 3, 1, 2, 3, 4, 1, 2, 3, 4, 2, 3, 2, 3, 4, 1, 2, 3, 4, 1, 2, 3, 4, 1, 2, 3, 4, 4, 2, 3, 4, 2, 1, 2, 3, 4, 1, 2, 3, 4, 1, 2, 3, 4, 2, 3, 4, 3, 1, 2, 3, 1, 2, 3, 4, 1, 2, 3, 4, 1, 2, 3, 4, 1, 2, 1, 2, 3, 1, 2, 3, 2, 3, 1, 2, 1, 2, 3, 4, 1, 2, 4, 1, 2, 3, 4, 3, 2, 3, 4, 3, 4, 1, 1, 2, 3, 4, 3, 1, 2, 3, 4, 1, 2, 3, 4, 1, 2, 3, 4, 1, 2, 3, 4, 1, 2, 3, 4, 2, 3, 1, 2, 3, 4, 1, 2, 3, 4, 1, 2, 3, 4, 1, 2, 3, 4, 1, 2, 3, 4, 2, 3, 4, 1, 2, 3, 4, 1, 4, 1, 1, 3, 1, 1, 2, 1, 2, 3, 1, 2, 3, 4, 1, 2, 3, 4, 1, 2, 3, 4, 1, 2, 3, 4, 1, 2, 3, 4, 4, 2, 1, 2, 3, 4, 1, 2, 3, 4, 2, 3, 4, 4, 1, 2, 3, 4, 3, 2, 3, 4, 1, 2, 3, 4, 1, 3, 1, 1, 2, 3, 4, 1, 2, 3, 4, 1, 2, 3, 1, 2, 3, 4, 1, 2, 3, 4, 2, 1, 3, 4, 1, 2, 3, 4, 1, 2, 3, 4, 1, 3, 4, 1, 2, 1, 2, 3, 4, 1, 2, 3, 4, 1, 2, 3, 4, 1, 2, 3, 4, 1, 2, 3, 4, 4, 1, 2, 3, 4, 1, 2, 1, 1, 2, 3, 1, 2, 3, 4, 1, 2, 3, 4, 1, 2, 3, 4, 1, 1, 2, 3, 4, 1, 2, 3, 4, 2, 1, 2, 3, 4, 1, 3, 1, 2, 3, 4, 1, 2, 3, 4, 1, 2, 3, 4, 1, 3, 4, 1, 2, 3, 4, 2, 1, 4, 1, 2, 4, 1, 2, 3, 4, 2, 4, 4, 1, 2, 3, 4, 1, 2, 3, 4, 2, 3, 4, 2], \"Freq\": [0.9888039826068729, 0.6708705558998234, 0.08358743172214628, 0.22850849840924403, 0.0173688169812252, 0.9977048137896191, 0.9358209003878477, 0.0380907674533444, 0.015582586685459074, 0.010388391123639384, 0.9934916064271246, 0.9732051779436929, 0.9913358659885007, 0.06398479990535898, 0.10968822840918681, 0.8226617130689011, 0.01386015993314683, 0.8870502357213971, 0.0485105597660139, 0.0485105597660139, 0.9756206249675008, 0.00567690659983098, 0.01135381319966196, 0.00567690659983098, 0.9764279351709285, 0.9753418833057881, 0.9658590766637021, 0.5099448324008063, 0.016086587772896097, 0.22119058187732135, 0.25336375742311357, 0.10082943194842903, 0.016804905324738172, 0.882257529548754, 0.9746959043533319, 0.9704933382827329, 0.9468442282795163, 0.03669938869300451, 0.007339877738600902, 0.1955798858269643, 0.0760588444882639, 0.05312046281720018, 0.6760786176734569, 0.980743812414016, 0.06866809949332371, 0.92701934315987, 0.17281134008683316, 0.21783964701086714, 0.551292514502362, 0.05719811960620534, 0.9805833972030376, 0.9860516819312056, 0.961869707809264, 0.975265326752453, 0.015004081950037738, 0.036915325731335255, 0.036915325731335255, 0.9105780347062696, 0.8424926670170235, 0.02647834096339217, 0.019256975246103397, 0.11072760766509453, 0.9863341944101082, 0.005411002234473215, 0.005411002234473215, 0.9848024066741251, 0.843115044109658, 0.13440964471313388, 0.024438117220569797, 0.8378247425932788, 0.10964126261097228, 0.04137406136263105, 0.010343515340657762, 0.036870394126586874, 0.9217598531646719, 0.02106879664376393, 0.02633599580470491, 0.9855825808083336, 0.8353706533093271, 0.1363870454382575, 0.022731174239709582, 0.0056827935599273955, 0.9695511149158929, 0.015637921208320853, 0.010425280805547235, 0.9675254054477483, 0.9601934847811965, 0.019611932866001113, 0.10023876798178347, 0.8607459424522711, 0.019611932866001113, 0.9895163020103362, 0.3215451489042955, 0.0948395792727821, 0.4813433441173393, 0.10198502702621089, 0.02164947505315543, 0.9634016398654166, 0.19029035567806382, 0.697247104774585, 0.05229353285809388, 0.06100912166777619, 0.010101346306252599, 0.027778702342194646, 0.9596278990939969, 0.09208231677694666, 0.819047975542315, 0.06461916966803274, 0.02423218862551228, 0.035659596764947454, 0.9628091126535814, 0.008138962876314805, 0.040694814381574025, 0.8871469535183137, 0.06511170301051844, 0.13195833354314332, 0.7960067216957355, 0.07236424742688505, 0.03606823369704359, 0.9594150163413594, 0.2779908767986938, 0.33145066079844254, 0.21825168959897448, 0.1724290175991898, 0.898214886732952, 0.0798413232651513, 0.019960330816287824, 0.011728244251368496, 0.969534858113129, 0.003909414750456165, 0.01563765900182466, 0.9507112043368326, 0.05111350560950713, 0.9831308114231153, 0.23257177248369768, 0.2627130741975849, 0.35983504638677705, 0.14475267119385343, 0.9799215390550216, 0.9721655512691234, 0.9694039425056948, 0.02954095532476138, 0.039387940433015176, 0.8468407193098263, 0.07877588086603035, 0.19582284116565787, 0.25443179010608363, 0.4240529835101394, 0.12549210243714695, 0.297929674789963, 0.2959834820314004, 0.24278754663068844, 0.16331800898938093, 0.9943346715573624, 0.03412111745476063, 0.9511261490514525, 0.012795419045535236, 0.05192023990957546, 0.03461349327305031, 0.028844577727541922, 0.8826440784627828, 0.1787888978635966, 0.2550371043054246, 0.047326472963893224, 0.5192765783538285, 0.011946355431909472, 0.023892710863818944, 0.9557084345527578, 0.01367019607197121, 0.006835098035985605, 0.9774190191459414, 0.01909319352323025, 0.005874828776378538, 0.03524897265827123, 0.9399726042205662, 0.017096625769946736, 0.08792550395972606, 0.8401770378373824, 0.0512898773098402, 0.22344534776272004, 0.2815411381810273, 0.026813441731526406, 0.4692352303017121, 0.9343723722476075, 0.06229149148317383, 0.9766681035868437, 0.8928016913140204, 0.09765018498747098, 0.006975013213390785, 0.9751306079068787, 0.9859906039318562, 0.1016133372758294, 0.2032266745516588, 0.6604866922928911, 0.031048519723170097, 0.11846255941055416, 0.724662619200619, 0.06775300911225299, 0.0890047293617485, 0.2649118916180827, 0.5704233068557949, 0.06597422588189798, 0.09946883286809236, 0.3051835519837292, 0.13891113400638708, 0.15715198998702376, 0.3984925460385246, 0.9656208195259611, 0.9587858246703468, 0.9446387929671118, 0.9870610312092086, 0.9760587490041882, 0.02137829683656674, 0.025801392733787447, 0.32288600049711147, 0.6302911653539505, 0.2600529331839486, 0.1372713430296503, 0.43011687482623756, 0.17311441593183677, 0.25395848433456414, 0.06998162739895268, 0.4735863590017175, 0.20290270585482506, 0.9779211391993828, 0.9872557699089668, 0.008246232237154002, 0.8768493612173757, 0.11544725132015604, 0.9563831784337602, 0.03787656152212912, 0.31392677332148705, 0.06367382666426388, 0.5760260133115965, 0.04590438666493443, 0.955775126922905, 0.9676332665825823, 0.02764666475950235, 0.9828308627542663, 0.009927584472265317, 0.9796695468326976, 0.9777611949089159, 0.021749241925078235, 0.03806117336888691, 0.027186552406347795, 0.9134681608532859, 0.6671853910091489, 0.20590035084851824, 0.07678604244350819, 0.050053123963175704, 0.0069708016009138885, 0.9921774278634102, 0.002612737091567608, 0.01698279109518945, 0.9810827778836367, 0.011465740780684247, 0.5055349344210781, 0.01250808085165554, 0.47009537200805407, 0.9484508923241803, 0.1036078733051521, 0.2722462202805592, 0.6095229142313735, 0.014328748435818908, 0.2728738570034168, 0.047094980396528784, 0.669025750927159, 0.011081171858006774, 0.9643098607289989, 0.9392094393581504, 0.0440254424699133, 0.0146751474899711, 0.25175740515531686, 0.3118718304437498, 0.22011823395087846, 0.2165023286703712, 0.9716518421065312, 0.06329961555303107, 0.9283943614444556, 0.9616331762953403, 0.9671417885793379, 0.9938887893977945, 0.8320006995038607, 0.0016061789565711597, 0.16061789565711596, 0.006424715826284639, 0.8644438737139915, 0.02549623784830593, 0.09166504559748084, 0.018818651745178185, 0.9753209355885285, 0.002149745928044736, 0.984583635044489, 0.006449237784134207, 0.008598983712178944, 0.9792853990107102, 0.9695942981011815, 0.933331349623266, 0.06563240100763401, 0.02472845914942267, 0.9396814476780614, 0.0061821147873556675, 0.02472845914942267, 0.9805784981037111, 0.11145871940429192, 0.02026522170987126, 0.8612719226695285, 0.9924594915787519, 0.9734284195453018, 0.9501430766173274, 0.9687935688340381, 0.0426283984734293, 0.010657099618357325, 0.9165105671787299, 0.0426283984734293, 0.0333634838697216, 0.730660296746903, 0.23688073547502336, 0.9577122308543824, 0.02992850721419945, 0.015410561687279941, 0.9708653862986363, 0.009986638763068786, 0.9420729233161554, 0.046604314227654334, 0.9923458767878355, 0.003762929575724162, 0.04139222533296578, 0.9520211826582129, 0.14270408384745853, 0.6559591081055447, 0.17987909728671245, 0.02278468565631691, 0.14140622009531653, 0.5069279588322668, 0.19565640516333105, 0.15652512413066483, 0.9821539795662599, 0.0032847959182818057, 0.014781581632268127, 0.9892796622362092, 0.8630107268306133, 0.05187496172205872, 0.08331433246270038, 0.0015719685370320826, 0.9900650706083078, 0.9593320661321857, 0.904924753287596, 0.09233926053955062, 0.30742346869997517, 0.2951998715349662, 0.105122935619077, 0.29214397224371397, 0.021300559541838612, 0.0692268185109755, 0.9052737805281411, 0.04496967637754328, 0.9443632039284089, 0.004831079671467339, 0.019324318685869354, 0.019324318685869354, 0.9565537749505331, 0.205781307923844, 0.0731666872618112, 0.6676460212640272, 0.0525885564694268, 0.24085928762761383, 0.548683937734654, 0.04320345966414598, 0.16741340619856568, 0.8592915218822242, 0.09820474535796848, 0.04208774801055792, 0.9860658205158801, 0.10936473981173765, 0.7986169372298982, 0.035607124589868075, 0.05849741896906898, 0.9797851579838572, 0.9801993389638973, 0.015280017689267112, 0.9779211321130952, 0.9807300557985756, 0.9107429926244381, 0.0851774021878971, 0.0032760539303037343, 0.9893221616855327, 0.00650247222350129, 0.04551730556450903, 0.8193115001611625, 0.1365519166935271, 0.994180294020407, 0.004057878751103702, 0.9705093288769915, 0.9869421656640276, 0.9781473213789672, 0.01811383928479569, 0.8352414106029081, 0.1638358151567243, 0.28479366954440605, 0.5104792189946901, 0.08060198194653001, 0.12448528322852968, 0.14785693609076975, 0.23015466466959442, 0.01952827457802619, 0.6025867584076654, 0.2949920059454399, 0.14197869612835387, 0.3663491744659079, 0.19715176457201472, 0.4043693823332898, 0.13562699780122764, 0.24676578766612248, 0.2132776400608811, 0.31976859669585234, 0.21590049932939817, 0.2866578058323102, 0.17780041121244555, 0.18206942224836697, 0.7670793691447592, 0.008954233881067227, 0.04178642477831373, 0.11895435121472549, 0.014418709238148544, 0.021628063857222816, 0.8398898131221527, 0.09080091230900818, 0.1146175450457972, 0.762132247577249, 0.03274787001308491, 0.03942732221695695, 0.07283102576187882, 0.8794483261171231, 0.008214025461866031, 0.9762070658859208, 0.966147288128072, 0.9752219827335905, 0.011473199796865771, 0.011473199796865771, 0.01959458346591369, 0.048986458664784224, 0.9307427146309002, 0.15322273501476005, 0.7382549959802076, 0.08009370239407912, 0.02785867909359274, 0.9512909179664969, 0.03480332626706696, 0.024838821912243503, 0.028978625564284086, 0.929385919883111, 0.016559214608162336, 0.23686905377154524, 0.48027242626782274, 0.19112882269841924, 0.09148046214625195, 0.9114972036799381, 0.08599030223395643, 0.9575528509938562, 0.018629432898713157, 0.022355319478455787, 0.7350870299320228, 0.12664909751937162, 0.1279547583185404, 0.010445286393350236, 0.28012251470713145, 0.33051838768014347, 0.2212182475958188, 0.16820440719563737, 0.15249726832644606, 0.09682366242948955, 0.6608214960812662, 0.08956188774727783, 0.9767787366141764, 0.031713140029819405, 0.047569710044729104, 0.9196810608647628, 0.9853943355686412, 0.21297476033296986, 0.5512287914500397, 0.1541898717342768, 0.08094968266049533, 0.0374639948249633, 0.0012487998274987768, 0.13112398188737157, 0.8317006851141853, 0.2827856589506023, 0.2273612880260923, 0.313936582754889, 0.17557793416961576, 0.04752838505425287, 0.8792751235036781, 0.05941048131781609, 0.9481809413487917, 0.05239254016193601, 0.9378264688986545, 0.010478508032387202, 0.4322368254668655, 0.25666056696850803, 0.13663025206781274, 0.17429934025473307, 0.276417191403918, 0.22586107801175248, 0.20353759937105603, 0.2941446597362358, 0.20452142618140873, 0.6059894109078777, 0.036792214233692576, 0.1525794766750192, 0.02295507837399866, 0.9870683700819424, 0.14502948217310455, 0.042300265633822165, 0.8157908372237132, 0.028215048533163634, 0.9418451915117956, 0.029558622272838092, 0.9787394396549218, 0.013407389584313997, 0.9917872676959412, 0.00780934856453497, 0.6912162596057596, 0.27269901748829967, 0.009468715885010406, 0.024618661301027054, 0.9015410230815127, 0.09795749606226381, 0.0016602965434282001, 0.1914357883577224, 0.662662344315193, 0.12332882519199424, 0.0239294735447153, 0.9770722235095647, 0.03977171562426565, 0.9346353171702428, 0.019885857812132826, 0.9308716932217003, 0.05171509406787224, 0.9874151578184881, 0.5659474335165382, 0.2627260337092481, 0.07407688920373537, 0.09679380189288088, 0.9820933925782579, 0.022794129837223728, 0.03799021639537288, 0.9345593233261728, 0.007598043279074576, 0.004083017901026989, 0.048996214812323864, 0.9350110993351803, 0.012249053703080966, 0.02223635619951632, 0.04447271239903264, 0.7838315560329502, 0.15009540434673513, 0.20161196377052656, 0.4801274601133158, 0.0820997172055237, 0.2359067823500491, 0.523195731223268, 0.07012414268296653, 0.09747753167277617, 0.3093419627574836, 0.044287190430618954, 0.9447933958532044, 0.04174756739477856, 0.40423864038358753, 0.36503665636653937, 0.18888228662759568, 0.28491827165871075, 0.34657075481175115, 0.2298500342792961, 0.1388677290437414, 0.3646077897221328, 0.21329799746796793, 0.3201910442539747, 0.10201208574554987, 0.18046520598128993, 0.009054482653040498, 0.21043866579825157, 0.6000936434187529, 0.1733254706543237, 0.09343326152459636, 0.7054888297726769, 0.027082104789738076, 0.02492938249792849, 0.04985876499585698, 0.9306969465893303, 0.16228989371881605, 0.3701755194824423, 0.1081932624792107, 0.3593561932345212, 0.9530605630410273, 0.041080196682802904, 0.9924581693182231, 0.9725673186209431, 0.015686569655176504, 0.9903247854605562, 0.9893124299627977, 0.007999830970049577, 0.8388709809302156, 0.015047013110855885, 0.14670837783084487, 0.2348017667477472, 0.11622687454013486, 0.6421828320550886, 0.00587004416869368, 0.20169628109973514, 0.26384687934558376, 0.49720478596678896, 0.03752488950692747, 0.6025213077190879, 0.18323067515541627, 0.07021613463984931, 0.14377589473873906, 0.7891052375591914, 0.02147225136215487, 0.11138730394117838, 0.07917892689794608, 0.7037598592168475, 0.03963335584630648, 0.13496764423336802, 0.12211358287780914, 0.9850059048999957, 0.9638526848322111, 0.11346855375660482, 0.45590562135965773, 0.4170187001233788, 0.013639442523172446, 0.030406598077180973, 0.04560989711577146, 0.9121979423154292, 0.015203299038590487, 0.9828550678956095, 0.016380917798260158, 0.9894713494186184, 0.9844781955856357, 0.12106720118018456, 0.17793209870421065, 0.10272368584985357, 0.5979985997687904, 0.9816899792451769, 0.061539537216745224, 0.005955439085491474, 0.9310336436985004, 0.17784359422382698, 0.5610801738012455, 0.12983673443334606, 0.13120056567739383, 0.9653097136182408, 0.017551085702149832, 0.9743481006722342, 0.11882391111263357, 0.08093802641005475, 0.16704230982500662, 0.6320054402657467, 0.29488933111339893, 0.4173962096837645, 0.14526260919539527, 0.1424571081594327, 0.12281774647500107, 0.24563549295000214, 0.6308366068943236, 0.24322581689826747, 0.0340315957800045, 0.08207620158706969, 0.6405947440942024, 0.003665670192836326, 0.19428052022032527, 0.021994021157017957, 0.7807877510741374, 0.9638272087575748, 0.024727354663117648, 0.028848580440303924, 0.943760702975657, 0.32149413522215986, 0.44816282449969086, 0.16139005588152425, 0.0687997449375422, 0.2968225528915188, 0.33220233086775247, 0.21610764815786018, 0.15484396335052916, 0.9631720143614494, 0.025548329293407147, 0.007664498788022144, 0.9729142416092732, 0.9837650880148263, 0.02996527803085459, 0.8300382014546721, 0.0913940979941065, 0.04944270875091007, 0.17495376444803443, 0.025205203352682927, 0.7457774874352654, 0.05337572474685796, 0.1842807400794152, 0.039340832151785264, 0.7516169511104238, 0.02484684135902227, 0.6568347095644802, 0.21742445247157563, 0.0980690712196967, 0.028128338256812234, 0.2812788696869752, 0.1231349558286329, 0.1466754620899892, 0.44908042713972, 0.9720369091648973, 0.24983322191930618, 0.06980634141862967, 0.05364066235326279, 0.6264200637829662, 0.9904726702009841, 0.009597603393420388, 0.9667044781862947, 0.7733801137259166, 0.19334502843147916, 0.03258624074687851, 0.2404865205133632, 0.2545295290104939, 0.27383866569404863, 0.23135856499022825, 0.0861646871496411, 0.052152310643203824, 0.10090338363576391, 0.760743487860647, 0.1521517159959796, 0.03260393914199563, 0.17388767542397668, 0.6401240051545142, 0.9929605208640905, 0.11976369214886654, 0.13803272993428686, 0.004059786174537849, 0.7368511906786195, 0.14584020401672795, 0.04438614904856938, 0.012681756871019823, 0.7989506828742489, 0.9619776484386737, 0.33082300111783186, 0.2883075953516848, 0.20150530857913454, 0.17936186807593293, 0.9708776520376777, 0.021575058934170617, 0.0574439971199578, 0.03535015207382018, 0.004418769009227523, 0.9014288778824147, 0.3331469756778288, 0.1541426305375029, 0.33527797978664226, 0.17687334103151253, 0.026298610660753407, 0.019723957995565054, 0.006574652665188352, 0.9467499837871227, 0.07059893088038359, 0.11060499171260095, 0.8189475982124496, 0.19040391749203023, 0.2643825096386152, 0.06548924550681294, 0.4802544670499616, 0.9637150354321585, 0.990520609952978, 0.9800869247272384, 0.96959309261739, 0.022036206650395226, 0.9789608038020486, 0.07140055926673226, 0.031043721420318377, 0.7760930355079594, 0.12417488568127351, 0.9795713761731165, 0.01323745102936644, 0.9874407801126088, 0.0532099224107906, 0.11972232542427885, 0.019953720904046474, 0.8070171565636575, 0.23815110887158672, 0.39593238182998786, 0.07987676943519058, 0.2864716237150971, 0.9615372277207881, 0.9651802042769162, 0.979793435942668, 0.9775597598771611], \"Term\": [\"3d\", \"account\", \"account\", \"account\", \"account\", \"accountant\", \"accounting\", \"accounting\", \"accounting\", \"accounting\", \"accrual\", \"activation\", \"adp\", \"advertising\", \"advertising\", \"advertising\", \"advocate\", \"advocate\", \"advocate\", \"advocate\", \"aide\", \"aircraft\", \"aircraft\", \"aircraft\", \"aircraft\", \"alcohol\", \"alcoholic\", \"analysis\", \"analysis\", \"analysis\", \"analysis\", \"analytics\", \"analytics\", \"analytics\", \"animation\", \"anthropology\", \"applicant\", \"applicant\", \"applicant\", \"application\", \"application\", \"application\", \"application\", \"ar\", \"architecture\", \"architecture\", \"art\", \"art\", \"art\", \"art\", \"asian\", \"asp\", \"assault\", \"attorney\", \"attorney\", \"audience\", \"audience\", \"audience\", \"audit\", \"audit\", \"audit\", \"audit\", \"autocad\", \"aviation\", \"aviation\", \"aviation\", \"balance\", \"balance\", \"balance\", \"bank\", \"bank\", \"bank\", \"bank\", \"bar\", \"bar\", \"bar\", \"bar\", \"bartender\", \"benefit\", \"benefit\", \"benefit\", \"benefit\", \"beverage\", \"beverage\", \"beverage\", \"bleu\", \"blog\", \"brand\", \"brand\", \"brand\", \"brand\", \"branding\", \"business\", \"business\", \"business\", \"business\", \"cad\", \"cad\", \"call\", \"call\", \"call\", \"call\", \"campaign\", \"campaign\", \"campaign\", \"care\", \"care\", \"care\", \"care\", \"celebrity\", \"celebrity\", \"channel\", \"channel\", \"channel\", \"channel\", \"child\", \"child\", \"child\", \"cisco\", \"cisco\", \"city\", \"city\", \"city\", \"city\", \"claim\", \"claim\", \"claim\", \"clean\", \"clean\", \"clean\", \"clean\", \"cleaning\", \"cleaning\", \"cleanliness\", \"client\", \"client\", \"client\", \"client\", \"co2\", \"coating\", \"cody\", \"collateral\", \"collateral\", \"collateral\", \"collateral\", \"communication\", \"communication\", \"communication\", \"communication\", \"company\", \"company\", \"company\", \"company\", \"compensation\", \"complaint\", \"complaint\", \"complaint\", \"component\", \"component\", \"component\", \"component\", \"computer\", \"computer\", \"computer\", \"computer\", \"concrete\", \"concrete\", \"concrete\", \"configuration\", \"configuration\", \"configuration\", \"construction\", \"construction\", \"construction\", \"construction\", \"content\", \"content\", \"content\", \"content\", \"control\", \"control\", \"control\", \"control\", \"cook\", \"cook\", \"cooked\", \"cooking\", \"cooking\", \"cooking\", \"cordon\", \"cpa\", \"creative\", \"creative\", \"creative\", \"creative\", \"customer\", \"customer\", \"customer\", \"customer\", \"daily\", \"daily\", \"daily\", \"daily\", \"data\", \"data\", \"data\", \"data\", \"debra\", \"deduction\", \"delaware\", \"deloitte\", \"depreciation\", \"design\", \"design\", \"design\", \"design\", \"developed\", \"developed\", \"developed\", \"developed\", \"development\", \"development\", \"development\", \"development\", \"dhcp\", \"diagram\", \"digital\", \"digital\", \"digital\", \"dining\", \"dining\", \"director\", \"director\", \"director\", \"director\", \"disbursement\", \"dish\", \"dish\", \"drink\", \"drink\", \"ecommerce\", \"editorial\", \"electrical\", \"electrical\", \"electrical\", \"electrical\", \"employee\", \"employee\", \"employee\", \"employee\", \"engineer\", \"engineer\", \"engineering\", \"engineering\", \"engineering\", \"equipment\", \"equipment\", \"equipment\", \"equipment\", \"esoh\", \"event\", \"event\", \"event\", \"event\", \"executive\", \"executive\", \"executive\", \"executive\", \"exempt\", \"exercise\", \"exercise\", \"exercise\", \"experience\", \"experience\", \"experience\", \"experience\", \"fabrication\", \"facebook\", \"facebook\", \"feeding\", \"festival\", \"fiber\", \"finance\", \"finance\", \"finance\", \"finance\", \"financial\", \"financial\", \"financial\", \"financial\", \"firewall\", \"fitness\", \"fitness\", \"fitness\", \"fitness\", \"fmla\", \"follower\", \"food\", \"food\", \"friendly\", \"friendly\", \"friendly\", \"friendly\", \"ftp\", \"fundraising\", \"fundraising\", \"fundraising\", \"gaap\", \"garnish\", \"garnishing\", \"gl\", \"google\", \"google\", \"google\", \"google\", \"graphic\", \"graphic\", \"graphic\", \"greet\", \"greet\", \"greeted\", \"greeted\", \"guest\", \"guest\", \"guest\", \"gym\", \"hardware\", \"hardware\", \"hardware\", \"health\", \"health\", \"health\", \"health\", \"high\", \"high\", \"high\", \"high\", \"hr\", \"hr\", \"hr\", \"hris\", \"human\", \"human\", \"human\", \"human\", \"hvac\", \"illness\", \"indesign\", \"indesign\", \"information\", \"information\", \"information\", \"information\", \"infrastructure\", \"infrastructure\", \"infrastructure\", \"instagram\", \"instagram\", \"installation\", \"installation\", \"installation\", \"installation\", \"international\", \"international\", \"international\", \"international\", \"inventory\", \"inventory\", \"inventory\", \"inventory\", \"invoice\", \"invoice\", \"invoice\", \"iraq\", \"item\", \"item\", \"item\", \"item\", \"itil\", \"jamie\", \"java\", \"java\", \"johnson\", \"kitchen\", \"kitchen\", \"kitchen\", \"lan\", \"launch\", \"launch\", \"launch\", \"launch\", \"ledger\", \"ledger\", \"leonard\", \"linux\", \"liquor\", \"liquor\", \"loan\", \"loan\", \"maintained\", \"maintained\", \"maintained\", \"maintained\", \"maintenance\", \"maintenance\", \"maintenance\", \"maintenance\", \"managed\", \"managed\", \"managed\", \"managed\", \"management\", \"management\", \"management\", \"management\", \"manager\", \"manager\", \"manager\", \"manager\", \"manner\", \"manner\", \"manner\", \"manner\", \"manufacturing\", \"manufacturing\", \"manufacturing\", \"manufacturing\", \"market\", \"market\", \"market\", \"market\", \"marketing\", \"marketing\", \"marketing\", \"marketing\", \"matlab\", \"mayor\", \"meal\", \"meal\", \"meal\", \"mechanical\", \"mechanical\", \"mechanical\", \"medical\", \"medical\", \"medical\", \"medical\", \"medication\", \"medication\", \"medium\", \"medium\", \"medium\", \"medium\", \"member\", \"member\", \"member\", \"member\", \"menu\", \"menu\", \"merchandise\", \"merchandise\", \"merchandise\", \"monthly\", \"monthly\", \"monthly\", \"monthly\", \"name\", \"name\", \"name\", \"name\", \"national\", \"national\", \"national\", \"national\", \"naval\", \"navy\", \"navy\", \"navy\", \"neat\", \"need\", \"need\", \"need\", \"need\", \"network\", \"network\", \"network\", \"network\", \"new\", \"new\", \"new\", \"new\", \"news\", \"news\", \"news\", \"nfl\", \"nursing\", \"nursing\", \"nursing\", \"office\", \"office\", \"office\", \"office\", \"operation\", \"operation\", \"operation\", \"operation\", \"order\", \"order\", \"order\", \"order\", \"pallet\", \"pallet\", \"partnership\", \"partnership\", \"partnership\", \"patient\", \"patient\", \"patient\", \"patron\", \"patron\", \"payable\", \"payable\", \"payment\", \"payment\", \"payment\", \"payment\", \"payroll\", \"payroll\", \"payroll\", \"personal\", \"personal\", \"personal\", \"personal\", \"photographer\", \"photography\", \"photography\", \"photography\", \"pitch\", \"pitch\", \"pivot\", \"policy\", \"policy\", \"policy\", \"policy\", \"postdoctoral\", \"pr\", \"pr\", \"pr\", \"pr\", \"press\", \"press\", \"press\", \"press\", \"print\", \"print\", \"print\", \"print\", \"problem\", \"problem\", \"problem\", \"problem\", \"process\", \"process\", \"process\", \"process\", \"producer\", \"producer\", \"product\", \"product\", \"product\", \"product\", \"professional\", \"professional\", \"professional\", \"professional\", \"program\", \"program\", \"program\", \"program\", \"project\", \"project\", \"project\", \"project\", \"public\", \"public\", \"public\", \"public\", \"qa\", \"qa\", \"qa\", \"quality\", \"quality\", \"quality\", \"quality\", \"quickbooks\", \"quickbooks\", \"receivable\", \"receivables\", \"receivables\", \"reconciled\", \"reconciliation\", \"reconciliation\", \"recruitment\", \"recruitment\", \"recruitment\", \"relation\", \"relation\", \"relation\", \"relation\", \"relationship\", \"relationship\", \"relationship\", \"relationship\", \"report\", \"report\", \"report\", \"report\", \"reporting\", \"reporting\", \"reporting\", \"reporting\", \"resource\", \"resource\", \"resource\", \"resource\", \"router\", \"salad\", \"sale\", \"sale\", \"sale\", \"sale\", \"salesforce\", \"salesforce\", \"salesforce\", \"salesforce\", \"sanitation\", \"sanitation\", \"schematic\", \"scrum\", \"security\", \"security\", \"security\", \"security\", \"seo\", \"server\", \"server\", \"server\", \"service\", \"service\", \"service\", \"service\", \"settlement\", \"settlement\", \"shrm\", \"site\", \"site\", \"site\", \"site\", \"skill\", \"skill\", \"skill\", \"skill\", \"social\", \"social\", \"social\", \"software\", \"software\", \"software\", \"software\", \"specification\", \"specification\", \"specification\", \"specification\", \"specimen\", \"sql\", \"sql\", \"sql\", \"staff\", \"staff\", \"staff\", \"staff\", \"state\", \"state\", \"state\", \"state\", \"statement\", \"statement\", \"statement\", \"statutory\", \"stocked\", \"store\", \"store\", \"store\", \"store\", \"strategic\", \"strategic\", \"strategic\", \"strategic\", \"strategy\", \"strategy\", \"strategy\", \"strategy\", \"student\", \"student\", \"student\", \"student\", \"support\", \"support\", \"support\", \"support\", \"symantec\", \"system\", \"system\", \"system\", \"system\", \"tax\", \"tax\", \"taxation\", \"teacher\", \"teacher\", \"teacher\", \"team\", \"team\", \"team\", \"team\", \"technical\", \"technical\", \"technical\", \"technical\", \"technology\", \"technology\", \"technology\", \"technology\", \"termination\", \"test\", \"test\", \"test\", \"test\", \"testing\", \"testing\", \"testing\", \"testing\", \"therapeutic\", \"training\", \"training\", \"training\", \"training\", \"treasury\", \"treasury\", \"troubleshooting\", \"troubleshooting\", \"troubleshooting\", \"troubleshooting\", \"university\", \"university\", \"university\", \"university\", \"upgrade\", \"upgrade\", \"upgrade\", \"upgrade\", \"user\", \"user\", \"user\", \"using\", \"using\", \"using\", \"using\", \"utensil\", \"variance\", \"vpn\", \"wage\", \"wage\", \"wan\", \"website\", \"website\", \"website\", \"website\", \"weight\", \"weight\", \"welding\", \"window\", \"window\", \"window\", \"window\", \"work\", \"work\", \"work\", \"work\", \"wound\", \"wy\", \"xml\", \"yoga\"]}, \"R\": 30, \"lambda.step\": 0.01, \"plot.opts\": {\"xlab\": \"PC1\", \"ylab\": \"PC2\"}, \"topic.order\": [3, 4, 1, 2]};\n",
       "\n",
       "function LDAvis_load_lib(url, callback){\n",
       "  var s = document.createElement('script');\n",
       "  s.src = url;\n",
       "  s.async = true;\n",
       "  s.onreadystatechange = s.onload = callback;\n",
       "  s.onerror = function(){console.warn(\"failed to load library \" + url);};\n",
       "  document.getElementsByTagName(\"head\")[0].appendChild(s);\n",
       "}\n",
       "\n",
       "if(typeof(LDAvis) !== \"undefined\"){\n",
       "   // already loaded: just create the visualization\n",
       "   !function(LDAvis){\n",
       "       new LDAvis(\"#\" + \"ldavis_el263618412291647207449498791\", ldavis_el263618412291647207449498791_data);\n",
       "   }(LDAvis);\n",
       "}else if(typeof define === \"function\" && define.amd){\n",
       "   // require.js is available: use it to load d3/LDAvis\n",
       "   require.config({paths: {d3: \"https://d3js.org/d3.v5\"}});\n",
       "   require([\"d3\"], function(d3){\n",
       "      window.d3 = d3;\n",
       "      LDAvis_load_lib(\"https://cdn.jsdelivr.net/gh/bmabey/pyLDAvis@3.4.0/pyLDAvis/js/ldavis.v3.0.0.js\", function(){\n",
       "        new LDAvis(\"#\" + \"ldavis_el263618412291647207449498791\", ldavis_el263618412291647207449498791_data);\n",
       "      });\n",
       "    });\n",
       "}else{\n",
       "    // require.js not available: dynamically load d3 & LDAvis\n",
       "    LDAvis_load_lib(\"https://d3js.org/d3.v5.js\", function(){\n",
       "         LDAvis_load_lib(\"https://cdn.jsdelivr.net/gh/bmabey/pyLDAvis@3.4.0/pyLDAvis/js/ldavis.v3.0.0.js\", function(){\n",
       "                 new LDAvis(\"#\" + \"ldavis_el263618412291647207449498791\", ldavis_el263618412291647207449498791_data);\n",
       "            })\n",
       "         });\n",
       "}\n",
       "</script>"
      ],
      "text/plain": [
       "PreparedData(topic_coordinates=              x         y  topics  cluster       Freq\n",
       "topic                                                \n",
       "2      0.032417 -0.005577       1        1  28.052168\n",
       "3      0.106296  0.051770       2        1  27.739142\n",
       "0     -0.023824 -0.116722       3        1  22.507677\n",
       "1     -0.114889  0.070529       4        1  21.701013, topic_info=            Term         Freq        Total Category  logprob  loglift\n",
       "156    marketing  1826.000000  1826.000000  Default  30.0000  30.0000\n",
       "72      customer  4752.000000  4752.000000  Default  29.0000  29.0000\n",
       "483      project  3202.000000  3202.000000  Default  28.0000  28.0000\n",
       "529       system  2721.000000  2721.000000  Default  27.0000  27.0000\n",
       "223         sale  3445.000000  3445.000000  Default  26.0000  26.0000\n",
       "..           ...          ...          ...      ...      ...      ...\n",
       "98    experience   478.954031  2212.447335   Topic4  -5.6510  -0.0024\n",
       "376  development   460.549586  2272.024900   Topic4  -5.6901  -0.0682\n",
       "227      service   480.884278  3666.142730   Topic4  -5.6469  -0.5035\n",
       "231        skill   456.533789  3207.983132   Topic4  -5.6989  -0.4219\n",
       "170          new   434.195197  2471.836806   Topic4  -5.7491  -0.2114\n",
       "\n",
       "[372 rows x 6 columns], token_table=      Topic      Freq     Term\n",
       "term                          \n",
       "4517      4  0.988804       3d\n",
       "8         1  0.670871  account\n",
       "8         2  0.083587  account\n",
       "8         3  0.228508  account\n",
       "8         4  0.017369  account\n",
       "...     ...       ...      ...\n",
       "275       4  0.286472     work\n",
       "9499      2  0.961537    wound\n",
       "9626      3  0.965180       wy\n",
       "5840      4  0.979793      xml\n",
       "1903      2  0.977560     yoga\n",
       "\n",
       "[793 rows x 3 columns], R=30, lambda_step=0.01, plot_opts={'xlab': 'PC1', 'ylab': 'PC2'}, topic_order=[3, 4, 1, 2])"
      ]
     },
     "execution_count": 145,
     "metadata": {},
     "output_type": "execute_result"
    }
   ],
   "source": [
    "pyLDAvis.enable_notebook()\n",
    "pyLDAvis.gensim_models.prepare(ldamodel, bow, dictionary)"
   ]
  }
 ],
 "metadata": {
  "colab": {
   "name": "Resume_Analysis_With_Spacy.ipynb",
   "provenance": []
  },
  "kernelspec": {
   "display_name": "Python 3 (ipykernel)",
   "language": "python",
   "name": "python3"
  },
  "language_info": {
   "codemirror_mode": {
    "name": "ipython",
    "version": 3
   },
   "file_extension": ".py",
   "mimetype": "text/x-python",
   "name": "python",
   "nbconvert_exporter": "python",
   "pygments_lexer": "ipython3",
   "version": "3.11.1"
  }
 },
 "nbformat": 4,
 "nbformat_minor": 1
}
